{
  "cells": [
    {
      "attachments": {},
      "cell_type": "markdown",
      "metadata": {
        "id": "0aStgWSO0E0E"
      },
      "source": [
        "# **Modelling and Evaluation V4**"
      ]
    },
    {
      "attachments": {},
      "cell_type": "markdown",
      "metadata": {
        "id": "1eLEkw5O0ECa"
      },
      "source": [
        "## Objectives\n",
        "\n",
        "* Answer business requirement 1:\n",
        "    * The client aims to visually differentiate lesions. The model should be capable of reaching an accuracy of at least 70%.\n",
        "<br><br>\n",
        "\n",
        "* Answer business requirement 2:\n",
        "    - The model should provide a confidence level for each prediction.\n",
        "<br><br>\n",
        "\n",
        "* Answer business requirement 3:\n",
        "    - If a skin lesion is predicted as malignant with high confidence, the system should recommend immediate medical consultation.\n",
        "<br><br>\n",
        "\n",
        "* Answer business requirement 5:\n",
        "    - The AI model's insights should assist healthcare professionals in making informed decisions about the treatment process.\n",
        "<br><br>\n",
        "\n",
        "* Answer business requirement 6:\n",
        "    - The model's performance will be evaluated using balanced performance metrics such as F1 Score.\n",
        "<br><br>\n",
        "## Inputs\n",
        "\n",
        "* inputs/skin_cancer_dataset/sorted_images/train\n",
        "* inputs/skin_cancer_dataset/sorted_images/test\n",
        "* inputs/skin_cancer_dataset/sorted_images/validation\n",
        "* image shape embeddings\n",
        "\n",
        "## Outputs\n",
        "\n",
        "* Images distribution plot in train, validation, and test set.\n",
        "* Image augmentation.\n",
        "* Class indices to change prediction inference in labels.\n",
        "* Machine learning model creation and training.\n",
        "Save model.\n",
        "* Learning curve plot for model performance.\n",
        "* Model evaluation on pickle file.\n",
        "* Prediction on the random image file.\n",
        "\n",
        "## Additional Comments\n",
        "\n",
        "* V4 - Using OpenCV to load the images and resize them smaller. Use SMOTE to fix the imbalance\n",
        "<br><br>"
      ]
    },
    {
      "attachments": {},
      "cell_type": "markdown",
      "metadata": {
        "id": "9uWZXH9LwoQg"
      },
      "source": [
        "---"
      ]
    },
    {
      "attachments": {},
      "cell_type": "markdown",
      "metadata": {},
      "source": [
        "---"
      ]
    },
    {
      "attachments": {},
      "cell_type": "markdown",
      "metadata": {},
      "source": [
        "# Import regular packages"
      ]
    },
    {
      "cell_type": "code",
      "execution_count": 1,
      "metadata": {},
      "outputs": [
        {
          "name": "stderr",
          "output_type": "stream",
          "text": [
            "2023-06-18 22:27:37.219147: I tensorflow/core/platform/cpu_feature_guard.cc:182] This TensorFlow binary is optimized to use available CPU instructions in performance-critical operations.\n",
            "To enable the following instructions: AVX2 FMA, in other operations, rebuild TensorFlow with the appropriate compiler flags.\n"
          ]
        }
      ],
      "source": [
        "import os\n",
        "import pandas as pd\n",
        "import numpy as np\n",
        "import matplotlib.pyplot as plt\n",
        "import seaborn as sns\n",
        "from matplotlib.image import imread\n",
        "from tensorflow.keras.preprocessing.image import ImageDataGenerator\n",
        "import joblib"
      ]
    },
    {
      "attachments": {},
      "cell_type": "markdown",
      "metadata": {},
      "source": [
        "---"
      ]
    },
    {
      "attachments": {},
      "cell_type": "markdown",
      "metadata": {},
      "source": [
        "# Change working directory"
      ]
    },
    {
      "cell_type": "code",
      "execution_count": 2,
      "metadata": {},
      "outputs": [
        {
          "data": {
            "text/plain": [
              "'/Users/danielhamilton/CI/project5/AI-DermDiagnosis/jupyter_notebooks'"
            ]
          },
          "execution_count": 2,
          "metadata": {},
          "output_type": "execute_result"
        }
      ],
      "source": [
        "current_dir = os.getcwd()\n",
        "current_dir"
      ]
    },
    {
      "cell_type": "code",
      "execution_count": 3,
      "metadata": {},
      "outputs": [
        {
          "name": "stdout",
          "output_type": "stream",
          "text": [
            "You set a new current directory\n"
          ]
        }
      ],
      "source": [
        "os.chdir(os.path.dirname(current_dir))\n",
        "print(\"You set a new current directory\")"
      ]
    },
    {
      "cell_type": "code",
      "execution_count": 4,
      "metadata": {},
      "outputs": [
        {
          "data": {
            "text/plain": [
              "'/Users/danielhamilton/CI/project5/AI-DermDiagnosis'"
            ]
          },
          "execution_count": 4,
          "metadata": {},
          "output_type": "execute_result"
        }
      ],
      "source": [
        "current_dir = os.getcwd()\n",
        "current_dir"
      ]
    },
    {
      "attachments": {},
      "cell_type": "markdown",
      "metadata": {},
      "source": [
        "---"
      ]
    },
    {
      "attachments": {},
      "cell_type": "markdown",
      "metadata": {},
      "source": [
        "## Set input directories"
      ]
    },
    {
      "attachments": {},
      "cell_type": "markdown",
      "metadata": {
        "id": "9MWW8E7lz3i7"
      },
      "source": [
        "Set train, validation and test paths."
      ]
    },
    {
      "cell_type": "code",
      "execution_count": 5,
      "metadata": {
        "id": "TwHsQRWjz3i9",
        "outputId": "86849db3-cd2f-4cc5-ebb8-2d0caafa1a2c"
      },
      "outputs": [],
      "source": [
        "my_data_dir = 'inputs/skin_cancer_dataset/sorted_images'\n",
        "train_path = my_data_dir + '/train'\n",
        "val_path = my_data_dir + '/validation'\n",
        "test_path = my_data_dir + '/test'"
      ]
    },
    {
      "attachments": {},
      "cell_type": "markdown",
      "metadata": {},
      "source": [
        "## Set output directory"
      ]
    },
    {
      "cell_type": "code",
      "execution_count": 6,
      "metadata": {},
      "outputs": [
        {
          "name": "stdout",
          "output_type": "stream",
          "text": [
            "Old version is already available create a new version.\n"
          ]
        }
      ],
      "source": [
        "version = 'modelling_evaluation_v4'\n",
        "file_path = f'outputs/{version}'\n",
        "\n",
        "if 'outputs' in os.listdir(current_dir) and version in os.listdir(current_dir + '/outputs'):\n",
        "    print('Old version is already available create a new version.')\n",
        "    pass\n",
        "else:\n",
        "    os.makedirs(name=file_path)"
      ]
    },
    {
      "attachments": {},
      "cell_type": "markdown",
      "metadata": {},
      "source": [
        "## Set label names"
      ]
    },
    {
      "cell_type": "code",
      "execution_count": 7,
      "metadata": {},
      "outputs": [
        {
          "name": "stdout",
          "output_type": "stream",
          "text": [
            "Label for train set the images are ['akiec', 'df', 'bkl', 'vasc', 'nv', 'bcc', 'mel'] there are 7\n",
            "Label for test set the images are ['akiec', 'df', 'bkl', 'vasc', 'nv', 'bcc', 'mel'] there are 7\n",
            "Label for val set the images are ['akiec', 'df', 'bkl', 'vasc', 'nv', 'bcc', 'mel'] there are 7\n"
          ]
        }
      ],
      "source": [
        "# Set the labels\n",
        "train_labels = os.listdir(train_path)\n",
        "print('Label for train set the images are', train_labels, 'there are', len(train_labels) )\n",
        "test_labels = os.listdir(test_path)\n",
        "print('Label for test set the images are', test_labels, 'there are', len(test_labels) )\n",
        "val_labels = os.listdir(val_path)\n",
        "print('Label for val set the images are', val_labels, 'there are', len(val_labels) )"
      ]
    },
    {
      "attachments": {},
      "cell_type": "markdown",
      "metadata": {},
      "source": [
        "## Set image shape"
      ]
    },
    {
      "cell_type": "code",
      "execution_count": 8,
      "metadata": {},
      "outputs": [
        {
          "data": {
            "text/plain": [
              "(-1, 28, 28, 3)"
            ]
          },
          "execution_count": 8,
          "metadata": {},
          "output_type": "execute_result"
        }
      ],
      "source": [
        "image_shape = (-1,28,28,3)\n",
        "image_shape"
      ]
    },
    {
      "cell_type": "code",
      "execution_count": 9,
      "metadata": {},
      "outputs": [
        {
          "data": {
            "text/plain": [
              "['outputs/modelling_evaluation_v4/image_shape.pkl']"
            ]
          },
          "execution_count": 9,
          "metadata": {},
          "output_type": "execute_result"
        }
      ],
      "source": [
        "joblib.dump(value=image_shape ,\n",
        "            filename=f\"{file_path}/image_shape.pkl\")"
      ]
    },
    {
      "cell_type": "code",
      "execution_count": 10,
      "metadata": {},
      "outputs": [
        {
          "data": {
            "text/plain": [
              "(-1, 28, 28, 3)"
            ]
          },
          "execution_count": 10,
          "metadata": {},
          "output_type": "execute_result"
        }
      ],
      "source": [
        "## Import saved image shape embedding\n",
        "import joblib\n",
        "image_shape = joblib.load(filename=f\"{file_path}/image_shape.pkl\")\n",
        "image_shape"
      ]
    },
    {
      "attachments": {},
      "cell_type": "markdown",
      "metadata": {
        "id": "ZY3l0-AxO93d"
      },
      "source": [
        "---"
      ]
    },
    {
      "attachments": {},
      "cell_type": "markdown",
      "metadata": {},
      "source": [
        "## Build training, validation and test set"
      ]
    },
    {
      "cell_type": "code",
      "execution_count": 21,
      "metadata": {},
      "outputs": [],
      "source": [
        "import os\n",
        "import cv2\n",
        "import numpy as np\n",
        "import pandas as pd\n",
        "from sklearn.preprocessing import LabelEncoder\n",
        "\n",
        "\n",
        "def load_images_from_directory(directory_path):\n",
        "    # Get the list of all classes (subdirectories)\n",
        "    classes = os.listdir(directory_path)\n",
        "    \n",
        "    # Initialize the list that will contain all images\n",
        "    X = []\n",
        "    \n",
        "    # Initialize the list that will contain all labels\n",
        "    y = []\n",
        "    \n",
        "    # For each class (subdirectory)\n",
        "    for class_name in classes:\n",
        "        # Get the list of all images in this subdirectory\n",
        "        images = os.listdir(os.path.join(directory_path, class_name))\n",
        "        \n",
        "        # For each image\n",
        "        for image_name in images:\n",
        "            # Construct the full path to the image\n",
        "            image_path = os.path.join(directory_path, class_name, image_name)\n",
        "            \n",
        "            # Read the image and resize it to 28x28\n",
        "            image = cv2.imread(image_path)\n",
        "            image = cv2.resize(image, (28, 28))\n",
        "\n",
        "            # Convert from BGR to RGB\n",
        "            image = cv2.cvtColor(image, cv2.COLOR_BGR2RGB)\n",
        "            \n",
        "            # Add this image to the list of all images\n",
        "            X.append(image)\n",
        "            \n",
        "            # Add the label (class name) of this image to the list of all labels\n",
        "            y.append(class_name)\n",
        "    \n",
        "    # Convert the list of images into a numpy array\n",
        "    X = np.array(X)\n",
        "    \n",
        "    # Convert the labels into integers\n",
        "    label_encoder = LabelEncoder()\n",
        "    y_encoded = label_encoder.fit_transform(y)\n",
        "    \n",
        "    return X, y_encoded, label_encoder.classes_, label_encoder\n",
        "\n",
        "\n",
        "# Load the datasets\n",
        "X_train, y_train, train_classes, train_label_encoder = load_images_from_directory(train_path)\n",
        "X_test, y_test, test_classes, test_label_encoder = load_images_from_directory(test_path)\n",
        "X_val, y_val, val_classes, val_label_encoder = load_images_from_directory(val_path)"
      ]
    },
    {
      "cell_type": "code",
      "execution_count": 22,
      "metadata": {},
      "outputs": [],
      "source": [
        "def print_encoded_labels(label_encoder):\n",
        "    # Print the class names for each label\n",
        "    for idx, class_name in enumerate(label_encoder.classes_):\n",
        "        print(f\"Encoded Label {idx} corresponds to class {class_name}\")"
      ]
    },
    {
      "cell_type": "code",
      "execution_count": 23,
      "metadata": {},
      "outputs": [
        {
          "name": "stdout",
          "output_type": "stream",
          "text": [
            "Training Set:\n",
            "Encoded Label 0 corresponds to class akiec\n",
            "Encoded Label 1 corresponds to class bcc\n",
            "Encoded Label 2 corresponds to class bkl\n",
            "Encoded Label 3 corresponds to class df\n",
            "Encoded Label 4 corresponds to class mel\n",
            "Encoded Label 5 corresponds to class nv\n",
            "Encoded Label 6 corresponds to class vasc\n",
            "Test Set:\n",
            "Encoded Label 0 corresponds to class akiec\n",
            "Encoded Label 1 corresponds to class bcc\n",
            "Encoded Label 2 corresponds to class bkl\n",
            "Encoded Label 3 corresponds to class df\n",
            "Encoded Label 4 corresponds to class mel\n",
            "Encoded Label 5 corresponds to class nv\n",
            "Encoded Label 6 corresponds to class vasc\n",
            "Validation Set:\n",
            "Encoded Label 0 corresponds to class akiec\n",
            "Encoded Label 1 corresponds to class bcc\n",
            "Encoded Label 2 corresponds to class bkl\n",
            "Encoded Label 3 corresponds to class df\n",
            "Encoded Label 4 corresponds to class mel\n",
            "Encoded Label 5 corresponds to class nv\n",
            "Encoded Label 6 corresponds to class vasc\n"
          ]
        }
      ],
      "source": [
        "# Print the encoded labels for the training set\n",
        "print(\"Training Set:\")\n",
        "print_encoded_labels(train_label_encoder)\n",
        "\n",
        "# Print the encoded labels for the test set\n",
        "print(\"Test Set:\")\n",
        "print_encoded_labels(test_label_encoder)\n",
        "\n",
        "# Print the encoded labels for the validation set\n",
        "print(\"Validation Set:\")\n",
        "print_encoded_labels(val_label_encoder)"
      ]
    },
    {
      "attachments": {},
      "cell_type": "markdown",
      "metadata": {},
      "source": [
        "## SMOTE"
      ]
    },
    {
      "cell_type": "code",
      "execution_count": 24,
      "metadata": {},
      "outputs": [],
      "source": [
        "import pandas as pd\n",
        "\n",
        "def create_dataframe(X_train, y_train_encoded):\n",
        "    # Reshape the data and create a DataFrame\n",
        "    data = X_train.reshape(X_train.shape[0], -1)\n",
        "    data = pd.DataFrame(data)\n",
        "    data['label'] = y_train_encoded\n",
        "    return data"
      ]
    },
    {
      "cell_type": "code",
      "execution_count": 25,
      "metadata": {},
      "outputs": [],
      "source": [
        "Train_data = create_dataframe(X_train, y_train)\n",
        "Label_train = Train_data[\"label\"]\n",
        "Data_train = Train_data.drop(columns=[\"label\"]) "
      ]
    },
    {
      "cell_type": "code",
      "execution_count": 26,
      "metadata": {},
      "outputs": [
        {
          "name": "stderr",
          "output_type": "stream",
          "text": [
            "/Users/danielhamilton/.pyenv/versions/3.8.12/lib/python3.8/site-packages/seaborn/_decorators.py:36: FutureWarning: Pass the following variable as a keyword arg: x. From version 0.12, the only valid positional argument will be `data`, and passing other arguments without an explicit keyword will result in an error or misinterpretation.\n",
            "  warnings.warn(\n"
          ]
        },
        {
          "data": {
            "text/plain": [
              "<AxesSubplot:xlabel='label', ylabel='count'>"
            ]
          },
          "execution_count": 26,
          "metadata": {},
          "output_type": "execute_result"
        },
        {
          "data": {
            "image/png": "[encoded data removed]",
            "text/plain": [
              "<Figure size 1000x1000 with 1 Axes>"
            ]
          },
          "metadata": {},
          "output_type": "display_data"
        }
      ],
      "source": [
        "plt.figure(figsize = (10,10))\n",
        "sns.set_style(\"darkgrid\")\n",
        "sns.countplot(Label_train)"
      ]
    },
    {
      "cell_type": "code",
      "execution_count": 27,
      "metadata": {},
      "outputs": [
        {
          "name": "stdout",
          "output_type": "stream",
          "text": [
            "Shape of Data: (32851, 28, 28, 3)\n"
          ]
        }
      ],
      "source": [
        "from imblearn.over_sampling import SMOTE\n",
        "\n",
        "# Create SMOTE instance\n",
        "oversample = SMOTE()\n",
        "\n",
        "# Apply SMOTE to the training data (not test data)\n",
        "Data_train, Label_train = oversample.fit_resample(Data_train, Label_train)\n",
        "\n",
        "# Reshape the data if needed\n",
        "Data_train = np.array(Data_train).reshape(image_shape)\n",
        "\n",
        "# Print the shape of the data\n",
        "print('Shape of Data:', Data_train.shape)"
      ]
    },
    {
      "cell_type": "code",
      "execution_count": 28,
      "metadata": {},
      "outputs": [
        {
          "name": "stderr",
          "output_type": "stream",
          "text": [
            "/Users/danielhamilton/.pyenv/versions/3.8.12/lib/python3.8/site-packages/seaborn/_decorators.py:36: FutureWarning: Pass the following variable as a keyword arg: x. From version 0.12, the only valid positional argument will be `data`, and passing other arguments without an explicit keyword will result in an error or misinterpretation.\n",
            "  warnings.warn(\n"
          ]
        },
        {
          "data": {
            "text/plain": [
              "<AxesSubplot:xlabel='label', ylabel='count'>"
            ]
          },
          "execution_count": 28,
          "metadata": {},
          "output_type": "execute_result"
        },
        {
          "data": {
            "image/png": "[encoded data removed]",
            "text/plain": [
              "<Figure size 1000x1000 with 1 Axes>"
            ]
          },
          "metadata": {},
          "output_type": "display_data"
        }
      ],
      "source": [
        "plt.figure(figsize = (10,10))\n",
        "sns.set_style(\"darkgrid\")\n",
        "sns.countplot(Label_train)"
      ]
    },
    {
      "cell_type": "code",
      "execution_count": 31,
      "metadata": {},
      "outputs": [
        {
          "data": {
            "text/plain": [
              "array([0, 0, 0, ..., 6, 6, 6])"
            ]
          },
          "execution_count": 31,
          "metadata": {},
          "output_type": "execute_result"
        }
      ],
      "source": [
        "Label = np.array(Label_train)\n",
        "Label"
      ]
    },
    {
      "cell_type": "code",
      "execution_count": 32,
      "metadata": {},
      "outputs": [],
      "source": [
        "classes = {5: ('nv', ' melanocytic nevi'),\n",
        "           4: ('mel', 'melanoma'),\n",
        "           2 :('bkl', 'benign keratosis-like lesions'), \n",
        "           1:('bcc' , ' basal cell carcinoma'),\n",
        "           6: ('vasc', ' pyogenic granulomas and hemorrhage'),\n",
        "           0: ('akiec', 'Actinic keratoses and intraepithelial carcinomae'),\n",
        "           3: ('df', 'dermatofibroma')}"
      ]
    },
    {
      "cell_type": "code",
      "execution_count": 34,
      "metadata": {},
      "outputs": [],
      "source": [
        "X_train = Data_train\n",
        "y_train = Label"
      ]
    },
    {
      "cell_type": "code",
      "execution_count": 37,
      "metadata": {},
      "outputs": [
        {
          "name": "stdout",
          "output_type": "stream",
          "text": [
            "(32851, 28, 28, 3)\n",
            "(2010, 28, 28, 3)\n",
            "(998, 28, 28, 3)\n",
            "(32851,)\n",
            "(2010,)\n",
            "(998,)\n"
          ]
        }
      ],
      "source": [
        "print(X_train.shape)\n",
        "print(X_test.shape)\n",
        "print(X_val.shape)\n",
        "print(y_train.shape)\n",
        "print(y_test.shape)\n",
        "print(y_val.shape)\n"
      ]
    },
    {
      "cell_type": "code",
      "execution_count": 38,
      "metadata": {},
      "outputs": [
        {
          "data": {
            "image/png": "[encoded data removed]",
            "text/plain": [
              "<Figure size 1000x1000 with 10 Axes>"
            ]
          },
          "metadata": {},
          "output_type": "display_data"
        }
      ],
      "source": [
        "f , ax = plt.subplots(2,5)\n",
        "f.set_size_inches(10, 10)\n",
        "k = 0 \n",
        "for i in range(2):\n",
        "    for j in range(5):\n",
        "        ax[i,j].imshow(X_train[k].reshape(28,28,3))\n",
        "        k = k + 1\n",
        "    plt.tight_layout()"
      ]
    },
    {
      "attachments": {},
      "cell_type": "markdown",
      "metadata": {},
      "source": [
        "---"
      ]
    },
    {
      "attachments": {},
      "cell_type": "markdown",
      "metadata": {},
      "source": [
        "# Model creation"
      ]
    },
    {
      "attachments": {},
      "cell_type": "markdown",
      "metadata": {},
      "source": [
        "---"
      ]
    },
    {
      "attachments": {},
      "cell_type": "markdown",
      "metadata": {},
      "source": [
        "## ML model"
      ]
    },
    {
      "attachments": {},
      "cell_type": "markdown",
      "metadata": {},
      "source": [
        "### Import model packages"
      ]
    },
    {
      "cell_type": "code",
      "execution_count": 39,
      "metadata": {},
      "outputs": [],
      "source": [
        "from tensorflow.keras.layers import Flatten, Dense, Dropout, BatchNormalization, Activation\n",
        "from tensorflow.keras.models import Sequential\n",
        "from tensorflow.keras.optimizers import Adam\n",
        "from tensorflow.keras.applications import Xception\n",
        "from keras.utils import to_categorical\n",
        "from tensorflow.keras.models import Sequential\n",
        "from tensorflow.keras.layers import Activation, Dropout, Flatten, Dense, Conv2D, MaxPooling2D\n",
        "from tensorflow.keras import regularizers\n",
        "import tensorflow as tf\n"
      ]
    },
    {
      "cell_type": "code",
      "execution_count": 40,
      "metadata": {},
      "outputs": [],
      "source": [
        "y_train = to_categorical(y_train)\n",
        "y_test = to_categorical(y_test)\n",
        "y_val = to_categorical(y_val)"
      ]
    },
    {
      "cell_type": "code",
      "execution_count": 41,
      "metadata": {},
      "outputs": [
        {
          "name": "stdout",
          "output_type": "stream",
          "text": [
            "[[1. 0. 0. ... 0. 0. 0.]\n",
            " [1. 0. 0. ... 0. 0. 0.]\n",
            " [1. 0. 0. ... 0. 0. 0.]\n",
            " ...\n",
            " [0. 0. 0. ... 0. 0. 1.]\n",
            " [0. 0. 0. ... 0. 0. 1.]\n",
            " [0. 0. 0. ... 0. 0. 1.]]\n"
          ]
        }
      ],
      "source": [
        "print(y_train)"
      ]
    },
    {
      "cell_type": "code",
      "execution_count": 43,
      "metadata": {},
      "outputs": [],
      "source": [
        "datagen = ImageDataGenerator(rescale=(1./255)\n",
        "                             ,rotation_range=10\n",
        "                             ,zoom_range = 0.1\n",
        "                             ,width_shift_range=0.1\n",
        "                             ,height_shift_range=0.1)\n",
        "testgen = ImageDataGenerator(rescale=(1./255))"
      ]
    },
    {
      "cell_type": "code",
      "execution_count": 44,
      "metadata": {},
      "outputs": [],
      "source": [
        "from keras.callbacks import ReduceLROnPlateau\n",
        "learning_rate_reduction = ReduceLROnPlateau(monitor='val_accuracy'\n",
        "                                            , patience = 2\n",
        "                                            , verbose=1\n",
        "                                            ,factor=0.5\n",
        "                                            , min_lr=0.00001)"
      ]
    },
    {
      "attachments": {},
      "cell_type": "markdown",
      "metadata": {},
      "source": [
        "### Model"
      ]
    },
    {
      "cell_type": "code",
      "execution_count": 45,
      "metadata": {},
      "outputs": [],
      "source": [
        "def create_model(num_classes, input_shape=(28,28,3)):\n",
        "    # Initialize the Sequential model\n",
        "    model = Sequential()\n",
        "\n",
        "    # Adding Convolutional Layers\n",
        "    model.add(Conv2D(32, (3,3), padding='same', activation='relu', kernel_initializer='he_normal', input_shape=input_shape))\n",
        "    model.add(MaxPooling2D())\n",
        "    model.add(BatchNormalization())\n",
        "\n",
        "    model.add(Conv2D(64, (3,3), padding='same', activation='relu', kernel_initializer='he_normal'))\n",
        "    model.add(Conv2D(64, (3,3), padding='same', activation='relu', kernel_initializer='he_normal'))\n",
        "    model.add(MaxPooling2D())\n",
        "    model.add(BatchNormalization())\n",
        "\n",
        "    model.add(Conv2D(128, (3,3), padding='same', activation='relu', kernel_initializer='he_normal'))\n",
        "    model.add(Conv2D(128, (3,3), padding='same', activation='relu', kernel_initializer='he_normal'))\n",
        "    model.add(MaxPooling2D())\n",
        "    model.add(BatchNormalization())\n",
        "\n",
        "    model.add(Conv2D(256, (3,3), padding='same', activation='relu', kernel_initializer='he_normal'))\n",
        "    model.add(Conv2D(256, (3,3), padding='same', activation='relu', kernel_initializer='he_normal'))\n",
        "    model.add(MaxPooling2D())\n",
        "\n",
        "    # Adding Flatten Layer\n",
        "    model.add(Flatten())\n",
        "\n",
        "    # Adding Dense Layers\n",
        "    model.add(Dropout(0.2))\n",
        "    model.add(Dense(256, activation='relu', kernel_initializer='he_normal'))\n",
        "    model.add(BatchNormalization())\n",
        "    \n",
        "    model.add(Dense(128, activation='relu', kernel_initializer='he_normal'))\n",
        "    model.add(BatchNormalization())\n",
        "\n",
        "    model.add(Dense(64, activation='relu', kernel_initializer='he_normal'))\n",
        "    model.add(BatchNormalization())\n",
        "\n",
        "    model.add(Dense(32, activation='relu', kernel_initializer='he_normal', kernel_regularizer=regularizers.L1L2()))\n",
        "    model.add(BatchNormalization())\n",
        "    \n",
        "    # Output Layer\n",
        "    model.add(Dense(num_classes, activation='softmax', kernel_initializer='glorot_uniform'))\n",
        "\n",
        "    # Compiling the model\n",
        "    model.compile(loss='categorical_crossentropy',\n",
        "                  optimizer='adam',\n",
        "                  metrics=['accuracy'])\n",
        "\n",
        "    # Return the compiled model\n",
        "    return model"
      ]
    },
    {
      "cell_type": "code",
      "execution_count": 46,
      "metadata": {},
      "outputs": [
        {
          "name": "stdout",
          "output_type": "stream",
          "text": [
            "Model: \"sequential\"\n",
            "_________________________________________________________________\n",
            " Layer (type)                Output Shape              Param #   \n",
            "=================================================================\n",
            " conv2d (Conv2D)             (None, 28, 28, 32)        896       \n",
            "                                                                 \n",
            " max_pooling2d (MaxPooling2D  (None, 14, 14, 32)       0         \n",
            " )                                                               \n",
            "                                                                 \n",
            " batch_normalization (BatchN  (None, 14, 14, 32)       128       \n",
            " ormalization)                                                   \n",
            "                                                                 \n",
            " conv2d_1 (Conv2D)           (None, 14, 14, 64)        18496     \n",
            "                                                                 \n",
            " conv2d_2 (Conv2D)           (None, 14, 14, 64)        36928     \n",
            "                                                                 \n",
            " max_pooling2d_1 (MaxPooling  (None, 7, 7, 64)         0         \n",
            " 2D)                                                             \n",
            "                                                                 \n",
            " batch_normalization_1 (Batc  (None, 7, 7, 64)         256       \n",
            " hNormalization)                                                 \n",
            "                                                                 \n",
            " conv2d_3 (Conv2D)           (None, 7, 7, 128)         73856     \n",
            "                                                                 \n",
            " conv2d_4 (Conv2D)           (None, 7, 7, 128)         147584    \n",
            "                                                                 \n",
            " max_pooling2d_2 (MaxPooling  (None, 3, 3, 128)        0         \n",
            " 2D)                                                             \n",
            "                                                                 \n",
            " batch_normalization_2 (Batc  (None, 3, 3, 128)        512       \n",
            " hNormalization)                                                 \n",
            "                                                                 \n",
            " conv2d_5 (Conv2D)           (None, 3, 3, 256)         295168    \n",
            "                                                                 \n",
            " conv2d_6 (Conv2D)           (None, 3, 3, 256)         590080    \n",
            "                                                                 \n",
            " max_pooling2d_3 (MaxPooling  (None, 1, 1, 256)        0         \n",
            " 2D)                                                             \n",
            "                                                                 \n",
            " flatten (Flatten)           (None, 256)               0         \n",
            "                                                                 \n",
            " dropout (Dropout)           (None, 256)               0         \n",
            "                                                                 \n",
            " dense (Dense)               (None, 256)               65792     \n",
            "                                                                 \n",
            " batch_normalization_3 (Batc  (None, 256)              1024      \n",
            " hNormalization)                                                 \n",
            "                                                                 \n",
            " dense_1 (Dense)             (None, 128)               32896     \n",
            "                                                                 \n",
            " batch_normalization_4 (Batc  (None, 128)              512       \n",
            " hNormalization)                                                 \n",
            "                                                                 \n",
            " dense_2 (Dense)             (None, 64)                8256      \n",
            "                                                                 \n",
            " batch_normalization_5 (Batc  (None, 64)               256       \n",
            " hNormalization)                                                 \n",
            "                                                                 \n",
            " dense_3 (Dense)             (None, 32)                2080      \n",
            "                                                                 \n",
            " batch_normalization_6 (Batc  (None, 32)               128       \n",
            " hNormalization)                                                 \n",
            "                                                                 \n",
            " dense_4 (Dense)             (None, 7)                 231       \n",
            "                                                                 \n",
            "=================================================================\n",
            "Total params: 1,275,079\n",
            "Trainable params: 1,273,671\n",
            "Non-trainable params: 1,408\n",
            "_________________________________________________________________\n"
          ]
        }
      ],
      "source": [
        "create_model(num_classes=7).summary()"
      ]
    },
    {
      "cell_type": "code",
      "execution_count": 48,
      "metadata": {},
      "outputs": [
        {
          "name": "stdout",
          "output_type": "stream",
          "text": [
            "Epoch 1/35\n",
            "257/257 [==============================] - 47s 172ms/step - loss: 1.6363 - accuracy: 0.3475 - val_loss: 1.6488 - val_accuracy: 0.6667 - lr: 0.0010\n",
            "Epoch 2/35\n",
            "257/257 [==============================] - 45s 173ms/step - loss: 1.2629 - accuracy: 0.4955 - val_loss: 1.1537 - val_accuracy: 0.6925 - lr: 0.0010\n",
            "Epoch 3/35\n",
            "257/257 [==============================] - 47s 182ms/step - loss: 1.0023 - accuracy: 0.6105 - val_loss: 0.9048 - val_accuracy: 0.6572 - lr: 0.0010\n",
            "Epoch 4/35\n",
            "257/257 [==============================] - ETA: 0s - loss: 0.7885 - accuracy: 0.6977\n",
            "Epoch 4: ReduceLROnPlateau reducing learning rate to 0.0005000000237487257.\n",
            "257/257 [==============================] - 47s 183ms/step - loss: 0.7885 - accuracy: 0.6977 - val_loss: 0.9496 - val_accuracy: 0.6512 - lr: 0.0010\n",
            "Epoch 5/35\n",
            "257/257 [==============================] - 46s 179ms/step - loss: 0.5312 - accuracy: 0.8000 - val_loss: 0.8826 - val_accuracy: 0.6960 - lr: 5.0000e-04\n",
            "Epoch 6/35\n",
            "257/257 [==============================] - 47s 181ms/step - loss: 0.3979 - accuracy: 0.8534 - val_loss: 0.9548 - val_accuracy: 0.7269 - lr: 5.0000e-04\n",
            "Epoch 7/35\n",
            "257/257 [==============================] - 46s 181ms/step - loss: 0.3090 - accuracy: 0.8879 - val_loss: 0.9201 - val_accuracy: 0.7119 - lr: 5.0000e-04\n",
            "Epoch 8/35\n",
            "257/257 [==============================] - ETA: 0s - loss: 0.2404 - accuracy: 0.9141\n",
            "Epoch 8: ReduceLROnPlateau reducing learning rate to 0.0002500000118743628.\n",
            "257/257 [==============================] - 46s 178ms/step - loss: 0.2404 - accuracy: 0.9141 - val_loss: 1.0495 - val_accuracy: 0.6836 - lr: 5.0000e-04\n",
            "Epoch 9/35\n",
            "257/257 [==============================] - 44s 172ms/step - loss: 0.1317 - accuracy: 0.9555 - val_loss: 1.0780 - val_accuracy: 0.7000 - lr: 2.5000e-04\n",
            "Epoch 10/35\n",
            "257/257 [==============================] - 45s 176ms/step - loss: 0.0707 - accuracy: 0.9785 - val_loss: 1.1717 - val_accuracy: 0.7368 - lr: 2.5000e-04\n",
            "Epoch 11/35\n",
            "257/257 [==============================] - 45s 175ms/step - loss: 0.0548 - accuracy: 0.9823 - val_loss: 1.1581 - val_accuracy: 0.7274 - lr: 2.5000e-04\n",
            "Epoch 12/35\n",
            "257/257 [==============================] - ETA: 0s - loss: 0.0475 - accuracy: 0.9855\n",
            "Epoch 12: ReduceLROnPlateau reducing learning rate to 0.0001250000059371814.\n",
            "257/257 [==============================] - 45s 173ms/step - loss: 0.0475 - accuracy: 0.9855 - val_loss: 1.3157 - val_accuracy: 0.6935 - lr: 2.5000e-04\n",
            "Epoch 13/35\n",
            "257/257 [==============================] - 46s 179ms/step - loss: 0.0271 - accuracy: 0.9918 - val_loss: 1.1620 - val_accuracy: 0.7373 - lr: 1.2500e-04\n",
            "Epoch 14/35\n",
            "257/257 [==============================] - 45s 177ms/step - loss: 0.0163 - accuracy: 0.9960 - val_loss: 1.2342 - val_accuracy: 0.7393 - lr: 1.2500e-04\n",
            "Epoch 15/35\n",
            "257/257 [==============================] - 46s 180ms/step - loss: 0.0136 - accuracy: 0.9968 - val_loss: 1.2670 - val_accuracy: 0.7279 - lr: 1.2500e-04\n",
            "Epoch 16/35\n",
            "257/257 [==============================] - ETA: 0s - loss: 0.0125 - accuracy: 0.9969\n",
            "Epoch 16: ReduceLROnPlateau reducing learning rate to 6.25000029685907e-05.\n",
            "257/257 [==============================] - 45s 176ms/step - loss: 0.0125 - accuracy: 0.9969 - val_loss: 1.2950 - val_accuracy: 0.7353 - lr: 1.2500e-04\n",
            "Epoch 17/35\n",
            "257/257 [==============================] - 45s 174ms/step - loss: 0.0078 - accuracy: 0.9985 - val_loss: 1.3184 - val_accuracy: 0.7413 - lr: 6.2500e-05\n",
            "Epoch 18/35\n",
            "257/257 [==============================] - 45s 173ms/step - loss: 0.0074 - accuracy: 0.9986 - val_loss: 1.3191 - val_accuracy: 0.7408 - lr: 6.2500e-05\n",
            "Epoch 19/35\n",
            "257/257 [==============================] - ETA: 0s - loss: 0.0055 - accuracy: 0.9991\n",
            "Epoch 19: ReduceLROnPlateau reducing learning rate to 3.125000148429535e-05.\n",
            "257/257 [==============================] - 46s 178ms/step - loss: 0.0055 - accuracy: 0.9991 - val_loss: 1.3351 - val_accuracy: 0.7333 - lr: 6.2500e-05\n",
            "Epoch 20/35\n",
            "257/257 [==============================] - 45s 174ms/step - loss: 0.0048 - accuracy: 0.9991 - val_loss: 1.3473 - val_accuracy: 0.7358 - lr: 3.1250e-05\n",
            "Epoch 21/35\n",
            "257/257 [==============================] - ETA: 0s - loss: 0.0043 - accuracy: 0.9994\n",
            "Epoch 21: ReduceLROnPlateau reducing learning rate to 1.5625000742147677e-05.\n",
            "257/257 [==============================] - 47s 181ms/step - loss: 0.0043 - accuracy: 0.9994 - val_loss: 1.3383 - val_accuracy: 0.7398 - lr: 3.1250e-05\n",
            "Epoch 22/35\n",
            "257/257 [==============================] - 46s 180ms/step - loss: 0.0041 - accuracy: 0.9995 - val_loss: 1.3473 - val_accuracy: 0.7378 - lr: 1.5625e-05\n",
            "Epoch 23/35\n",
            "257/257 [==============================] - 47s 183ms/step - loss: 0.0040 - accuracy: 0.9992 - val_loss: 1.3680 - val_accuracy: 0.7438 - lr: 1.5625e-05\n",
            "Epoch 24/35\n",
            "257/257 [==============================] - 46s 178ms/step - loss: 0.0036 - accuracy: 0.9995 - val_loss: 1.3569 - val_accuracy: 0.7463 - lr: 1.5625e-05\n",
            "Epoch 25/35\n",
            "257/257 [==============================] - 46s 179ms/step - loss: 0.0029 - accuracy: 0.9998 - val_loss: 1.3639 - val_accuracy: 0.7373 - lr: 1.5625e-05\n",
            "Epoch 26/35\n",
            "257/257 [==============================] - ETA: 0s - loss: 0.0035 - accuracy: 0.9995\n",
            "Epoch 26: ReduceLROnPlateau reducing learning rate to 1e-05.\n",
            "257/257 [==============================] - 45s 176ms/step - loss: 0.0035 - accuracy: 0.9995 - val_loss: 1.3798 - val_accuracy: 0.7353 - lr: 1.5625e-05\n",
            "Epoch 27/35\n",
            "257/257 [==============================] - 45s 176ms/step - loss: 0.0035 - accuracy: 0.9995 - val_loss: 1.3826 - val_accuracy: 0.7358 - lr: 1.0000e-05\n",
            "Epoch 28/35\n",
            "257/257 [==============================] - 44s 171ms/step - loss: 0.0030 - accuracy: 0.9997 - val_loss: 1.3897 - val_accuracy: 0.7373 - lr: 1.0000e-05\n",
            "Epoch 29/35\n",
            "257/257 [==============================] - 44s 170ms/step - loss: 0.0028 - accuracy: 0.9996 - val_loss: 1.3991 - val_accuracy: 0.7388 - lr: 1.0000e-05\n",
            "Epoch 30/35\n",
            "257/257 [==============================] - 46s 178ms/step - loss: 0.0029 - accuracy: 0.9996 - val_loss: 1.4065 - val_accuracy: 0.7388 - lr: 1.0000e-05\n",
            "Epoch 31/35\n",
            "257/257 [==============================] - 45s 175ms/step - loss: 0.0027 - accuracy: 0.9998 - val_loss: 1.4093 - val_accuracy: 0.7353 - lr: 1.0000e-05\n",
            "Epoch 32/35\n",
            "257/257 [==============================] - 46s 178ms/step - loss: 0.0027 - accuracy: 0.9998 - val_loss: 1.4346 - val_accuracy: 0.7388 - lr: 1.0000e-05\n",
            "Epoch 33/35\n",
            "257/257 [==============================] - 46s 180ms/step - loss: 0.0024 - accuracy: 0.9998 - val_loss: 1.4306 - val_accuracy: 0.7403 - lr: 1.0000e-05\n",
            "Epoch 34/35\n",
            "257/257 [==============================] - 45s 173ms/step - loss: 0.0023 - accuracy: 0.9998 - val_loss: 1.4327 - val_accuracy: 0.7418 - lr: 1.0000e-05\n",
            "Epoch 35/35\n",
            "257/257 [==============================] - 46s 178ms/step - loss: 0.0024 - accuracy: 0.9998 - val_loss: 1.4417 - val_accuracy: 0.7398 - lr: 1.0000e-05\n"
          ]
        },
        {
          "data": {
            "text/plain": [
              "<keras.callbacks.History at 0x15b283520>"
            ]
          },
          "execution_count": 48,
          "metadata": {},
          "output_type": "execute_result"
        }
      ],
      "source": [
        "model = create_model(num_classes=7)\n",
        "\n",
        "model.fit(X_train ,\n",
        "          y_train ,\n",
        "          epochs=35 ,\n",
        "          batch_size=128,\n",
        "          validation_data=(X_test , y_test) ,\n",
        "          callbacks=[learning_rate_reduction])"
      ]
    },
    {
      "attachments": {},
      "cell_type": "markdown",
      "metadata": {},
      "source": [
        "-------"
      ]
    },
    {
      "attachments": {},
      "cell_type": "markdown",
      "metadata": {},
      "source": [
        "## Save model"
      ]
    },
    {
      "cell_type": "code",
      "execution_count": 50,
      "metadata": {},
      "outputs": [],
      "source": [
        "model.save(f'{file_path}/lesion_classifier_model.h5')"
      ]
    },
    {
      "attachments": {},
      "cell_type": "markdown",
      "metadata": {},
      "source": [
        "---"
      ]
    },
    {
      "attachments": {},
      "cell_type": "markdown",
      "metadata": {},
      "source": [
        "## Model Performance"
      ]
    },
    {
      "attachments": {},
      "cell_type": "markdown",
      "metadata": {},
      "source": [
        "---"
      ]
    },
    {
      "attachments": {},
      "cell_type": "markdown",
      "metadata": {},
      "source": [
        "## Model learning curve"
      ]
    },
    {
      "cell_type": "code",
      "execution_count": 51,
      "metadata": {},
      "outputs": [
        {
          "data": {
            "image/png": "[encoded data removed]",
            "text/plain": [
              "<Figure size 640x480 with 1 Axes>"
            ]
          },
          "metadata": {},
          "output_type": "display_data"
        },
        {
          "name": "stdout",
          "output_type": "stream",
          "text": [
            "\n",
            "\n"
          ]
        },
        {
          "data": {
            "image/png": "[encoded data removed]",
            "text/plain": [
              "<Figure size 640x480 with 1 Axes>"
            ]
          },
          "metadata": {},
          "output_type": "display_data"
        }
      ],
      "source": [
        "losses = pd.DataFrame(model.history.history)\n",
        "\n",
        "sns.set_style(\"whitegrid\")\n",
        "losses[['loss', 'val_loss']].plot(style='.-')\n",
        "plt.title(\"Loss\")\n",
        "plt.savefig(f'{file_path}/model_training_losses.png',\n",
        "            bbox_inches='tight', dpi=150)\n",
        "plt.show()\n",
        "\n",
        "print(\"\\n\")\n",
        "losses[['accuracy', 'val_accuracy']].plot(style='.-')\n",
        "plt.title(\"Accuracy\")\n",
        "plt.savefig(f'{file_path}/model_training_acc.png',\n",
        "            bbox_inches='tight', dpi=150)\n",
        "plt.show()"
      ]
    },
    {
      "attachments": {},
      "cell_type": "markdown",
      "metadata": {},
      "source": [
        "## Model Evaluation"
      ]
    },
    {
      "attachments": {},
      "cell_type": "markdown",
      "metadata": {},
      "source": [
        "### Load Model"
      ]
    },
    {
      "cell_type": "code",
      "execution_count": 92,
      "metadata": {},
      "outputs": [],
      "source": [
        "from keras.models import load_model\n",
        "model = load_model(f\"{file_path}/lesion_classifier_model.h5\")"
      ]
    },
    {
      "attachments": {},
      "cell_type": "markdown",
      "metadata": {},
      "source": [
        "### Evaluate Model"
      ]
    },
    {
      "cell_type": "code",
      "execution_count": 119,
      "metadata": {},
      "outputs": [
        {
          "name": "stdout",
          "output_type": "stream",
          "text": [
            "63/63 [==============================] - 1s 12ms/step\n"
          ]
        }
      ],
      "source": [
        "preds = model.predict(X_test)"
      ]
    },
    {
      "cell_type": "code",
      "execution_count": 120,
      "metadata": {},
      "outputs": [],
      "source": [
        "lst = []\n",
        "for a in preds:\n",
        "    lst.append(np.argmax(a))"
      ]
    },
    {
      "cell_type": "code",
      "execution_count": 121,
      "metadata": {},
      "outputs": [],
      "source": [
        "from sklearn.metrics import confusion_matrix\n",
        "\n",
        "# Convert from multilabel-indicator to multiclass format\n",
        "y_true_multiclass = np.argmax(y_test, axis=1)\n",
        "\n",
        "# Compute confusion matrix\n",
        "cm = confusion_matrix(y_true_multiclass, lst)"
      ]
    },
    {
      "cell_type": "code",
      "execution_count": 122,
      "metadata": {},
      "outputs": [
        {
          "data": {
            "text/plain": [
              "array([[  20,    9,   17,    1,    7,   13,    0],\n",
              "       [  10,   41,   12,    3,    8,   28,    2],\n",
              "       [   9,   16,  106,    1,   28,   61,    0],\n",
              "       [   0,    4,    3,    4,    2,   11,    0],\n",
              "       [   2,    4,   30,    0,   92,   95,    0],\n",
              "       [   4,   12,   45,    0,   73, 1204,    4],\n",
              "       [   0,    0,    0,    1,    2,    6,   20]])"
            ]
          },
          "execution_count": 122,
          "metadata": {},
          "output_type": "execute_result"
        }
      ],
      "source": [
        "cm"
      ]
    },
    {
      "cell_type": "code",
      "execution_count": 123,
      "metadata": {},
      "outputs": [
        {
          "name": "stdout",
          "output_type": "stream",
          "text": [
            "Accuracy: 0.7398009950248756\n"
          ]
        }
      ],
      "source": [
        "from sklearn.metrics import accuracy_score\n",
        "import numpy as np\n",
        "\n",
        "# Assuming y_test is in multilabel-indicator format and lst is in multiclass format\n",
        "y_true_multiclass = np.argmax(y_test, axis=1)\n",
        "\n",
        "# Calculate accuracy\n",
        "accuracy = accuracy_score(y_true_multiclass, lst)\n",
        "\n",
        "print(f'Accuracy: {accuracy}')"
      ]
    },
    {
      "cell_type": "code",
      "execution_count": 124,
      "metadata": {},
      "outputs": [
        {
          "name": "stdout",
          "output_type": "stream",
          "text": [
            "              precision    recall  f1-score   support\n",
            "\n",
            "           0       0.44      0.30      0.36        67\n",
            "           1       0.48      0.39      0.43       104\n",
            "           2       0.50      0.48      0.49       221\n",
            "           3       0.40      0.17      0.24        24\n",
            "           4       0.43      0.41      0.42       223\n",
            "           5       0.85      0.90      0.87      1342\n",
            "           6       0.77      0.69      0.73        29\n",
            "\n",
            "    accuracy                           0.74      2010\n",
            "   macro avg       0.55      0.48      0.51      2010\n",
            "weighted avg       0.73      0.74      0.73      2010\n",
            "\n"
          ]
        }
      ],
      "source": [
        "from sklearn.metrics import classification_report\n",
        "\n",
        "\n",
        "print(classification_report(y_true_multiclass,lst))"
      ]
    },
    {
      "attachments": {},
      "cell_type": "markdown",
      "metadata": {},
      "source": [
        "### Save evaluation pickle"
      ]
    },
    {
      "cell_type": "code",
      "execution_count": 125,
      "metadata": {},
      "outputs": [
        {
          "data": {
            "text/plain": [
              "['outputs/modelling_evaluation_v4/evaluation.pkl']"
            ]
          },
          "execution_count": 125,
          "metadata": {},
          "output_type": "execute_result"
        }
      ],
      "source": [
        "joblib.dump(value=evaluation,\n",
        "            filename=f\"{file_path}/evaluation.pkl\")"
      ]
    },
    {
      "attachments": {},
      "cell_type": "markdown",
      "metadata": {},
      "source": [
        "## Predict on new data"
      ]
    },
    {
      "cell_type": "code",
      "execution_count": 126,
      "metadata": {},
      "outputs": [
        {
          "name": "stdout",
          "output_type": "stream",
          "text": [
            "Image shape: (28, 28), Image mode: RGB\n",
            "df\n"
          ]
        },
        {
          "data": {
            "image/png": "[encoded data removed]",
            "text/plain": [
              "<PIL.Image.Image image mode=RGB size=28x28>"
            ]
          },
          "execution_count": 126,
          "metadata": {},
          "output_type": "execute_result"
        }
      ],
      "source": [
        "import random\n",
        "from tensorflow.keras.preprocessing import image\n",
        "import numpy as np\n",
        "import matplotlib.pyplot as plt\n",
        "from scipy.special import softmax\n",
        "\n",
        "from tensorflow.keras.preprocessing import image\n",
        "\n",
        "pointer = 2\n",
        "label = train_labels[1]  # select\n",
        "\n",
        "pil_image = image.load_img(test_path + '/' + label + '/'  + os.listdir(test_path+'/' + label)[pointer], target_size=image_shape, color_mode='rgb')\n",
        "print(f'Image shape: {pil_image.size}, Image mode: {pil_image.mode}')\n",
        "print(f'{label}')\n",
        "pil_image"
      ]
    },
    {
      "cell_type": "code",
      "execution_count": 127,
      "metadata": {},
      "outputs": [
        {
          "name": "stdout",
          "output_type": "stream",
          "text": [
            "(1, 28, 28, 3)\n"
          ]
        }
      ],
      "source": [
        "my_image = image.img_to_array(pil_image)\n",
        "my_image = np.expand_dims(my_image, axis=0)/255\n",
        "print(my_image.shape)"
      ]
    },
    {
      "cell_type": "code",
      "execution_count": 128,
      "metadata": {},
      "outputs": [
        {
          "name": "stdout",
          "output_type": "stream",
          "text": [
            "1/1 [==============================] - 0s 19ms/step\n"
          ]
        }
      ],
      "source": [
        "import tensorflow as tf\n",
        "\n",
        "# Predict probabilities directly\n",
        "pred_proba = model.predict(my_image)[0]\n",
        "\n",
        "# Find the index with the maximum probability\n",
        "pred_class_index = tf.argmax(pred_proba).numpy()\n",
        "\n",
        "# Map the index to the corresponding class label\n",
        "pred_class = target_map[pred_class_index]\n",
        "\n",
        "# Construct text for probabilities\n",
        "probabilities_text = '\\n'.join([f\"{target_map[i]}: {p:.2f}\" for i, p in enumerate(pred_proba)])"
      ]
    },
    {
      "cell_type": "code",
      "execution_count": 129,
      "metadata": {},
      "outputs": [
        {
          "name": "stdout",
          "output_type": "stream",
          "text": [
            "akiec: 0.00\n",
            "df: 0.00\n",
            "bkl: 0.00\n",
            "vasc: 0.00\n",
            "nv: 0.00\n",
            "bcc: 1.00\n",
            "mel: 0.00\n",
            "{'bcc'}\n"
          ]
        }
      ],
      "source": [
        "print(f'{probabilities_text}')\n",
        "print({pred_class})"
      ]
    },
    {
      "attachments": {},
      "cell_type": "markdown",
      "metadata": {},
      "source": [
        "---"
      ]
    },
    {
      "attachments": {},
      "cell_type": "markdown",
      "metadata": {},
      "source": [
        "---"
      ]
    },
    {
      "attachments": {},
      "cell_type": "markdown",
      "metadata": {},
      "source": [
        "NOTE"
      ]
    },
    {
      "attachments": {},
      "cell_type": "markdown",
      "metadata": {},
      "source": []
    },
    {
      "attachments": {},
      "cell_type": "markdown",
      "metadata": {},
      "source": [
        "---"
      ]
    }
  ],
  "metadata": {
    "accelerator": "GPU",
    "colab": {
      "name": "Data Practitioner Jupyter Notebook.ipynb",
      "provenance": [],
      "toc_visible": true
    },
    "interpreter": {
      "hash": "8b8334dab9339717f727a1deaf837b322d7a41c20d15cc86be99a8e69ceec8ce"
    },
    "kernelspec": {
      "display_name": "Python 3.8.12 64-bit ('3.8.12': pyenv)",
      "name": "python3"
    },
    "language_info": {
      "codemirror_mode": {
        "name": "ipython",
        "version": 3
      },
      "file_extension": ".py",
      "mimetype": "text/x-python",
      "name": "python",
      "nbconvert_exporter": "python",
      "pygments_lexer": "ipython3",
      "version": "3.8.12"
    },
    "orig_nbformat": 2
  },
  "nbformat": 4,
  "nbformat_minor": 2
}
