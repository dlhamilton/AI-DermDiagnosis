{
  "cells": [
    {
      "attachments": {},
      "cell_type": "markdown",
      "metadata": {
        "id": "0aStgWSO0E0E"
      },
      "source": [
        "# **Modelling and Evaluation V3**"
      ]
    },
    {
      "attachments": {},
      "cell_type": "markdown",
      "metadata": {
        "id": "1eLEkw5O0ECa"
      },
      "source": [
        "## Objectives\n",
        "\n",
        "* Answer business requirement 1:\n",
        "    * The client aims to visually differentiate lesions. The model should be capable of reaching an accuracy of at least 70%.\n",
        "<br><br>\n",
        "\n",
        "* Answer business requirement 2:\n",
        "    - The model should provide a confidence level for each prediction.\n",
        "<br><br>\n",
        "\n",
        "* Answer business requirement 3:\n",
        "    - If a skin lesion is predicted as malignant with high confidence, the system should recommend immediate medical consultation.\n",
        "<br><br>\n",
        "\n",
        "* Answer business requirement 5:\n",
        "    - The AI model's insights should assist healthcare professionals in making informed decisions about the treatment process.\n",
        "<br><br>\n",
        "\n",
        "* Answer business requirement 6:\n",
        "    - The model's performance will be evaluated using balanced performance metrics such as F1 Score aiming for scores above 0.7.\n",
        "<br><br>\n",
        "## Inputs\n",
        "\n",
        "* inputs/skin_cancer_dataset/sorted_images/train\n",
        "* inputs/skin_cancer_dataset/sorted_images/test\n",
        "* inputs/skin_cancer_dataset/sorted_images/validation\n",
        "* image shape embeddings\n",
        "\n",
        "## Outputs\n",
        "\n",
        "* Images distribution plot in train, validation, and test set.\n",
        "* Image augmentation.\n",
        "* Class indices to change prediction inference in labels.\n",
        "* Machine learning model creation and training.\n",
        "Save model.\n",
        "* Learning curve plot for model performance.\n",
        "* Model evaluation on pickle file.\n",
        "* Prediction on the random image file.\n",
        "\n",
        "## Additional Comments\n",
        "\n",
        "* V3 - Xception architecture as its base\n",
        "<br><br>\n",
        "\n",
        "* This model can be used for image classification tasks where you have multiple classes. It leverages the power of a pre-trained Xception model and fine-tunes it with additional custom layers to suit the specific classification problem."
      ]
    },
    {
      "attachments": {},
      "cell_type": "markdown",
      "metadata": {
        "id": "9uWZXH9LwoQg"
      },
      "source": [
        "---"
      ]
    },
    {
      "attachments": {},
      "cell_type": "markdown",
      "metadata": {},
      "source": [
        "---"
      ]
    },
    {
      "attachments": {},
      "cell_type": "markdown",
      "metadata": {},
      "source": [
        "# Import regular packages"
      ]
    },
    {
      "cell_type": "code",
      "execution_count": 1,
      "metadata": {},
      "outputs": [
        {
          "name": "stderr",
          "output_type": "stream",
          "text": [
            "2023-06-19 17:49:35.026746: I tensorflow/core/platform/cpu_feature_guard.cc:182] This TensorFlow binary is optimized to use available CPU instructions in performance-critical operations.\n",
            "To enable the following instructions: AVX2 FMA, in other operations, rebuild TensorFlow with the appropriate compiler flags.\n"
          ]
        }
      ],
      "source": [
        "import os\n",
        "import pandas as pd\n",
        "import numpy as np\n",
        "import matplotlib.pyplot as plt\n",
        "import seaborn as sns\n",
        "from matplotlib.image import imread\n",
        "from tensorflow.keras.preprocessing.image import ImageDataGenerator\n",
        "import joblib"
      ]
    },
    {
      "attachments": {},
      "cell_type": "markdown",
      "metadata": {},
      "source": [
        "---"
      ]
    },
    {
      "attachments": {},
      "cell_type": "markdown",
      "metadata": {},
      "source": [
        "# Change working directory"
      ]
    },
    {
      "cell_type": "code",
      "execution_count": 2,
      "metadata": {},
      "outputs": [
        {
          "data": {
            "text/plain": [
              "'/Users/danielhamilton/CI/project5/AI-DermDiagnosis/jupyter_notebooks'"
            ]
          },
          "execution_count": 2,
          "metadata": {},
          "output_type": "execute_result"
        }
      ],
      "source": [
        "current_dir = os.getcwd()\n",
        "current_dir"
      ]
    },
    {
      "cell_type": "code",
      "execution_count": 3,
      "metadata": {},
      "outputs": [
        {
          "name": "stdout",
          "output_type": "stream",
          "text": [
            "You set a new current directory\n"
          ]
        }
      ],
      "source": [
        "os.chdir(os.path.dirname(current_dir))\n",
        "print(\"You set a new current directory\")"
      ]
    },
    {
      "cell_type": "code",
      "execution_count": 4,
      "metadata": {},
      "outputs": [
        {
          "data": {
            "text/plain": [
              "'/Users/danielhamilton/CI/project5/AI-DermDiagnosis'"
            ]
          },
          "execution_count": 4,
          "metadata": {},
          "output_type": "execute_result"
        }
      ],
      "source": [
        "current_dir = os.getcwd()\n",
        "current_dir"
      ]
    },
    {
      "attachments": {},
      "cell_type": "markdown",
      "metadata": {},
      "source": [
        "---"
      ]
    },
    {
      "attachments": {},
      "cell_type": "markdown",
      "metadata": {},
      "source": [
        "## Set input directories"
      ]
    },
    {
      "attachments": {},
      "cell_type": "markdown",
      "metadata": {
        "id": "9MWW8E7lz3i7"
      },
      "source": [
        "Set train, validation and test paths."
      ]
    },
    {
      "cell_type": "code",
      "execution_count": 5,
      "metadata": {
        "id": "TwHsQRWjz3i9",
        "outputId": "86849db3-cd2f-4cc5-ebb8-2d0caafa1a2c"
      },
      "outputs": [],
      "source": [
        "my_data_dir = 'inputs/skin_cancer_dataset/sorted_images'\n",
        "train_path = my_data_dir + '/train'\n",
        "val_path = my_data_dir + '/validation'\n",
        "test_path = my_data_dir + '/test'"
      ]
    },
    {
      "attachments": {},
      "cell_type": "markdown",
      "metadata": {},
      "source": [
        "## Set output directory"
      ]
    },
    {
      "cell_type": "code",
      "execution_count": 6,
      "metadata": {},
      "outputs": [
        {
          "name": "stdout",
          "output_type": "stream",
          "text": [
            "Old version is already available create a new version.\n"
          ]
        }
      ],
      "source": [
        "version = 'modelling_evaluation_v3'\n",
        "file_path = f'outputs/{version}'\n",
        "\n",
        "if 'outputs' in os.listdir(current_dir) and version in os.listdir(current_dir + '/outputs'):\n",
        "    print('Old version is already available create a new version.')\n",
        "    pass\n",
        "else:\n",
        "    os.makedirs(name=file_path)"
      ]
    },
    {
      "attachments": {},
      "cell_type": "markdown",
      "metadata": {},
      "source": [
        "## Set label names"
      ]
    },
    {
      "cell_type": "code",
      "execution_count": 7,
      "metadata": {},
      "outputs": [
        {
          "name": "stdout",
          "output_type": "stream",
          "text": [
            "Label for train set the images are ['akiec', 'df', 'bkl', 'vasc', 'nv', 'bcc', 'mel'] there are 7\n",
            "Label for test set the images are ['akiec', 'df', 'bkl', 'vasc', 'nv', 'bcc', 'mel'] there are 7\n",
            "Label for val set the images are ['akiec', 'df', 'bkl', 'vasc', 'nv', 'bcc', 'mel'] there are 7\n"
          ]
        }
      ],
      "source": [
        "# Set the labels\n",
        "train_labels = os.listdir(train_path)\n",
        "print('Label for train set the images are', train_labels, 'there are', len(train_labels) )\n",
        "test_labels = os.listdir(test_path)\n",
        "print('Label for test set the images are', test_labels, 'there are', len(test_labels) )\n",
        "val_labels = os.listdir(val_path)\n",
        "print('Label for val set the images are', val_labels, 'there are', len(val_labels) )"
      ]
    },
    {
      "attachments": {},
      "cell_type": "markdown",
      "metadata": {},
      "source": [
        "## Set image shape"
      ]
    },
    {
      "cell_type": "code",
      "execution_count": 8,
      "metadata": {},
      "outputs": [
        {
          "data": {
            "text/plain": [
              "(225, 300, 3)"
            ]
          },
          "execution_count": 8,
          "metadata": {},
          "output_type": "execute_result"
        }
      ],
      "source": [
        "image_shape = (225, 300, 3)\n",
        "image_shape"
      ]
    },
    {
      "cell_type": "code",
      "execution_count": 9,
      "metadata": {},
      "outputs": [
        {
          "data": {
            "text/plain": [
              "['outputs/modelling_evaluation_v3/image_shape.pkl']"
            ]
          },
          "execution_count": 9,
          "metadata": {},
          "output_type": "execute_result"
        }
      ],
      "source": [
        "joblib.dump(value=image_shape ,\n",
        "            filename=f\"{file_path}/image_shape.pkl\")"
      ]
    },
    {
      "cell_type": "code",
      "execution_count": 10,
      "metadata": {},
      "outputs": [
        {
          "data": {
            "text/plain": [
              "(225, 300, 3)"
            ]
          },
          "execution_count": 10,
          "metadata": {},
          "output_type": "execute_result"
        }
      ],
      "source": [
        "## Import saved image shape embedding\n",
        "import joblib\n",
        "image_shape = joblib.load(filename=f\"{file_path}/image_shape.pkl\")\n",
        "image_shape"
      ]
    },
    {
      "attachments": {},
      "cell_type": "markdown",
      "metadata": {
        "id": "ZY3l0-AxO93d"
      },
      "source": [
        "---"
      ]
    },
    {
      "attachments": {},
      "cell_type": "markdown",
      "metadata": {},
      "source": [
        "## Build training, validation and test set"
      ]
    },
    {
      "cell_type": "code",
      "execution_count": 11,
      "metadata": {},
      "outputs": [
        {
          "name": "stdout",
          "output_type": "stream",
          "text": [
            "Found 7007 files belonging to 7 classes.\n",
            "Found 998 files belonging to 7 classes.\n",
            "Found 2010 files belonging to 7 classes.\n"
          ]
        }
      ],
      "source": [
        "import tensorflow as tf\n",
        "\n",
        "img_height = 225\n",
        "img_width = 300\n",
        "batch_size = 32\n",
        "\n",
        "my_seed = 123\n",
        "np.random.seed(my_seed)\n",
        "tf.random.set_seed(my_seed)\n",
        "\n",
        "# Load the training dataset\n",
        "df_train = tf.keras.utils.image_dataset_from_directory(\n",
        "    train_path,\n",
        "    seed=my_seed,\n",
        "    color_mode=\"rgb\",\n",
        "    image_size=(img_height, img_width),\n",
        "    batch_size=batch_size,\n",
        "    label_mode=\"int\"\n",
        ")\n",
        "\n",
        "# Load the validation dataset\n",
        "df_val = tf.keras.utils.image_dataset_from_directory(\n",
        "    val_path,\n",
        "    seed=my_seed,\n",
        "    color_mode=\"rgb\",\n",
        "    image_size=(img_height, img_width),\n",
        "    batch_size=batch_size,\n",
        "    label_mode=\"int\"\n",
        ")\n",
        "\n",
        "# Load the test dataset\n",
        "df_test = tf.keras.utils.image_dataset_from_directory(\n",
        "    test_path,\n",
        "    seed=my_seed,\n",
        "    color_mode=\"rgb\",\n",
        "    image_size=(img_height, img_width),\n",
        "    batch_size=batch_size,\n",
        "    label_mode=\"int\"\n",
        ")\n",
        "\n",
        "# Extract class names\n",
        "class_names = df_train.class_names\n",
        "\n",
        "# Define normalization layer\n",
        "normalization_layer = tf.keras.layers.Rescaling(scale=1./255, offset=0)\n",
        "\n",
        "# Normalize the datasets\n",
        "df_train = df_train.map(lambda x, y: (normalization_layer(x), y))\n",
        "df_val = df_val.map(lambda x, y: (normalization_layer(x), y))\n",
        "df_test = df_test.map(lambda x, y: (normalization_layer(x), y))\n"
      ]
    },
    {
      "cell_type": "code",
      "execution_count": 12,
      "metadata": {},
      "outputs": [
        {
          "name": "stderr",
          "output_type": "stream",
          "text": [
            "2023-06-19 17:50:08.374228: I tensorflow/core/common_runtime/executor.cc:1197] [/device:CPU:0] (DEBUG INFO) Executor start aborting (this does not indicate an error and you can ignore this message): INVALID_ARGUMENT: You must feed a value for placeholder tensor 'Placeholder/_4' with dtype int32 and shape [7007]\n",
            "\t [[{{node Placeholder/_4}}]]\n",
            "2023-06-19 17:50:08.374583: I tensorflow/core/common_runtime/executor.cc:1197] [/device:CPU:0] (DEBUG INFO) Executor start aborting (this does not indicate an error and you can ignore this message): INVALID_ARGUMENT: You must feed a value for placeholder tensor 'Placeholder/_0' with dtype string and shape [7007]\n",
            "\t [[{{node Placeholder/_0}}]]\n"
          ]
        },
        {
          "name": "stdout",
          "output_type": "stream",
          "text": [
            "7007\n",
            "219\n",
            "[228, 359, 769, 80, 779, 4693, 99]\n",
            "7007\n"
          ]
        }
      ],
      "source": [
        "# check if data was loaded correctly\n",
        "y = np.concatenate([y for x, y in df_train], axis=0)\n",
        "print(len(y))\n",
        "print(len(df_train))\n",
        "ranges = [0] * 7\n",
        "for class_id in np.unique(y, axis=0):\n",
        "    for cl in y:\n",
        "        if (class_id == cl):\n",
        "            ranges[class_id] += 1\n",
        "    \n",
        "print(ranges)\n",
        "print(sum(ranges))"
      ]
    },
    {
      "attachments": {},
      "cell_type": "markdown",
      "metadata": {},
      "source": [
        "---"
      ]
    },
    {
      "attachments": {},
      "cell_type": "markdown",
      "metadata": {},
      "source": [
        "# Model creation"
      ]
    },
    {
      "attachments": {},
      "cell_type": "markdown",
      "metadata": {},
      "source": [
        "---"
      ]
    },
    {
      "attachments": {},
      "cell_type": "markdown",
      "metadata": {},
      "source": [
        "## ML model"
      ]
    },
    {
      "attachments": {},
      "cell_type": "markdown",
      "metadata": {},
      "source": [
        "### Import model packages"
      ]
    },
    {
      "cell_type": "code",
      "execution_count": null,
      "metadata": {},
      "outputs": [],
      "source": [
        "from tensorflow.keras.layers import Flatten, Dense, Dropout, BatchNormalization, Activation\n",
        "from tensorflow.keras.models import Sequential\n",
        "from tensorflow.keras.optimizers import Adam\n",
        "from tensorflow.keras.applications import Xception\n",
        "import tensorflow as tf"
      ]
    },
    {
      "attachments": {},
      "cell_type": "markdown",
      "metadata": {},
      "source": [
        "### Model"
      ]
    },
    {
      "cell_type": "code",
      "execution_count": null,
      "metadata": {},
      "outputs": [],
      "source": [
        "def create_tf_model(num_classes, input_shape=image_shape):\n",
        "    # Defining base model using Xception module from Keras\n",
        "    base_model = Xception(include_top=False, weights='imagenet', input_shape=input_shape)\n",
        "    for layer in base_model.layers:\n",
        "        layer.trainable = True\n",
        "    \n",
        "    # Initialize the Sequential model\n",
        "    model = Sequential()\n",
        "    \n",
        "    # Adding the base model\n",
        "    model.add(base_model)\n",
        "\n",
        "    # Adding Flatten Layer\n",
        "    model.add(Flatten())\n",
        "\n",
        "    # Adding Dense Layers\n",
        "    model.add(Dense(128))\n",
        "    model.add(Dropout(0.5))\n",
        "    model.add(BatchNormalization())\n",
        "    model.add(Activation('relu'))\n",
        "\n",
        "    # Output Layer\n",
        "    model.add(Dense(num_classes))\n",
        "\n",
        "    # Compiling the model\n",
        "    model.compile(loss=tf.keras.losses.SparseCategoricalCrossentropy(from_logits=True),\n",
        "                  optimizer='adam',\n",
        "                  metrics=['accuracy'])\n",
        "\n",
        "    # Return the compiled model\n",
        "    return model"
      ]
    },
    {
      "attachments": {},
      "cell_type": "markdown",
      "metadata": {},
      "source": [
        "### Model Summary"
      ]
    },
    {
      "cell_type": "code",
      "execution_count": null,
      "metadata": {},
      "outputs": [],
      "source": [
        "create_tf_model(num_classes=7).summary()"
      ]
    },
    {
      "cell_type": "code",
      "execution_count": null,
      "metadata": {},
      "outputs": [],
      "source": [
        "model = create_tf_model(num_classes=7)\n",
        "\n",
        "model.fit(df_train,\n",
        "          epochs=30,\n",
        "          validation_data=df_val,\n",
        "          )"
      ]
    },
    {
      "attachments": {},
      "cell_type": "markdown",
      "metadata": {},
      "source": [
        "## Save model"
      ]
    },
    {
      "cell_type": "code",
      "execution_count": null,
      "metadata": {},
      "outputs": [],
      "source": [
        "model.save(f'{file_path}/lesion_classifier_model.h5')"
      ]
    },
    {
      "attachments": {},
      "cell_type": "markdown",
      "metadata": {},
      "source": [
        "---"
      ]
    },
    {
      "attachments": {},
      "cell_type": "markdown",
      "metadata": {},
      "source": [
        "## Model Performance"
      ]
    },
    {
      "attachments": {},
      "cell_type": "markdown",
      "metadata": {},
      "source": [
        "---"
      ]
    },
    {
      "attachments": {},
      "cell_type": "markdown",
      "metadata": {},
      "source": [
        "## Model learning curve"
      ]
    },
    {
      "cell_type": "code",
      "execution_count": null,
      "metadata": {},
      "outputs": [],
      "source": [
        "losses = pd.DataFrame(model.history.history)\n",
        "\n",
        "sns.set_style(\"whitegrid\")\n",
        "losses[['loss', 'val_loss']].plot(style='.-')\n",
        "plt.title(\"Loss\")\n",
        "plt.savefig(f'{file_path}/model_training_losses.png',\n",
        "            bbox_inches='tight', dpi=150)\n",
        "plt.show()\n",
        "\n",
        "print(\"\\n\")\n",
        "losses[['accuracy', 'val_accuracy']].plot(style='.-')\n",
        "plt.title(\"Accuracy\")\n",
        "plt.savefig(f'{file_path}/model_training_acc.png',\n",
        "            bbox_inches='tight', dpi=150)\n",
        "plt.show()"
      ]
    },
    {
      "attachments": {},
      "cell_type": "markdown",
      "metadata": {},
      "source": [
        "## Model Evaluation"
      ]
    },
    {
      "attachments": {},
      "cell_type": "markdown",
      "metadata": {},
      "source": [
        "### Load Model"
      ]
    },
    {
      "cell_type": "code",
      "execution_count": 13,
      "metadata": {},
      "outputs": [],
      "source": [
        "from keras.models import load_model\n",
        "model = load_model(f\"{file_path}/lesion_classifier_model.h5\")"
      ]
    },
    {
      "attachments": {},
      "cell_type": "markdown",
      "metadata": {},
      "source": [
        "### Evaluate Model"
      ]
    },
    {
      "cell_type": "code",
      "execution_count": null,
      "metadata": {},
      "outputs": [],
      "source": [
        "evaluation = model.evaluate(df_test)"
      ]
    },
    {
      "attachments": {},
      "cell_type": "markdown",
      "metadata": {},
      "source": [
        "### Save evaluation pickle"
      ]
    },
    {
      "cell_type": "code",
      "execution_count": null,
      "metadata": {},
      "outputs": [],
      "source": [
        "joblib.dump(value=evaluation,\n",
        "            filename=f\"{file_path}/evaluation.pkl\")"
      ]
    },
    {
      "attachments": {},
      "cell_type": "markdown",
      "metadata": {},
      "source": [
        "## Predict on new data"
      ]
    },
    {
      "cell_type": "code",
      "execution_count": null,
      "metadata": {},
      "outputs": [],
      "source": [
        "import random\n",
        "from tensorflow.keras.preprocessing import image\n",
        "import numpy as np\n",
        "import matplotlib.pyplot as plt\n",
        "from scipy.special import softmax\n",
        "\n",
        "# Create mapping dictionary\n",
        "target_map = {v: k for v, k in enumerate(class_names)}\n",
        "\n",
        "f, ax = plt.subplots(7, 5)  # 7 rows for 7 classes, 5 columns for 5 images each\n",
        "f.set_size_inches(20, 20)  # adjust size for better display\n",
        "\n",
        "# counters for each class\n",
        "correct_counts = {label: 0 for label in class_names}\n",
        "total_counts = {label: 0 for label in class_names}\n",
        "\n",
        "# assuming train_labels contains the names of the 7 classes\n",
        "for row, label in enumerate(class_names):\n",
        "    image_files = os.listdir(test_path + '/' + label)\n",
        "\n",
        "    # Select 5 random indices\n",
        "    random_indices = random.sample(range(len(image_files)), 5)\n",
        "\n",
        "    for col, idx in enumerate(random_indices):\n",
        "        pil_image = image.load_img(test_path + '/' + label + '/' + image_files[idx], target_size=image_shape, color_mode='rgb')\n",
        "        \n",
        "        my_image = image.img_to_array(pil_image)\n",
        "        my_image = np.expand_dims(my_image, axis=0)/255\n",
        "        \n",
        "        #pred_proba = model.predict(my_image)[0]\n",
        "        pred_logits = model.predict(my_image)[0]\n",
        "        # Convert logits to probabilities\n",
        "        pred_proba = softmax(pred_logits)\n",
        "        \n",
        "        pred_class_index = np.argmax(pred_proba)  # find the index with max probability\n",
        "        pred_class = target_map[pred_class_index]\n",
        "        \n",
        "        \n",
        "        # Text for probabilities\n",
        "        probabilities_text = '\\n'.join([f\"{target_map[i]}: {p:.2f}\" for i, p in enumerate(pred_proba)])\n",
        "\n",
        "        # Check if prediction is correct\n",
        "        is_correct = pred_class == label\n",
        "        if is_correct:\n",
        "            correct_counts[label] += 1\n",
        "        total_counts[label] += 1\n",
        "        \n",
        "        # Check if prediction is correct\n",
        "        is_correct = 'Correct' if pred_class == label else 'Incorrect'\n",
        "        \n",
        "        # Here I include the predicted class (pred_class), the actual class (label), and the probabilities\n",
        "        ax[row, col].imshow(pil_image)\n",
        "        ax[row, col].set_title(f\"pred: {pred_class}\\nactual: {label}\\n{is_correct}\\n{probabilities_text}\")\n",
        "        \n",
        "\n",
        "plt.tight_layout()\n",
        "plt.show()"
      ]
    },
    {
      "attachments": {},
      "cell_type": "markdown",
      "metadata": {},
      "source": [
        "## Predict on new data summary"
      ]
    },
    {
      "cell_type": "code",
      "execution_count": null,
      "metadata": {},
      "outputs": [],
      "source": [
        "# Calculate and print accuracy for each class\n",
        "total_correct = 0\n",
        "for label in train_labels:\n",
        "    total_correct = total_correct + correct_counts[label] \n",
        "    accuracy = (correct_counts[label] / total_counts[label]) * 100 if total_counts[label] > 0 else 0\n",
        "    print(f\"Accuracy for class {label}: {accuracy:.2f}% ({correct_counts[label]}/{total_counts[label]})\")\n",
        "    \n",
        "total_accuracy = (total_correct / 35) * 100 if total_correct > 0 else 0\n",
        "print()\n",
        "print(f\"Total correct: {total_correct}\")\n",
        "print(f\"Accuracy total: {total_accuracy:.2f}% ({total_correct}/35)\")"
      ]
    },
    {
      "attachments": {},
      "cell_type": "markdown",
      "metadata": {},
      "source": [
        "## Predict on new data single"
      ]
    },
    {
      "cell_type": "code",
      "execution_count": 43,
      "metadata": {},
      "outputs": [
        {
          "name": "stdout",
          "output_type": "stream",
          "text": [
            "Image shape: (300, 225), Image mode: RGB\n",
            "df\n"
          ]
        },
        {
          "data": {
            "image/png": "[encoded data removed]",
            "text/plain": [
              "<PIL.Image.Image image mode=RGB size=300x225>"
            ]
          },
          "execution_count": 43,
          "metadata": {},
          "output_type": "execute_result"
        }
      ],
      "source": [
        "import random\n",
        "from tensorflow.keras.preprocessing import image\n",
        "import numpy as np\n",
        "import matplotlib.pyplot as plt\n",
        "from scipy.special import softmax\n",
        "\n",
        "from tensorflow.keras.preprocessing import image\n",
        "\n",
        "pointer = 2\n",
        "label = train_labels[1]  # select\n",
        "\n",
        "pil_image = image.load_img(test_path + '/' + label + '/'  + os.listdir(test_path+'/' + label)[pointer], target_size=image_shape, color_mode='rgb')\n",
        "print(f'Image shape: {pil_image.size}, Image mode: {pil_image.mode}')\n",
        "print(f'{label}')\n",
        "pil_image"
      ]
    },
    {
      "cell_type": "code",
      "execution_count": 44,
      "metadata": {},
      "outputs": [
        {
          "name": "stdout",
          "output_type": "stream",
          "text": [
            "(1, 225, 300, 3)\n"
          ]
        }
      ],
      "source": [
        "my_image = image.img_to_array(pil_image)\n",
        "my_image = np.expand_dims(my_image, axis=0)/255\n",
        "print(my_image.shape)"
      ]
    },
    {
      "cell_type": "code",
      "execution_count": 45,
      "metadata": {},
      "outputs": [
        {
          "name": "stdout",
          "output_type": "stream",
          "text": [
            "1/1 [==============================] - 0s 99ms/step\n",
            "Predicted Class: bkl\n",
            "Probability: 0.91\n",
            "Probability of akiec: 0.00\n",
            "Probability of bcc: 0.00\n",
            "Probability of bkl: 0.91\n",
            "Probability of df: 0.00\n",
            "Probability of mel: 0.01\n",
            "Probability of nv: 0.06\n",
            "Probability of vasc: 0.00\n"
          ]
        }
      ],
      "source": [
        "# Preprocess the image\n",
        "my_image = image.img_to_array(pil_image)\n",
        "my_image = np.expand_dims(my_image, axis=0)/255\n",
        "\n",
        "# Predict probabilities\n",
        "pred_logits = model.predict(my_image)[0]\n",
        "pred_proba = softmax(pred_logits)\n",
        "\n",
        "# Extract predicted class index\n",
        "pred_class_index = np.argmax(pred_proba)\n",
        "pred_proba_max = np.max(pred_proba)  # Maximum probability\n",
        "\n",
        "# Create mapping dictionary\n",
        "target_map = {v: k for v, k in enumerate(class_names)}\n",
        "\n",
        "# Extract predicted class name\n",
        "pred_class = target_map[pred_class_index]\n",
        "\n",
        "# Display the result\n",
        "print(f\"Predicted Class: {pred_class}\")\n",
        "print(f\"Probability: {pred_proba_max:.2f}\")\n",
        "\n",
        "# Display probability of each class\n",
        "for i, prob in enumerate(pred_proba):\n",
        "    print(f\"Probability of {target_map[i]}: {prob:.2f}\")"
      ]
    },
    {
      "attachments": {},
      "cell_type": "markdown",
      "metadata": {},
      "source": [
        "## Classification report "
      ]
    },
    {
      "cell_type": "code",
      "execution_count": 17,
      "metadata": {},
      "outputs": [
        {
          "name": "stderr",
          "output_type": "stream",
          "text": [
            "2023-06-19 19:02:13.845454: I tensorflow/core/common_runtime/executor.cc:1197] [/device:CPU:0] (DEBUG INFO) Executor start aborting (this does not indicate an error and you can ignore this message): INVALID_ARGUMENT: You must feed a value for placeholder tensor 'Placeholder/_4' with dtype int32 and shape [2010]\n",
            "\t [[{{node Placeholder/_4}}]]\n",
            "2023-06-19 19:02:13.845774: I tensorflow/core/common_runtime/executor.cc:1197] [/device:CPU:0] (DEBUG INFO) Executor start aborting (this does not indicate an error and you can ignore this message): INVALID_ARGUMENT: You must feed a value for placeholder tensor 'Placeholder/_0' with dtype string and shape [2010]\n",
            "\t [[{{node Placeholder/_0}}]]\n"
          ]
        },
        {
          "name": "stdout",
          "output_type": "stream",
          "text": [
            "Features shape: (2010, 225, 300, 3)\n",
            "Labels shape: (2010,)\n"
          ]
        }
      ],
      "source": [
        "import numpy as np\n",
        "\n",
        "all_features = []\n",
        "all_labels = []\n",
        "\n",
        "# Iterate through the dataset\n",
        "for features, labels in df_test:\n",
        "    # Convert tensors to numpy arrays and accumulate\n",
        "    all_features.append(features.numpy())\n",
        "    all_labels.append(labels.numpy())\n",
        "\n",
        "# Optionally, concatenate the list of arrays into a single numpy array\n",
        "all_features = np.concatenate(all_features, axis=0)\n",
        "all_labels = np.concatenate(all_labels, axis=0)\n",
        "\n",
        "print(\"Features shape:\", all_features.shape)\n",
        "print(\"Labels shape:\", all_labels.shape)"
      ]
    },
    {
      "cell_type": "code",
      "execution_count": 18,
      "metadata": {},
      "outputs": [
        {
          "name": "stdout",
          "output_type": "stream",
          "text": [
            "63/63 [==============================] - 272s 4s/step\n"
          ]
        },
        {
          "data": {
            "image/png": "[encoded data removed]",
            "text/plain": [
              "<Figure size 1000x700 with 2 Axes>"
            ]
          },
          "metadata": {},
          "output_type": "display_data"
        },
        {
          "name": "stdout",
          "output_type": "stream",
          "text": [
            "              precision    recall  f1-score   support\n",
            "\n",
            "       akiec       0.66      0.58      0.62        67\n",
            "         bcc       0.69      0.88      0.77       104\n",
            "         bkl       0.49      0.85      0.62       221\n",
            "          df       0.53      0.71      0.61        24\n",
            "         mel       0.70      0.42      0.52       223\n",
            "          nv       0.93      0.85      0.89      1342\n",
            "        vasc       0.66      1.00      0.79        29\n",
            "\n",
            "    accuracy                           0.79      2010\n",
            "   macro avg       0.67      0.75      0.69      2010\n",
            "weighted avg       0.83      0.79      0.80      2010\n",
            "\n"
          ]
        }
      ],
      "source": [
        "from sklearn.metrics import confusion_matrix, classification_report\n",
        "import seaborn as sns\n",
        "import matplotlib.pyplot as plt\n",
        "\n",
        "X_train = all_features\n",
        "y_true = all_labels\n",
        "\n",
        "y_pred = model.predict(X_train)\n",
        "\n",
        "y_pred_labels = np.argmax(y_pred, axis=1)\n",
        "\n",
        "unique_labels = np.unique(np.concatenate((y_true, y_pred_labels)))\n",
        "\n",
        "unique_class_names = [class_names[label] for label in unique_labels]\n",
        "\n",
        "cm = confusion_matrix(y_true, y_pred_labels, labels=unique_labels)\n",
        "\n",
        "plt.figure(figsize=(10,7))\n",
        "sns.heatmap(cm, annot=True, fmt='d', cmap='Blues', xticklabels=unique_class_names, yticklabels=unique_class_names)\n",
        "plt.xlabel('Predicted')\n",
        "plt.ylabel('True')\n",
        "plt.show()\n",
        "\n",
        "# Compute F1 score, Precision, and Recall\n",
        "print(classification_report(y_true, y_pred_labels, target_names=unique_class_names))"
      ]
    },
    {
      "attachments": {},
      "cell_type": "markdown",
      "metadata": {},
      "source": [
        "---"
      ]
    },
    {
      "attachments": {},
      "cell_type": "markdown",
      "metadata": {},
      "source": [
        "---"
      ]
    },
    {
      "attachments": {},
      "cell_type": "markdown",
      "metadata": {},
      "source": [
        "NOTE"
      ]
    },
    {
      "attachments": {},
      "cell_type": "markdown",
      "metadata": {},
      "source": [
        "High Accuracy Classes: The model performed exceptionally well on classes 'bkl', 'vasc', 'nv', and 'bcc'. This indicates that the model is capable of identifying these classes accurately and has learned relevant features for these categories.\n",
        "\n",
        "Moderate Accuracy Classes: The classes 'akiec' and 'df' exhibited a moderate accuracy. This suggests that there is some room for improvement in the model's ability to correctly classify these categories.\n",
        "\n",
        "Low Accuracy Class: The model performed poorly in classifying the 'mel' class. This suggests that the model has difficulty distinguishing features unique to the 'mel' class.\n",
        "\n",
        "Overall Performance: The overall accuracy indicates that the model is relatively accurate but can be improved, especially in the 'mel' class. The model doesnt furfill:\n",
        "\n",
        "**Business Requirement 1**: The client aims to visually differentiate lesions. The model should be capable of reaching an accuracy of at least 70%.\n",
        "\n",
        "**Business Requirement 3**: If a skin lesion is predicted as malignant with high confidence, the system should recommend immediate medical consultation.\n",
        "\n",
        "Malignant lesions are the most dangerous and must have a high confidence and accuracy."
      ]
    },
    {
      "attachments": {},
      "cell_type": "markdown",
      "metadata": {},
      "source": [
        "The report provides precision, recall, f1-score, and support for each class, as well as the overall accuracy, macro average, and weighted average across all classes. Here is a summary:\n",
        "\n",
        "AKIEC: For the class 'akiec', the model achieves a precision of 0.66, which indicates that 66% of the instances that were predicted as 'akiec' were actually 'akiec'. The recall is 0.58, indicating that the model correctly identified 58% of all actual 'akiec' instances. The F1-score, which balances precision and recall, is 0.62.\n",
        "\n",
        "BCC: The 'bcc' class has a higher precision of 0.69 and a higher recall of 0.88. This suggests that the model is quite good at identifying this class, with an F1-score of 0.77.\n",
        "\n",
        "BKL: For the 'bkl' class, the model has a lower precision of 0.49, but a relatively high recall of 0.85. The F1-score is 0.62.\n",
        "\n",
        "DF: The 'df' class has a precision of 0.53 and a recall of 0.71, with an F1-score of 0.61.\n",
        "\n",
        "MEL: The 'mel' class has a precision of 0.70 but a lower recall of 0.42. The F1-score is 0.52, which indicates that there is a trade-off between precision and recall for this class.\n",
        "\n",
        "NV: The 'nv' class, which has the highest number of samples (support=1342), has high precision and recall values of 0.93 and 0.85 respectively. This class has a high F1-score of 0.89, suggesting that the model is highly effective in classifying this class correctly.\n",
        "\n",
        "VASC: The 'vasc' class, which has the lowest support (29 samples), has a precision of 0.66, but a recall of 1.00. This indicates that the model was able to capture all the 'vasc' instances but made some false positives as well. The F1-score is 0.79.\n",
        "\n",
        "Overall Performance: The overall accuracy of the model on the test data is 0.79, which means it made the right prediction for 79% of the samples. The macro average F1-score is 0.69, which takes the unweighted mean of the F1-score of each class, indicating an average performance across different classes. The weighted average F1-score is 0.80, taking into account the support of each class.\n",
        "\n",
        "In conclusion, the model performs relatively well, especially for classes with a higher number of samples like 'nv'. However, there is room for improvement, especially for classes like 'mel' where the recall is quite low. The results also show that the model is better at identifying certain classes over others. Fine-tuning the model, using more balanced data, or employing different model architectures might improve the performance for the underperforming classes."
      ]
    },
    {
      "attachments": {},
      "cell_type": "markdown",
      "metadata": {},
      "source": [
        "---"
      ]
    }
  ],
  "metadata": {
    "accelerator": "GPU",
    "colab": {
      "name": "Data Practitioner Jupyter Notebook.ipynb",
      "provenance": [],
      "toc_visible": true
    },
    "interpreter": {
      "hash": "8b8334dab9339717f727a1deaf837b322d7a41c20d15cc86be99a8e69ceec8ce"
    },
    "kernelspec": {
      "display_name": "Python 3.8.12 64-bit ('3.8.12': pyenv)",
      "name": "python3"
    },
    "language_info": {
      "codemirror_mode": {
        "name": "ipython",
        "version": 3
      },
      "file_extension": ".py",
      "mimetype": "text/x-python",
      "name": "python",
      "nbconvert_exporter": "python",
      "pygments_lexer": "ipython3",
      "version": "3.8.12"
    },
    "orig_nbformat": 2
  },
  "nbformat": 4,
  "nbformat_minor": 2
}
