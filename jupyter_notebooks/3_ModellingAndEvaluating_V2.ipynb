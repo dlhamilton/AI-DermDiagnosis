{
  "cells": [
    {
      "attachments": {},
      "cell_type": "markdown",
      "metadata": {
        "id": "0aStgWSO0E0E"
      },
      "source": [
        "# **Modelling and Evaluation V2**"
      ]
    },
    {
      "attachments": {},
      "cell_type": "markdown",
      "metadata": {
        "id": "1eLEkw5O0ECa"
      },
      "source": [
        "## Objectives\n",
        "\n",
        "* Answer business requirement 1:\n",
        "    * The client aims to create a machine learning model that can visually differentiate a benign skin lesion from a malignant one using the lesion images. The model should be capable of reaching an accuracy of at least 90%.\n",
        "<br><br>\n",
        "\n",
        "* Answer business requirement 2:\n",
        "    - The model should provide a confidence level for each prediction.\n",
        "<br><br>\n",
        "\n",
        "* Answer business requirement 3:\n",
        "    - If a skin lesion is predicted as malignant with high confidence, the system should recommend immediate medical consultation. The precision of these recommendations should be over 85%.\n",
        "<br><br>\n",
        "\n",
        "* Answer business requirement 6:\n",
        "    - The AI model's insights should assist healthcare professionals in making informed decisions about the treatment process.\n",
        "<br><br>\n",
        "\n",
        "* Answer business requirement 7:\n",
        "    - The model's performance will be evaluated using balanced performance metrics such as F1 Score and AUC-ROC, aiming for scores above 0.85 and 0.9, respectively.\n",
        "<br><br>\n",
        "## Inputs\n",
        "\n",
        "* inputs/skin_cancer_dataset/sorted_images/train\n",
        "* inputs/skin_cancer_dataset/sorted_images/test\n",
        "* inputs/skin_cancer_dataset/sorted_images/validation\n",
        "* image shape embeddings\n",
        "\n",
        "## Outputs\n",
        "\n",
        "* Images distribution plot in train, validation, and test set.\n",
        "* Image augmentation.\n",
        "* Class indices to change prediction inference in labels.\n",
        "* Machine learning model creation and training.\n",
        "Save model.\n",
        "* Learning curve plot for model performance.\n",
        "* Model evaluation on pickle file.\n",
        "* Prediction on the random image file.\n",
        "\n",
        "## Additional Comments\n",
        "\n",
        "* V2 - Upsampling and downsampling used to handle the imbalance in the dataset\n",
        "<br><br>\n",
        "\n",
        "### Upsampling\n",
        "#### Positives:\n",
        "* Information Retention: Upsampling retains all information from the original dataset since it focuses on increasing the number of instances in the minority class.\n",
        "* Improved Performance on Minority nv Class: By creating more instances of the minority class nv, the model may better learn the characteristics of the minority classes, leading to improved performance.\n",
        "* Reduced Bias: It reduces the bias towards the majority nv class, as the class distribution becomes more balanced.\n",
        "\n",
        "#### Negatives:\n",
        "* Overfitting: By replicating instances or creating synthetic instances in the minority classes, the model might learn noise or overfit to the minority classes.\n",
        "* Increased Computation: With an increase in the number of instances through upsampling, the computational complexity and training time may increase.\n",
        "\n",
        "### Downsampling\n",
        "#### Positives:\n",
        "* Reduced Computation: Downsampling reduces the number of instances in the dataset, and this can lead to faster training times and lower computational costs.\n",
        "* Balanced Class Distribution: By reducing the instances in the majority nv class, the class distribution becomes more balanced which can lead to reduced bias toward the nv class.\n",
        "\n",
        "#### Negatives:\n",
        "* Information Loss: Reducing the number of instances in the majority class nv may result in the loss of potentially important information.\n",
        "* Underfitting: With fewer data points to learn from, the model might not capture the underlying complexity of the data and could underfit.\n",
        "* Decreased Performance on Majority Class: As the majority class nv has fewer examples after downsampling, the model might perform worse on this class due to limited information."
      ]
    },
    {
      "attachments": {},
      "cell_type": "markdown",
      "metadata": {
        "id": "9uWZXH9LwoQg"
      },
      "source": [
        "---"
      ]
    },
    {
      "attachments": {},
      "cell_type": "markdown",
      "metadata": {},
      "source": [
        "---"
      ]
    },
    {
      "attachments": {},
      "cell_type": "markdown",
      "metadata": {},
      "source": [
        "# Import regular packages"
      ]
    },
    {
      "cell_type": "code",
      "execution_count": 9,
      "metadata": {},
      "outputs": [],
      "source": [
        "import os\n",
        "import pandas as pd\n",
        "import numpy as np\n",
        "import matplotlib.pyplot as plt\n",
        "import seaborn as sns\n",
        "from matplotlib.image import imread\n",
        "from tensorflow.keras.preprocessing.image import ImageDataGenerator\n",
        "import joblib"
      ]
    },
    {
      "attachments": {},
      "cell_type": "markdown",
      "metadata": {},
      "source": [
        "---"
      ]
    },
    {
      "attachments": {},
      "cell_type": "markdown",
      "metadata": {},
      "source": [
        "# Change working directory"
      ]
    },
    {
      "cell_type": "code",
      "execution_count": 2,
      "metadata": {},
      "outputs": [
        {
          "data": {
            "text/plain": [
              "'/Users/danielhamilton/CI/project5/AI-DermDiagnosis/jupyter_notebooks'"
            ]
          },
          "execution_count": 2,
          "metadata": {},
          "output_type": "execute_result"
        }
      ],
      "source": [
        "current_dir = os.getcwd()\n",
        "current_dir"
      ]
    },
    {
      "cell_type": "code",
      "execution_count": 3,
      "metadata": {},
      "outputs": [
        {
          "name": "stdout",
          "output_type": "stream",
          "text": [
            "You set a new current directory\n"
          ]
        }
      ],
      "source": [
        "os.chdir(os.path.dirname(current_dir))\n",
        "print(\"You set a new current directory\")"
      ]
    },
    {
      "cell_type": "code",
      "execution_count": 4,
      "metadata": {},
      "outputs": [
        {
          "data": {
            "text/plain": [
              "'/Users/danielhamilton/CI/project5/AI-DermDiagnosis'"
            ]
          },
          "execution_count": 4,
          "metadata": {},
          "output_type": "execute_result"
        }
      ],
      "source": [
        "current_dir = os.getcwd()\n",
        "current_dir"
      ]
    },
    {
      "attachments": {},
      "cell_type": "markdown",
      "metadata": {},
      "source": [
        "---"
      ]
    },
    {
      "attachments": {},
      "cell_type": "markdown",
      "metadata": {},
      "source": [
        "## Set input directories"
      ]
    },
    {
      "attachments": {},
      "cell_type": "markdown",
      "metadata": {
        "id": "9MWW8E7lz3i7"
      },
      "source": [
        "Set train, validation and test paths."
      ]
    },
    {
      "cell_type": "code",
      "execution_count": 5,
      "metadata": {
        "id": "TwHsQRWjz3i9",
        "outputId": "86849db3-cd2f-4cc5-ebb8-2d0caafa1a2c"
      },
      "outputs": [],
      "source": [
        "my_data_dir = 'inputs/skin_cancer_dataset/sorted_images'\n",
        "train_path = my_data_dir + '/train'\n",
        "val_path = my_data_dir + '/validation'\n",
        "test_path = my_data_dir + '/test'"
      ]
    },
    {
      "attachments": {},
      "cell_type": "markdown",
      "metadata": {},
      "source": [
        "## Set output directory"
      ]
    },
    {
      "cell_type": "code",
      "execution_count": 6,
      "metadata": {},
      "outputs": [],
      "source": [
        "version = 'modelling_evaluation_v2'\n",
        "file_path = f'outputs/{version}'\n",
        "\n",
        "if 'outputs' in os.listdir(current_dir) and version in os.listdir(current_dir + '/outputs'):\n",
        "    print('Old version is already available create a new version.')\n",
        "    pass\n",
        "else:\n",
        "    os.makedirs(name=file_path)"
      ]
    },
    {
      "attachments": {},
      "cell_type": "markdown",
      "metadata": {},
      "source": [
        "## Set label names"
      ]
    },
    {
      "cell_type": "code",
      "execution_count": 7,
      "metadata": {},
      "outputs": [
        {
          "name": "stdout",
          "output_type": "stream",
          "text": [
            "Label for train set the images are ['akiec', 'df', 'bkl', 'vasc', 'nv', 'bcc', 'mel'] there are 7\n",
            "Label for test set the images are ['akiec', 'df', 'bkl', 'vasc', 'nv', 'bcc', 'mel'] there are 7\n",
            "Label for val set the images are ['akiec', 'df', 'bkl', 'vasc', 'nv', 'bcc', 'mel'] there are 7\n"
          ]
        }
      ],
      "source": [
        "# Set the labels\n",
        "train_labels = os.listdir(train_path)\n",
        "print('Label for train set the images are', train_labels, 'there are', len(train_labels) )\n",
        "test_labels = os.listdir(test_path)\n",
        "print('Label for test set the images are', test_labels, 'there are', len(test_labels) )\n",
        "val_labels = os.listdir(val_path)\n",
        "print('Label for val set the images are', val_labels, 'there are', len(val_labels) )"
      ]
    },
    {
      "attachments": {},
      "cell_type": "markdown",
      "metadata": {},
      "source": [
        "## Set image shape"
      ]
    },
    {
      "cell_type": "code",
      "execution_count": 10,
      "metadata": {},
      "outputs": [
        {
          "data": {
            "text/plain": [
              "(225, 300, 3)"
            ]
          },
          "execution_count": 10,
          "metadata": {},
          "output_type": "execute_result"
        }
      ],
      "source": [
        "image_shape = (225, 300, 3)\n",
        "image_shape"
      ]
    },
    {
      "cell_type": "code",
      "execution_count": 12,
      "metadata": {},
      "outputs": [
        {
          "data": {
            "text/plain": [
              "['outputs/modelling_evaluation_v2/image_shape.pkl']"
            ]
          },
          "execution_count": 12,
          "metadata": {},
          "output_type": "execute_result"
        }
      ],
      "source": [
        "joblib.dump(value=image_shape ,\n",
        "            filename=f\"{file_path}/image_shape.pkl\")"
      ]
    },
    {
      "cell_type": "code",
      "execution_count": 13,
      "metadata": {},
      "outputs": [
        {
          "data": {
            "text/plain": [
              "(225, 300, 3)"
            ]
          },
          "execution_count": 13,
          "metadata": {},
          "output_type": "execute_result"
        }
      ],
      "source": [
        "## Import saved image shape embedding\n",
        "import joblib\n",
        "image_shape = joblib.load(filename=f\"{file_path}/image_shape.pkl\")\n",
        "image_shape"
      ]
    },
    {
      "attachments": {},
      "cell_type": "markdown",
      "metadata": {
        "id": "ZY3l0-AxO93d"
      },
      "source": [
        "---"
      ]
    },
    {
      "attachments": {},
      "cell_type": "markdown",
      "metadata": {},
      "source": [
        "# Number of images in train, test and validation data"
      ]
    },
    {
      "cell_type": "code",
      "execution_count": 14,
      "metadata": {},
      "outputs": [
        {
          "name": "stdout",
          "output_type": "stream",
          "text": [
            "* train - akiec: 228 images\n",
            "* train - df: 80 images\n",
            "* train - bkl: 769 images\n",
            "* train - vasc: 99 images\n",
            "* train - nv: 4693 images\n",
            "* train - bcc: 359 images\n",
            "* train - mel: 779 images\n",
            "* validation - akiec: 32 images\n",
            "* validation - df: 11 images\n",
            "* validation - bkl: 109 images\n",
            "* validation - vasc: 14 images\n",
            "* validation - nv: 670 images\n",
            "* validation - bcc: 51 images\n",
            "* validation - mel: 111 images\n",
            "* test - akiec: 67 images\n",
            "* test - df: 24 images\n",
            "* test - bkl: 221 images\n",
            "* test - vasc: 29 images\n",
            "* test - nv: 1342 images\n",
            "* test - bcc: 104 images\n",
            "* test - mel: 223 images\n",
            "\n",
            "\n"
          ]
        },
        {
          "data": {
            "image/png": "[encoded data removed]",
            "text/plain": [
              "<Figure size 800x500 with 1 Axes>"
            ]
          },
          "metadata": {},
          "output_type": "display_data"
        }
      ],
      "source": [
        "df_freq = pd.DataFrame([])\n",
        "for folder in ['train', 'validation', 'test']:\n",
        "    for label in train_labels:\n",
        "        df_freq = df_freq.append(\n",
        "            pd.Series(data={'Set': folder,\n",
        "                            'Label': label,\n",
        "                            'Frequency': int(len(os.listdir(my_data_dir + '/' + folder + '/' + label)))}\n",
        "                      ),\n",
        "            ignore_index=True\n",
        "        )\n",
        "\n",
        "        print(\n",
        "            f\"* {folder} - {label}: {len(os.listdir(my_data_dir+'/'+ folder + '/' + label))} images\")\n",
        "\n",
        "print(\"\\n\")\n",
        "sns.set_style(\"whitegrid\")\n",
        "plt.figure(figsize=(8, 5))\n",
        "sns.barplot(data=df_freq, x='Set', y='Frequency', hue='Label')\n",
        "plt.savefig(f'{file_path}/labels_distribution.png',\n",
        "            bbox_inches='tight', dpi=150)\n",
        "plt.show()"
      ]
    },
    {
      "attachments": {},
      "cell_type": "markdown",
      "metadata": {},
      "source": [
        "---"
      ]
    },
    {
      "attachments": {},
      "cell_type": "markdown",
      "metadata": {},
      "source": [
        "## Build training set"
      ]
    },
    {
      "cell_type": "code",
      "execution_count": 15,
      "metadata": {},
      "outputs": [],
      "source": [
        "import os\n",
        "import cv2\n",
        "import numpy as np\n",
        "from sklearn.preprocessing import LabelEncoder\n",
        "\n",
        "# Get the list of all classes (subdirectories in your train directory)\n",
        "classes = os.listdir(train_path)\n",
        "\n",
        "# Initialize the list that will contain all images\n",
        "X_train = []\n",
        "\n",
        "# Initialize the list that will contain all labels\n",
        "y_train = []\n",
        "\n",
        "# For each class (subdirectory) in your train directory\n",
        "for class_name in classes:\n",
        "    # Get the list of all images in this subdirectory\n",
        "    images = os.listdir(os.path.join(train_path, class_name))\n",
        "    \n",
        "    # For each image\n",
        "    for image_name in images:\n",
        "        # Construct the full path to the image\n",
        "        image_path = os.path.join(train_path, class_name, image_name)\n",
        "        \n",
        "        # Read the image and resize it to some fixed size (e.g., 150x150)\n",
        "        image = cv2.imread(image_path)\n",
        "        image = cv2.resize(image, (150, 150))\n",
        "        \n",
        "        # Add this image to the list of all images\n",
        "        X_train.append(image)\n",
        "        \n",
        "        # Add the label (class name) of this image to the list of all labels\n",
        "        y_train.append(class_name)\n",
        "\n",
        "# Convert the list of images into a numpy array\n",
        "X_train = np.array(X_train)\n",
        "\n",
        "# # Convert the labels into integers\n",
        "label_encoder = LabelEncoder()\n",
        "y_train_encode = label_encoder.fit_transform(y_train)"
      ]
    },
    {
      "attachments": {},
      "cell_type": "markdown",
      "metadata": {},
      "source": [
        "## Upsampling"
      ]
    },
    {
      "cell_type": "code",
      "execution_count": 18,
      "metadata": {},
      "outputs": [
        {
          "name": "stdout",
          "output_type": "stream",
          "text": [
            "nv       4693\n",
            "mel      1575\n",
            "bkl      1565\n",
            "bcc       730\n",
            "akiec     471\n",
            "vasc      201\n",
            "df        151\n",
            "Name: dx, dtype: int64\n"
          ]
        },
        {
          "data": {
            "image/png": "[encoded data removed]",
            "text/plain": [
              "<Figure size 800x500 with 1 Axes>"
            ]
          },
          "metadata": {},
          "output_type": "display_data"
        }
      ],
      "source": [
        "from sklearn.utils import resample\n",
        "\n",
        "# Now let's create a DataFrame using these names\n",
        "df_train = pd.DataFrame(y_train, columns=['dx'])\n",
        "\n",
        "# Then, proceed as before:\n",
        "\n",
        "# Separate majority and minority classes\n",
        "df_majority = df_train[df_train.dx=='nv']\n",
        "df_minority = df_train[df_train.dx!='nv']\n",
        "\n",
        "# Upsample minority class\n",
        "df_minority_upsampled = resample(df_minority, \n",
        "                                replace=True,     # Sample with replacement\n",
        "                                n_samples=len(df_majority),    # To match majority class\n",
        "                                random_state=123) # Reproducible results\n",
        "\n",
        "# Combine majority class with upsampled minority class\n",
        "df_upsampled = pd.concat([df_majority, df_minority_upsampled])\n",
        "\n",
        "# Get the indices of upsampled data\n",
        "upsampled_indices = df_upsampled.index\n",
        "\n",
        "# Use these indices to select the corresponding images from X_train\n",
        "X_train_upsampled = X_train[upsampled_indices]\n",
        "\n",
        "# Display new class counts\n",
        "print(df_upsampled.dx.value_counts())\n",
        "\n",
        "# Now let's plot the new distribution\n",
        "df_freq_upsampled = df_upsampled['dx'].value_counts().reset_index()\n",
        "df_freq_upsampled.columns = ['Label', 'Frequency']\n",
        "\n",
        "sns.set_style(\"whitegrid\")\n",
        "plt.figure(figsize=(8, 5))\n",
        "sns.barplot(data=df_freq_upsampled, x='Label', y='Frequency')\n",
        "plt.title('Distribution of Classes After Upsampling')\n",
        "plt.show()"
      ]
    },
    {
      "attachments": {},
      "cell_type": "markdown",
      "metadata": {},
      "source": [
        "## Downsampling"
      ]
    },
    {
      "cell_type": "code",
      "execution_count": 20,
      "metadata": {},
      "outputs": [
        {
          "name": "stdout",
          "output_type": "stream",
          "text": [
            "nv       2314\n",
            "mel       779\n",
            "bkl       769\n",
            "bcc       359\n",
            "akiec     228\n",
            "vasc       99\n",
            "df         80\n",
            "Name: dx, dtype: int64\n"
          ]
        },
        {
          "data": {
            "image/png": "[encoded data removed]",
            "text/plain": [
              "<Figure size 800x500 with 1 Axes>"
            ]
          },
          "metadata": {},
          "output_type": "display_data"
        }
      ],
      "source": [
        "from sklearn.utils import resample\n",
        "\n",
        "# Now let's create a DataFrame using these names\n",
        "df_train = pd.DataFrame(y_train, columns=['dx'])\n",
        "\n",
        "# Separate majority and minority classes\n",
        "df_majority = df_train[df_train.dx=='nv']\n",
        "df_minority = df_train[df_train.dx!='nv']\n",
        "\n",
        "# Downsample majority class\n",
        "df_majority_downsampled = resample(df_majority, \n",
        "                                  replace=False,    # sample without replacement\n",
        "                                  n_samples=len(df_minority),     # to match minority class\n",
        "                                  random_state=123) # reproducible results\n",
        "\n",
        "# Combine minority class with downsampled majority class\n",
        "df_downsampled = pd.concat([df_minority, df_majority_downsampled])\n",
        "\n",
        "# Get the indices of downsampled data\n",
        "downsampled_indices = df_downsampled.index\n",
        "\n",
        "# Use these indices to select the corresponding images from X_train\n",
        "X_train_downsampled = X_train[downsampled_indices]\n",
        "\n",
        "# Display new class counts\n",
        "print(df_downsampled.dx.value_counts())\n",
        "\n",
        "# Now let's plot the new distribution\n",
        "df_freq_downsampled = df_downsampled['dx'].value_counts().reset_index()\n",
        "df_freq_downsampled.columns = ['Label', 'Frequency']\n",
        "\n",
        "sns.set_style(\"whitegrid\")\n",
        "plt.figure(figsize=(8, 5))\n",
        "sns.barplot(data=df_freq_downsampled, x='Label', y='Frequency')\n",
        "plt.title('Distribution of Classes After Downsampling')\n",
        "plt.show()"
      ]
    },
    {
      "attachments": {},
      "cell_type": "markdown",
      "metadata": {},
      "source": [
        "---"
      ]
    },
    {
      "attachments": {},
      "cell_type": "markdown",
      "metadata": {},
      "source": [
        "---"
      ]
    },
    {
      "attachments": {},
      "cell_type": "markdown",
      "metadata": {},
      "source": [
        "NOTE"
      ]
    },
    {
      "attachments": {},
      "cell_type": "markdown",
      "metadata": {},
      "source": [
        "## Upsampling Comments\n",
        "* Synthetic Data Repetition: For classes like df with only 151 original instances, creating 4693 instances would mean a lot of repetition or synthetic data creation. The synthetic samples might not represent true underlying variations and could lead to the model learning noise or being overfit to the characteristics of the limited original samples.\n",
        "\n",
        "* Increased Computational Cost: With the total number of samples being significantly increased, the computational requirements for training models on this data would also rise. This could lead to longer training times and might not be feasible with limited resources.\n",
        "\n",
        "* Dilution of Informative Features: The majority class nv originally had more examples, probably with more variability and information. Upsampling the minority classes to the same number of instances might cause the model to focus too much on the minority classes. This could lead to the dilution of informative features from the majority class.\n",
        "\n",
        "## Downsampling Comments\n",
        "* Loss of Information: Downsampling involves reducing the number of instances in the majority class 'nv'. In this dataset, the class nv has been reduced from 4693 to 2314 instances. This means that a large amount of data and potentially valuable information is lost, which could have contributed to the model's performance.\n",
        "\n",
        "* Underfitting: With significantly fewer examples to learn from, the model might not capture the complexity and variability of the data well enough. This might lead to underfitting, where the model is too simple to capture the underlying patterns.\n",
        "\n",
        "* Reduced Representativeness: When downsampling, there is a chance that the samples chosen to represent the classes are not fully representative of the entire population of those classes. This can lead to a model that performs well on the training data but poorly on unseen data, due to lack of generalization."
      ]
    },
    {
      "attachments": {},
      "cell_type": "markdown",
      "metadata": {},
      "source": [
        "---"
      ]
    }
  ],
  "metadata": {
    "accelerator": "GPU",
    "colab": {
      "name": "Data Practitioner Jupyter Notebook.ipynb",
      "provenance": [],
      "toc_visible": true
    },
    "interpreter": {
      "hash": "8b8334dab9339717f727a1deaf837b322d7a41c20d15cc86be99a8e69ceec8ce"
    },
    "kernelspec": {
      "display_name": "Python 3.8.12 64-bit ('3.8.12': pyenv)",
      "name": "python3"
    },
    "language_info": {
      "codemirror_mode": {
        "name": "ipython",
        "version": 3
      },
      "file_extension": ".py",
      "mimetype": "text/x-python",
      "name": "python",
      "nbconvert_exporter": "python",
      "pygments_lexer": "ipython3",
      "version": "3.8.12"
    },
    "orig_nbformat": 2
  },
  "nbformat": 4,
  "nbformat_minor": 2
}
