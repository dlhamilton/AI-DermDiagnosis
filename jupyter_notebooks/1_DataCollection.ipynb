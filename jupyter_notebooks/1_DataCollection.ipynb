{
 "cells": [
  {
   "attachments": {},
   "cell_type": "markdown",
   "metadata": {
    "id": "0aStgWSO0E0E"
   },
   "source": [
    "# **Data Collection**"
   ]
  },
  {
   "attachments": {},
   "cell_type": "markdown",
   "metadata": {
    "id": "1eLEkw5O0ECa"
   },
   "source": [
    "## Objectives\n",
    "\n",
    "* Fetch data from Kaggle and prepare it for further processes.\n",
    "\n",
    "## Inputs\n",
    "\n",
    "* Kaggle JSON file - the authentication token.\n",
    "\n",
    "## Outputs\n",
    "\n",
    "* Generate Dataset: inputs/datasets/skin_cancer_dataset\n",
    "\n",
    "## Additional Comments\n",
    "\n",
    "* No additional comments.\n"
   ]
  },
  {
   "attachments": {},
   "cell_type": "markdown",
   "metadata": {
    "id": "9uWZXH9LwoQg"
   },
   "source": [
    "---"
   ]
  },
  {
   "attachments": {},
   "cell_type": "markdown",
   "metadata": {},
   "source": [
    "# Import packages"
   ]
  },
  {
   "cell_type": "code",
   "execution_count": 1,
   "metadata": {
    "tags": []
   },
   "outputs": [
    {
     "name": "stdout",
     "output_type": "stream",
     "text": [
      "Requirement already satisfied: numpy==1.19.2 in /Users/danielhamilton/.pyenv/versions/3.8.12/lib/python3.8/site-packages (from -r ../requirements.txt (line 1)) (1.19.2)\n",
      "Requirement already satisfied: pandas==1.1.2 in /Users/danielhamilton/.pyenv/versions/3.8.12/lib/python3.8/site-packages (from -r ../requirements.txt (line 2)) (1.1.2)\n",
      "Requirement already satisfied: matplotlib==3.3.1 in /Users/danielhamilton/.pyenv/versions/3.8.12/lib/python3.8/site-packages (from -r ../requirements.txt (line 3)) (3.3.1)\n",
      "Requirement already satisfied: seaborn==0.11.0 in /Users/danielhamilton/.pyenv/versions/3.8.12/lib/python3.8/site-packages (from -r ../requirements.txt (line 4)) (0.11.0)\n",
      "Requirement already satisfied: plotly==4.12.0 in /Users/danielhamilton/.pyenv/versions/3.8.12/lib/python3.8/site-packages (from -r ../requirements.txt (line 5)) (4.12.0)\n",
      "Requirement already satisfied: streamlit==0.85.0 in /Users/danielhamilton/.pyenv/versions/3.8.12/lib/python3.8/site-packages (from -r ../requirements.txt (line 7)) (0.85.0)\n",
      "Requirement already satisfied: scikit-learn==0.24.2 in /Users/danielhamilton/.pyenv/versions/3.8.12/lib/python3.8/site-packages (from -r ../requirements.txt (line 9)) (0.24.2)\n",
      "Requirement already satisfied: tensorflow-cpu==2.6.0 in /Users/danielhamilton/.pyenv/versions/3.8.12/lib/python3.8/site-packages (from -r ../requirements.txt (line 10)) (2.6.0)\n",
      "Requirement already satisfied: keras==2.6.0 in /Users/danielhamilton/.pyenv/versions/3.8.12/lib/python3.8/site-packages (from -r ../requirements.txt (line 11)) (2.6.0)\n",
      "Requirement already satisfied: protobuf==3.20 in /Users/danielhamilton/.pyenv/versions/3.8.12/lib/python3.8/site-packages (from -r ../requirements.txt (line 12)) (3.20.0)\n",
      "Requirement already satisfied: python-dateutil>=2.7.3 in /Users/danielhamilton/.pyenv/versions/3.8.12/lib/python3.8/site-packages (from pandas==1.1.2->-r ../requirements.txt (line 2)) (2.8.2)\n",
      "Requirement already satisfied: pytz>=2017.2 in /Users/danielhamilton/.pyenv/versions/3.8.12/lib/python3.8/site-packages (from pandas==1.1.2->-r ../requirements.txt (line 2)) (2023.3)\n",
      "Requirement already satisfied: kiwisolver>=1.0.1 in /Users/danielhamilton/.pyenv/versions/3.8.12/lib/python3.8/site-packages (from matplotlib==3.3.1->-r ../requirements.txt (line 3)) (1.4.4)\n",
      "Requirement already satisfied: pyparsing!=2.0.4,!=2.1.2,!=2.1.6,>=2.0.3 in /Users/danielhamilton/.pyenv/versions/3.8.12/lib/python3.8/site-packages (from matplotlib==3.3.1->-r ../requirements.txt (line 3)) (3.0.9)\n",
      "Requirement already satisfied: pillow>=6.2.0 in /Users/danielhamilton/.pyenv/versions/3.8.12/lib/python3.8/site-packages (from matplotlib==3.3.1->-r ../requirements.txt (line 3)) (9.5.0)\n",
      "Requirement already satisfied: certifi>=2020.06.20 in /Users/danielhamilton/.pyenv/versions/3.8.12/lib/python3.8/site-packages (from matplotlib==3.3.1->-r ../requirements.txt (line 3)) (2023.5.7)\n",
      "Requirement already satisfied: cycler>=0.10 in /Users/danielhamilton/.pyenv/versions/3.8.12/lib/python3.8/site-packages (from matplotlib==3.3.1->-r ../requirements.txt (line 3)) (0.11.0)\n",
      "Requirement already satisfied: scipy>=1.0 in /Users/danielhamilton/.pyenv/versions/3.8.12/lib/python3.8/site-packages (from seaborn==0.11.0->-r ../requirements.txt (line 4)) (1.9.3)\n",
      "Requirement already satisfied: retrying>=1.3.3 in /Users/danielhamilton/.pyenv/versions/3.8.12/lib/python3.8/site-packages (from plotly==4.12.0->-r ../requirements.txt (line 5)) (1.3.4)\n",
      "Requirement already satisfied: six in /Users/danielhamilton/.pyenv/versions/3.8.12/lib/python3.8/site-packages (from plotly==4.12.0->-r ../requirements.txt (line 5)) (1.15.0)\n",
      "Requirement already satisfied: packaging in /Users/danielhamilton/.pyenv/versions/3.8.12/lib/python3.8/site-packages (from streamlit==0.85.0->-r ../requirements.txt (line 7)) (23.1)\n",
      "Requirement already satisfied: altair>=3.2.0 in /Users/danielhamilton/.pyenv/versions/3.8.12/lib/python3.8/site-packages (from streamlit==0.85.0->-r ../requirements.txt (line 7)) (4.2.2)\n",
      "Requirement already satisfied: requests in /Users/danielhamilton/.pyenv/versions/3.8.12/lib/python3.8/site-packages (from streamlit==0.85.0->-r ../requirements.txt (line 7)) (2.30.0)\n",
      "Requirement already satisfied: validators in /Users/danielhamilton/.pyenv/versions/3.8.12/lib/python3.8/site-packages (from streamlit==0.85.0->-r ../requirements.txt (line 7)) (0.20.0)\n",
      "Requirement already satisfied: blinker in /Users/danielhamilton/.pyenv/versions/3.8.12/lib/python3.8/site-packages (from streamlit==0.85.0->-r ../requirements.txt (line 7)) (1.6.2)\n",
      "Requirement already satisfied: click<8.0,>=7.0 in /Users/danielhamilton/.pyenv/versions/3.8.12/lib/python3.8/site-packages (from streamlit==0.85.0->-r ../requirements.txt (line 7)) (7.1.2)\n",
      "Requirement already satisfied: toml in /Users/danielhamilton/.pyenv/versions/3.8.12/lib/python3.8/site-packages (from streamlit==0.85.0->-r ../requirements.txt (line 7)) (0.10.2)\n",
      "Requirement already satisfied: attrs in /Users/danielhamilton/.pyenv/versions/3.8.12/lib/python3.8/site-packages (from streamlit==0.85.0->-r ../requirements.txt (line 7)) (23.1.0)\n",
      "Requirement already satisfied: pydeck>=0.1.dev5 in /Users/danielhamilton/.pyenv/versions/3.8.12/lib/python3.8/site-packages (from streamlit==0.85.0->-r ../requirements.txt (line 7)) (0.8.1b0)\n",
      "Requirement already satisfied: pyarrow in /Users/danielhamilton/.pyenv/versions/3.8.12/lib/python3.8/site-packages (from streamlit==0.85.0->-r ../requirements.txt (line 7)) (12.0.0)\n",
      "Requirement already satisfied: astor in /Users/danielhamilton/.pyenv/versions/3.8.12/lib/python3.8/site-packages (from streamlit==0.85.0->-r ../requirements.txt (line 7)) (0.8.1)\n",
      "Requirement already satisfied: cachetools>=4.0 in /Users/danielhamilton/.pyenv/versions/3.8.12/lib/python3.8/site-packages (from streamlit==0.85.0->-r ../requirements.txt (line 7)) (5.3.0)\n",
      "Requirement already satisfied: tzlocal in /Users/danielhamilton/.pyenv/versions/3.8.12/lib/python3.8/site-packages (from streamlit==0.85.0->-r ../requirements.txt (line 7)) (5.0.1)\n",
      "Requirement already satisfied: base58 in /Users/danielhamilton/.pyenv/versions/3.8.12/lib/python3.8/site-packages (from streamlit==0.85.0->-r ../requirements.txt (line 7)) (2.1.1)\n",
      "Requirement already satisfied: tornado>=5.0 in /Users/danielhamilton/.pyenv/versions/3.8.12/lib/python3.8/site-packages (from streamlit==0.85.0->-r ../requirements.txt (line 7)) (6.3.2)\n",
      "Requirement already satisfied: gitpython in /Users/danielhamilton/.pyenv/versions/3.8.12/lib/python3.8/site-packages (from streamlit==0.85.0->-r ../requirements.txt (line 7)) (3.1.31)\n",
      "Requirement already satisfied: threadpoolctl>=2.0.0 in /Users/danielhamilton/.pyenv/versions/3.8.12/lib/python3.8/site-packages (from scikit-learn==0.24.2->-r ../requirements.txt (line 9)) (3.1.0)\n",
      "Requirement already satisfied: joblib>=0.11 in /Users/danielhamilton/.pyenv/versions/3.8.12/lib/python3.8/site-packages (from scikit-learn==0.24.2->-r ../requirements.txt (line 9)) (1.0.1)\n",
      "Requirement already satisfied: opt-einsum~=3.3.0 in /Users/danielhamilton/.pyenv/versions/3.8.12/lib/python3.8/site-packages (from tensorflow-cpu==2.6.0->-r ../requirements.txt (line 10)) (3.3.0)\n",
      "Requirement already satisfied: gast==0.4.0 in /Users/danielhamilton/.pyenv/versions/3.8.12/lib/python3.8/site-packages (from tensorflow-cpu==2.6.0->-r ../requirements.txt (line 10)) (0.4.0)\n",
      "Requirement already satisfied: flatbuffers~=1.12.0 in /Users/danielhamilton/.pyenv/versions/3.8.12/lib/python3.8/site-packages (from tensorflow-cpu==2.6.0->-r ../requirements.txt (line 10)) (1.12)\n",
      "Requirement already satisfied: absl-py~=0.10 in /Users/danielhamilton/.pyenv/versions/3.8.12/lib/python3.8/site-packages (from tensorflow-cpu==2.6.0->-r ../requirements.txt (line 10)) (0.15.0)\n",
      "Requirement already satisfied: astunparse~=1.6.3 in /Users/danielhamilton/.pyenv/versions/3.8.12/lib/python3.8/site-packages (from tensorflow-cpu==2.6.0->-r ../requirements.txt (line 10)) (1.6.3)\n",
      "Requirement already satisfied: tensorflow-estimator~=2.6 in /Users/danielhamilton/.pyenv/versions/3.8.12/lib/python3.8/site-packages (from tensorflow-cpu==2.6.0->-r ../requirements.txt (line 10)) (2.12.0)\n",
      "Requirement already satisfied: grpcio<2.0,>=1.37.0 in /Users/danielhamilton/.pyenv/versions/3.8.12/lib/python3.8/site-packages (from tensorflow-cpu==2.6.0->-r ../requirements.txt (line 10)) (1.54.2)\n",
      "Requirement already satisfied: tensorboard~=2.6 in /Users/danielhamilton/.pyenv/versions/3.8.12/lib/python3.8/site-packages (from tensorflow-cpu==2.6.0->-r ../requirements.txt (line 10)) (2.13.0)\n",
      "Requirement already satisfied: wrapt~=1.12.1 in /Users/danielhamilton/.pyenv/versions/3.8.12/lib/python3.8/site-packages (from tensorflow-cpu==2.6.0->-r ../requirements.txt (line 10)) (1.12.1)\n",
      "Requirement already satisfied: termcolor~=1.1.0 in /Users/danielhamilton/.pyenv/versions/3.8.12/lib/python3.8/site-packages (from tensorflow-cpu==2.6.0->-r ../requirements.txt (line 10)) (1.1.0)\n",
      "Requirement already satisfied: h5py~=3.1.0 in /Users/danielhamilton/.pyenv/versions/3.8.12/lib/python3.8/site-packages (from tensorflow-cpu==2.6.0->-r ../requirements.txt (line 10)) (3.1.0)\n",
      "Requirement already satisfied: google-pasta~=0.2 in /Users/danielhamilton/.pyenv/versions/3.8.12/lib/python3.8/site-packages (from tensorflow-cpu==2.6.0->-r ../requirements.txt (line 10)) (0.2.0)\n",
      "Requirement already satisfied: typing-extensions~=3.7.4 in /Users/danielhamilton/.pyenv/versions/3.8.12/lib/python3.8/site-packages (from tensorflow-cpu==2.6.0->-r ../requirements.txt (line 10)) (3.7.4.3)\n",
      "Requirement already satisfied: clang~=5.0 in /Users/danielhamilton/.pyenv/versions/3.8.12/lib/python3.8/site-packages (from tensorflow-cpu==2.6.0->-r ../requirements.txt (line 10)) (5.0)\n",
      "Requirement already satisfied: keras-preprocessing~=1.1.2 in /Users/danielhamilton/.pyenv/versions/3.8.12/lib/python3.8/site-packages (from tensorflow-cpu==2.6.0->-r ../requirements.txt (line 10)) (1.1.2)\n",
      "Requirement already satisfied: wheel~=0.35 in /Users/danielhamilton/.pyenv/versions/3.8.12/lib/python3.8/site-packages (from tensorflow-cpu==2.6.0->-r ../requirements.txt (line 10)) (0.40.0)\n",
      "Requirement already satisfied: entrypoints in /Users/danielhamilton/.pyenv/versions/3.8.12/lib/python3.8/site-packages (from altair>=3.2.0->streamlit==0.85.0->-r ../requirements.txt (line 7)) (0.4)\n",
      "Requirement already satisfied: jinja2 in /Users/danielhamilton/.pyenv/versions/3.8.12/lib/python3.8/site-packages (from altair>=3.2.0->streamlit==0.85.0->-r ../requirements.txt (line 7)) (3.1.1)\n",
      "Requirement already satisfied: toolz in /Users/danielhamilton/.pyenv/versions/3.8.12/lib/python3.8/site-packages (from altair>=3.2.0->streamlit==0.85.0->-r ../requirements.txt (line 7)) (0.12.0)\n",
      "Requirement already satisfied: jsonschema>=3.0 in /Users/danielhamilton/.pyenv/versions/3.8.12/lib/python3.8/site-packages (from altair>=3.2.0->streamlit==0.85.0->-r ../requirements.txt (line 7)) (4.17.3)\n",
      "Requirement already satisfied: pyrsistent!=0.17.0,!=0.17.1,!=0.17.2,>=0.14.0 in /Users/danielhamilton/.pyenv/versions/3.8.12/lib/python3.8/site-packages (from jsonschema>=3.0->altair>=3.2.0->streamlit==0.85.0->-r ../requirements.txt (line 7)) (0.19.3)\n",
      "Requirement already satisfied: importlib-resources>=1.4.0 in /Users/danielhamilton/.pyenv/versions/3.8.12/lib/python3.8/site-packages (from jsonschema>=3.0->altair>=3.2.0->streamlit==0.85.0->-r ../requirements.txt (line 7)) (5.12.0)\n",
      "Requirement already satisfied: pkgutil-resolve-name>=1.3.10 in /Users/danielhamilton/.pyenv/versions/3.8.12/lib/python3.8/site-packages (from jsonschema>=3.0->altair>=3.2.0->streamlit==0.85.0->-r ../requirements.txt (line 7)) (1.3.10)\n",
      "Requirement already satisfied: zipp>=3.1.0 in /Users/danielhamilton/.pyenv/versions/3.8.12/lib/python3.8/site-packages (from importlib-resources>=1.4.0->jsonschema>=3.0->altair>=3.2.0->streamlit==0.85.0->-r ../requirements.txt (line 7)) (3.15.0)\n",
      "Requirement already satisfied: MarkupSafe>=2.0 in /Users/danielhamilton/.pyenv/versions/3.8.12/lib/python3.8/site-packages (from jinja2->altair>=3.2.0->streamlit==0.85.0->-r ../requirements.txt (line 7)) (2.1.3)\n",
      "Requirement already satisfied: markdown>=2.6.8 in /Users/danielhamilton/.pyenv/versions/3.8.12/lib/python3.8/site-packages (from tensorboard~=2.6->tensorflow-cpu==2.6.0->-r ../requirements.txt (line 10)) (3.4.3)\n",
      "Requirement already satisfied: setuptools>=41.0.0 in /Users/danielhamilton/.pyenv/versions/3.8.12/lib/python3.8/site-packages (from tensorboard~=2.6->tensorflow-cpu==2.6.0->-r ../requirements.txt (line 10)) (56.0.0)\n",
      "Requirement already satisfied: google-auth-oauthlib<1.1,>=0.5 in /Users/danielhamilton/.pyenv/versions/3.8.12/lib/python3.8/site-packages (from tensorboard~=2.6->tensorflow-cpu==2.6.0->-r ../requirements.txt (line 10)) (1.0.0)\n",
      "Requirement already satisfied: werkzeug>=1.0.1 in /Users/danielhamilton/.pyenv/versions/3.8.12/lib/python3.8/site-packages (from tensorboard~=2.6->tensorflow-cpu==2.6.0->-r ../requirements.txt (line 10)) (2.3.4)\n",
      "Requirement already satisfied: google-auth<3,>=1.6.3 in /Users/danielhamilton/.pyenv/versions/3.8.12/lib/python3.8/site-packages (from tensorboard~=2.6->tensorflow-cpu==2.6.0->-r ../requirements.txt (line 10)) (2.19.1)\n",
      "Requirement already satisfied: tensorboard-data-server<0.8.0,>=0.7.0 in /Users/danielhamilton/.pyenv/versions/3.8.12/lib/python3.8/site-packages (from tensorboard~=2.6->tensorflow-cpu==2.6.0->-r ../requirements.txt (line 10)) (0.7.0)\n",
      "Requirement already satisfied: pyasn1-modules>=0.2.1 in /Users/danielhamilton/.pyenv/versions/3.8.12/lib/python3.8/site-packages (from google-auth<3,>=1.6.3->tensorboard~=2.6->tensorflow-cpu==2.6.0->-r ../requirements.txt (line 10)) (0.3.0)\n",
      "Requirement already satisfied: rsa<5,>=3.1.4 in /Users/danielhamilton/.pyenv/versions/3.8.12/lib/python3.8/site-packages (from google-auth<3,>=1.6.3->tensorboard~=2.6->tensorflow-cpu==2.6.0->-r ../requirements.txt (line 10)) (4.9)\n",
      "Requirement already satisfied: urllib3<2.0 in /Users/danielhamilton/.pyenv/versions/3.8.12/lib/python3.8/site-packages (from google-auth<3,>=1.6.3->tensorboard~=2.6->tensorflow-cpu==2.6.0->-r ../requirements.txt (line 10)) (1.26.16)\n",
      "Requirement already satisfied: requests-oauthlib>=0.7.0 in /Users/danielhamilton/.pyenv/versions/3.8.12/lib/python3.8/site-packages (from google-auth-oauthlib<1.1,>=0.5->tensorboard~=2.6->tensorflow-cpu==2.6.0->-r ../requirements.txt (line 10)) (1.3.1)\n",
      "Requirement already satisfied: importlib-metadata>=4.4 in /Users/danielhamilton/.pyenv/versions/3.8.12/lib/python3.8/site-packages (from markdown>=2.6.8->tensorboard~=2.6->tensorflow-cpu==2.6.0->-r ../requirements.txt (line 10)) (6.6.0)\n",
      "Requirement already satisfied: pyasn1<0.6.0,>=0.4.6 in /Users/danielhamilton/.pyenv/versions/3.8.12/lib/python3.8/site-packages (from pyasn1-modules>=0.2.1->google-auth<3,>=1.6.3->tensorboard~=2.6->tensorflow-cpu==2.6.0->-r ../requirements.txt (line 10)) (0.5.0)\n",
      "Requirement already satisfied: idna<4,>=2.5 in /Users/danielhamilton/.pyenv/versions/3.8.12/lib/python3.8/site-packages (from requests->streamlit==0.85.0->-r ../requirements.txt (line 7)) (3.4)\n",
      "Requirement already satisfied: charset-normalizer<4,>=2 in /Users/danielhamilton/.pyenv/versions/3.8.12/lib/python3.8/site-packages (from requests->streamlit==0.85.0->-r ../requirements.txt (line 7)) (3.1.0)\n",
      "Requirement already satisfied: oauthlib>=3.0.0 in /Users/danielhamilton/.pyenv/versions/3.8.12/lib/python3.8/site-packages (from requests-oauthlib>=0.7.0->google-auth-oauthlib<1.1,>=0.5->tensorboard~=2.6->tensorflow-cpu==2.6.0->-r ../requirements.txt (line 10)) (3.2.2)\n",
      "Requirement already satisfied: gitdb<5,>=4.0.1 in /Users/danielhamilton/.pyenv/versions/3.8.12/lib/python3.8/site-packages (from gitpython->streamlit==0.85.0->-r ../requirements.txt (line 7)) (4.0.10)\n",
      "Requirement already satisfied: smmap<6,>=3.0.1 in /Users/danielhamilton/.pyenv/versions/3.8.12/lib/python3.8/site-packages (from gitdb<5,>=4.0.1->gitpython->streamlit==0.85.0->-r ../requirements.txt (line 7)) (5.0.0)\n",
      "Requirement already satisfied: backports.zoneinfo in /Users/danielhamilton/.pyenv/versions/3.8.12/lib/python3.8/site-packages (from tzlocal->streamlit==0.85.0->-r ../requirements.txt (line 7)) (0.2.1)\n",
      "Requirement already satisfied: decorator>=3.4.0 in /Users/danielhamilton/.pyenv/versions/3.8.12/lib/python3.8/site-packages (from validators->streamlit==0.85.0->-r ../requirements.txt (line 7)) (5.1.1)\n",
      "\u001b[33mWARNING: You are using pip version 21.1.1; however, version 23.1.2 is available.\n",
      "You should consider upgrading via the '/Users/danielhamilton/.pyenv/versions/3.8.12/bin/python -m pip install --upgrade pip' command.\u001b[0m\n",
      "Note: you may need to restart the kernel to use updated packages.\n"
     ]
    }
   ],
   "source": [
    "%pip install -r ../requirements.txt"
   ]
  },
  {
   "cell_type": "code",
   "execution_count": 2,
   "metadata": {},
   "outputs": [],
   "source": [
    "import numpy\n",
    "import os"
   ]
  },
  {
   "attachments": {},
   "cell_type": "markdown",
   "metadata": {
    "id": "cqP-UeN-z3i2"
   },
   "source": [
    "# Change working directory"
   ]
  },
  {
   "cell_type": "code",
   "execution_count": 3,
   "metadata": {
    "id": "wZfF_j-Bz3i4",
    "outputId": "66943449-1436-4c3d-85c7-b85f9f78349b"
   },
   "outputs": [
    {
     "data": {
      "text/plain": [
       "'/Users/danielhamilton/CI/project5/AI-DermDiagnosis/jupyter_notebooks'"
      ]
     },
     "execution_count": 3,
     "metadata": {},
     "output_type": "execute_result"
    }
   ],
   "source": [
    "current_dir = os.getcwd()\n",
    "current_dir"
   ]
  },
  {
   "cell_type": "code",
   "execution_count": 4,
   "metadata": {
    "id": "TwHsQRWjz3i9",
    "outputId": "86849db3-cd2f-4cc5-ebb8-2d0caafa1a2c",
    "tags": []
   },
   "outputs": [
    {
     "name": "stdout",
     "output_type": "stream",
     "text": [
      "You set a new current directory\n"
     ]
    }
   ],
   "source": [
    "os.chdir(os.path.dirname(current_dir))\n",
    "print(\"You set a new current directory\")"
   ]
  },
  {
   "attachments": {},
   "cell_type": "markdown",
   "metadata": {
    "id": "M_xPk_Ijz3i-"
   },
   "source": [
    "Confirm the new current directory"
   ]
  },
  {
   "cell_type": "code",
   "execution_count": 5,
   "metadata": {
    "id": "vz3S-_kjz3jA",
    "outputId": "00b79ae4-75d0-4a96-d193-ac9ef9847ea2"
   },
   "outputs": [
    {
     "data": {
      "text/plain": [
       "'/Users/danielhamilton/CI/project5/AI-DermDiagnosis'"
      ]
     },
     "execution_count": 5,
     "metadata": {},
     "output_type": "execute_result"
    }
   ],
   "source": [
    "current_dir = os.getcwd()\n",
    "current_dir"
   ]
  },
  {
   "attachments": {},
   "cell_type": "markdown",
   "metadata": {
    "id": "-mavJ8DibrcQ"
   },
   "source": [
    "# Install Kaggle"
   ]
  },
  {
   "cell_type": "code",
   "execution_count": 6,
   "metadata": {
    "tags": []
   },
   "outputs": [
    {
     "name": "stdout",
     "output_type": "stream",
     "text": [
      "Requirement already satisfied: kaggle==1.5.12 in /Users/danielhamilton/.pyenv/versions/3.8.12/lib/python3.8/site-packages (1.5.12)\n",
      "Requirement already satisfied: tqdm in /Users/danielhamilton/.pyenv/versions/3.8.12/lib/python3.8/site-packages (from kaggle==1.5.12) (4.65.0)\n",
      "Requirement already satisfied: urllib3 in /Users/danielhamilton/.pyenv/versions/3.8.12/lib/python3.8/site-packages (from kaggle==1.5.12) (1.26.16)\n",
      "Requirement already satisfied: python-dateutil in /Users/danielhamilton/.pyenv/versions/3.8.12/lib/python3.8/site-packages (from kaggle==1.5.12) (2.8.2)\n",
      "Requirement already satisfied: certifi in /Users/danielhamilton/.pyenv/versions/3.8.12/lib/python3.8/site-packages (from kaggle==1.5.12) (2023.5.7)\n",
      "Requirement already satisfied: python-slugify in /Users/danielhamilton/.pyenv/versions/3.8.12/lib/python3.8/site-packages (from kaggle==1.5.12) (8.0.1)\n",
      "Requirement already satisfied: six>=1.10 in /Users/danielhamilton/.pyenv/versions/3.8.12/lib/python3.8/site-packages (from kaggle==1.5.12) (1.15.0)\n",
      "Requirement already satisfied: requests in /Users/danielhamilton/.pyenv/versions/3.8.12/lib/python3.8/site-packages (from kaggle==1.5.12) (2.30.0)\n",
      "Requirement already satisfied: text-unidecode>=1.3 in /Users/danielhamilton/.pyenv/versions/3.8.12/lib/python3.8/site-packages (from python-slugify->kaggle==1.5.12) (1.3)\n",
      "Requirement already satisfied: idna<4,>=2.5 in /Users/danielhamilton/.pyenv/versions/3.8.12/lib/python3.8/site-packages (from requests->kaggle==1.5.12) (3.4)\n",
      "Requirement already satisfied: charset-normalizer<4,>=2 in /Users/danielhamilton/.pyenv/versions/3.8.12/lib/python3.8/site-packages (from requests->kaggle==1.5.12) (3.1.0)\n",
      "\u001b[33mWARNING: You are using pip version 21.1.1; however, version 23.1.2 is available.\n",
      "You should consider upgrading via the '/Users/danielhamilton/.pyenv/versions/3.8.12/bin/python -m pip install --upgrade pip' command.\u001b[0m\n",
      "Note: you may need to restart the kernel to use updated packages.\n"
     ]
    }
   ],
   "source": [
    "%pip install kaggle==1.5.12"
   ]
  },
  {
   "cell_type": "code",
   "execution_count": 7,
   "metadata": {
    "tags": []
   },
   "outputs": [],
   "source": [
    "os.environ['KAGGLE_CONFIG_DIR'] = os.getcwd()\n",
    "! chmod 600 kaggle.json"
   ]
  },
  {
   "cell_type": "code",
   "execution_count": 8,
   "metadata": {
    "tags": []
   },
   "outputs": [
    {
     "name": "stdout",
     "output_type": "stream",
     "text": [
      "Downloading skin-cancer-mnist-ham10000.zip to inputs/skin_cancer_dataset\n",
      "100%|██████████████████████████████████████| 5.20G/5.20G [02:03<00:00, 49.4MB/s]\n",
      "100%|██████████████████████████████████████| 5.20G/5.20G [02:03<00:00, 45.1MB/s]\n"
     ]
    }
   ],
   "source": [
    "KaggleDatasetPath = \"kmader/skin-cancer-mnist-ham10000\"\n",
    "DestinationFolder = \"inputs/skin_cancer_dataset\"   \n",
    "! kaggle datasets download -d {KaggleDatasetPath} -p {DestinationFolder}"
   ]
  },
  {
   "cell_type": "code",
   "execution_count": 9,
   "metadata": {},
   "outputs": [],
   "source": [
    "import zipfile\n",
    "with zipfile.ZipFile(DestinationFolder + '/skin-cancer-mnist-ham10000.zip', 'r') as zip_ref:\n",
    "    zip_ref.extractall(DestinationFolder)\n",
    "\n",
    "os.remove(DestinationFolder + '/skin-cancer-mnist-ham10000.zip')"
   ]
  },
  {
   "attachments": {},
   "cell_type": "markdown",
   "metadata": {
    "id": "ZY3l0-AxO93d"
   },
   "source": [
    "---"
   ]
  },
  {
   "attachments": {},
   "cell_type": "markdown",
   "metadata": {
    "id": "uFQo3ycuO-v6"
   },
   "source": [
    "# Data Preparation"
   ]
  },
  {
   "attachments": {},
   "cell_type": "markdown",
   "metadata": {},
   "source": [
    "## Data Inspection"
   ]
  },
  {
   "attachments": {},
   "cell_type": "markdown",
   "metadata": {},
   "source": [
    "### Check missing data in csv"
   ]
  },
  {
   "cell_type": "code",
   "execution_count": 10,
   "metadata": {},
   "outputs": [
    {
     "name": "stdout",
     "output_type": "stream",
     "text": [
      "Missing values in each column:\n",
      "lesion_id        0\n",
      "image_id         0\n",
      "dx               0\n",
      "dx_type          0\n",
      "age             57\n",
      "sex              0\n",
      "localization     0\n",
      "dtype: int64\n"
     ]
    }
   ],
   "source": [
    "import pandas as pd\n",
    "# 1. Data Loading\n",
    "df = pd.read_csv(DestinationFolder+'/HAM10000_metadata.csv')\n",
    "\n",
    "# 2. Data Inspection\n",
    "missing_values = df.isnull().sum()\n",
    "print(f\"Missing values in each column:\\n{missing_values}\")"
   ]
  },
  {
   "attachments": {},
   "cell_type": "markdown",
   "metadata": {},
   "source": [
    "dropping rows with missing data. Might drop age but will check. age may be a factor in the prediction, associated images will need to be dropped as well. "
   ]
  },
  {
   "cell_type": "code",
   "execution_count": 11,
   "metadata": {},
   "outputs": [],
   "source": [
    "# df = df.dropna()"
   ]
  },
  {
   "attachments": {},
   "cell_type": "markdown",
   "metadata": {},
   "source": [
    "### Check and remove non-image files"
   ]
  },
  {
   "cell_type": "code",
   "execution_count": 12,
   "metadata": {},
   "outputs": [],
   "source": [
    "def check_for_non_image_file(my_data_dir):\n",
    "    image_extension = ('.png', '.jpg', '.jpeg')\n",
    "    folders = os.listdir(my_data_dir)\n",
    "    \n",
    "    for folder in folders:\n",
    "        if 'images' in folder:\n",
    "            files = os.listdir(my_data_dir + '/' + folder)\n",
    "            # print(files)\n",
    "            i = []\n",
    "            j = []\n",
    "            for given_file in files:\n",
    "                if not given_file.lower().endswith(image_extension):\n",
    "                    #file_location = my_data_dir + '/' + folder + '/' + given_file\n",
    "                    #os.remove(file_location)  # remove non image file\n",
    "                    i.append(1)\n",
    "                else:\n",
    "                    j.append(1)\n",
    "                    pass\n",
    "            print(f\"Folder: {folder} - has image file\", len(j))\n",
    "            print(f\"Folder: {folder} - has non-image file\", len(i))"
   ]
  },
  {
   "cell_type": "code",
   "execution_count": 13,
   "metadata": {},
   "outputs": [
    {
     "name": "stdout",
     "output_type": "stream",
     "text": [
      "Folder: HAM10000_images_part_1 - has image file 5000\n",
      "Folder: HAM10000_images_part_1 - has non-image file 0\n",
      "Folder: HAM10000_images_part_2 - has image file 5015\n",
      "Folder: HAM10000_images_part_2 - has non-image file 0\n"
     ]
    }
   ],
   "source": [
    "check_for_non_image_file(my_data_dir='inputs/skin_cancer_dataset')"
   ]
  },
  {
   "attachments": {},
   "cell_type": "markdown",
   "metadata": {},
   "source": [
    "### Label Preparation"
   ]
  },
  {
   "cell_type": "code",
   "execution_count": 14,
   "metadata": {},
   "outputs": [
    {
     "name": "stdout",
     "output_type": "stream",
     "text": [
      "['bkl' 'nv' 'df' 'mel' 'vasc' 'bcc' 'akiec']\n"
     ]
    }
   ],
   "source": [
    "diagnosis_unique = df['dx'].unique()\n",
    "print(diagnosis_unique)"
   ]
  },
  {
   "cell_type": "code",
   "execution_count": 15,
   "metadata": {},
   "outputs": [
    {
     "name": "stdout",
     "output_type": "stream",
     "text": [
      "   akiec  bcc  bkl  df  mel  nv  vasc\n",
      "0      0    0    1   0    0   0     0\n",
      "1      0    0    1   0    0   0     0\n",
      "2      0    0    1   0    0   0     0\n",
      "3      0    0    1   0    0   0     0\n",
      "4      0    0    1   0    0   0     0\n"
     ]
    }
   ],
   "source": [
    "y = pd.get_dummies(df['dx'])\n",
    "\n",
    "print(y.head())"
   ]
  },
  {
   "cell_type": "code",
   "execution_count": 16,
   "metadata": {},
   "outputs": [
    {
     "name": "stdout",
     "output_type": "stream",
     "text": [
      "     lesion_id      image_id   dx dx_type   age   sex localization  akiec  \\\n",
      "0  HAM_0000118  ISIC_0027419  bkl   histo  80.0  male        scalp      0   \n",
      "1  HAM_0000118  ISIC_0025030  bkl   histo  80.0  male        scalp      0   \n",
      "2  HAM_0002730  ISIC_0026769  bkl   histo  80.0  male        scalp      0   \n",
      "3  HAM_0002730  ISIC_0025661  bkl   histo  80.0  male        scalp      0   \n",
      "4  HAM_0001466  ISIC_0031633  bkl   histo  75.0  male          ear      0   \n",
      "\n",
      "   bcc  bkl  df  mel  nv  vasc  \n",
      "0    0    1   0    0   0     0  \n",
      "1    0    1   0    0   0     0  \n",
      "2    0    1   0    0   0     0  \n",
      "3    0    1   0    0   0     0  \n",
      "4    0    1   0    0   0     0  \n"
     ]
    }
   ],
   "source": [
    "# Assuming df['dx'] is your column with the diagnosis\n",
    "y = pd.get_dummies(df['dx'])\n",
    "\n",
    "# Concatenate original DataFrame with the new DataFrame\n",
    "df_new = pd.concat([df, y], axis=1)\n",
    "\n",
    "# To see the new DataFrame\n",
    "print(df_new.head())"
   ]
  },
  {
   "attachments": {},
   "cell_type": "markdown",
   "metadata": {},
   "source": [
    "## Move data into class Labels"
   ]
  },
  {
   "cell_type": "code",
   "execution_count": 17,
   "metadata": {},
   "outputs": [],
   "source": [
    "import shutil\n",
    "# Load the metadata\n",
    "metadata = pd.read_csv('inputs/skin_cancer_dataset/HAM10000_metadata.csv')\n",
    "\n",
    "# Define the directories where the images are stored\n",
    "directories = [\n",
    "    'inputs/skin_cancer_dataset/HAM10000_images_part_1',\n",
    "    'inputs/skin_cancer_dataset/HAM10000_images_part_2',\n",
    "]\n",
    "\n",
    "# Create a new folder for each class label if it doesn't exist\n",
    "for class_label in metadata['dx'].unique():\n",
    "    os.makedirs(f'inputs/skin_cancer_dataset/sorted_images/{class_label}', exist_ok=True)\n",
    "\n",
    "# Iterate over the metadata and move each image into the folder of its class label\n",
    "for idx, row in metadata.iterrows():\n",
    "    image_id = row['image_id']\n",
    "    class_label = row['dx']\n",
    "    for directory in directories:\n",
    "        # Check if the image file exists in this directory\n",
    "        if os.path.isfile(f'{directory}/{image_id}.jpg'):\n",
    "            # Move the file and stop checking the other directories\n",
    "            shutil.move(f'{directory}/{image_id}.jpg', f'inputs/skin_cancer_dataset/sorted_images/{class_label}/{image_id}.jpg')\n",
    "            break\n",
    "\n",
    "# Remove the original directories if they are empty\n",
    "for directory in directories:\n",
    "    if not os.listdir(directory):\n",
    "        os.rmdir(directory)"
   ]
  },
  {
   "attachments": {},
   "cell_type": "markdown",
   "metadata": {},
   "source": [
    "### Split train validation test set"
   ]
  },
  {
   "cell_type": "code",
   "execution_count": 18,
   "metadata": {},
   "outputs": [],
   "source": [
    "import random\n",
    "def split_train_validation_test_images(data_dir, train_ratio, validation_ratio, test_ratio):\n",
    "\n",
    "    if train_ratio + validation_ratio + test_ratio != 1.0:\n",
    "        print(\"train_ratio + validation_ratio + test_ratio should sum to 1.0\")\n",
    "        return\n",
    "\n",
    "    # gets classes labels\n",
    "    labels = os.listdir(data_dir)  # it should get only the folder name\n",
    "\n",
    "    for label in labels:\n",
    "\n",
    "        files = os.listdir(data_dir + '/' + label)\n",
    "        random.shuffle(files)\n",
    "\n",
    "        train_files_qty = int(len(files) * train_ratio)\n",
    "        validation_files_qty = int(len(files) * validation_ratio)\n",
    "\n",
    "        for count, file_name in enumerate(files):\n",
    "            if count < train_files_qty:\n",
    "                # move a given file to the train set\n",
    "                if not os.path.exists(data_dir + '/train/' + label):\n",
    "                    os.makedirs(data_dir + '/train/' + label)\n",
    "                shutil.move(data_dir + '/' + label + '/' + file_name, data_dir + '/train/' + label + '/' + file_name)\n",
    "\n",
    "            elif count < (train_files_qty + validation_files_qty):\n",
    "                # move a given file to the validation set\n",
    "                if not os.path.exists(data_dir + '/validation/' + label):\n",
    "                    os.makedirs(data_dir + '/validation/' + label)\n",
    "                shutil.move(data_dir + '/' + label + '/' + file_name, data_dir + '/validation/' + label + '/' + file_name)\n",
    "            \n",
    "            else:\n",
    "                # move given file to test set\n",
    "                if not os.path.exists(data_dir + '/test/' + label):\n",
    "                    os.makedirs(data_dir + '/test/' + label)\n",
    "                shutil.move(data_dir + '/' + label + '/' + file_name, data_dir + '/test/' + label + '/' + file_name)\n",
    "                \n",
    "        os.rmdir(data_dir + '/' + label)"
   ]
  },
  {
   "attachments": {},
   "cell_type": "markdown",
   "metadata": {},
   "source": [
    "- The training set is divided into a 0.70 ratio of data.\n",
    "- The validation set is divided into a 0.10 ratio of data.\n",
    "- The test set is divided into a 0.20 ratio of data."
   ]
  },
  {
   "cell_type": "code",
   "execution_count": 19,
   "metadata": {},
   "outputs": [],
   "source": [
    "split_train_validation_test_images(data_dir='inputs/skin_cancer_dataset/sorted_images', train_ratio=0.7, validation_ratio=0.1, test_ratio=0.2)"
   ]
  },
  {
   "attachments": {},
   "cell_type": "markdown",
   "metadata": {},
   "source": [
    "---"
   ]
  },
  {
   "attachments": {},
   "cell_type": "markdown",
   "metadata": {
    "id": "ltNetd085qHf"
   },
   "source": [
    "# Push files to Repo"
   ]
  }
 ],
 "metadata": {
  "accelerator": "GPU",
  "colab": {
   "name": "Data Practitioner Jupyter Notebook.ipynb",
   "provenance": [],
   "toc_visible": true
  },
  "kernelspec": {
   "display_name": "Python 3",
   "language": "python",
   "name": "python3"
  },
  "language_info": {
   "codemirror_mode": {
    "name": "ipython",
    "version": 3
   },
   "file_extension": ".py",
   "mimetype": "text/x-python",
   "name": "python",
   "nbconvert_exporter": "python",
   "pygments_lexer": "ipython3",
   "version": "3.8.12"
  }
 },
 "nbformat": 4,
 "nbformat_minor": 2
}
