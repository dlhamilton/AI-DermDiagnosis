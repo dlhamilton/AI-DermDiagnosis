{
  "cells": [
    {
      "cell_type": "markdown",
      "metadata": {
        "id": "0aStgWSO0E0E"
      },
      "source": [
        "# **Data Collection**"
      ]
    },
    {
      "cell_type": "markdown",
      "metadata": {
        "id": "1eLEkw5O0ECa"
      },
      "source": [
        "## Objectives\n",
        "\n",
        "* Fetch data from Kaggle and prepare it for further processes.\n",
        "\n",
        "## Inputs\n",
        "\n",
        "* Kaggle JSON file - the authentication token.\n",
        "\n",
        "## Outputs\n",
        "\n",
        "* Generate Dataset: inputs/datasets/skin_cancer_dataset\n",
        "\n",
        "## Additional Comments\n",
        "\n",
        "* No additional comments.\n"
      ]
    },
    {
      "cell_type": "markdown",
      "metadata": {
        "id": "9uWZXH9LwoQg"
      },
      "source": [
        "---"
      ]
    },
    {
      "source": [
        "# Import packages"
      ],
      "cell_type": "markdown",
      "metadata": {}
    },
    {
      "cell_type": "code",
      "execution_count": 1,
      "metadata": {
        "tags": [
          "outputPrepend"
        ]
      },
      "outputs": [
        {
          "output_type": "stream",
          "name": "stdout",
          "text": "━━━━\u001b[0m \u001b[32m471.5/471.5 kB\u001b[0m \u001b[31m26.5 MB/s\u001b[0m eta \u001b[36m0:00:00\u001b[0m\n\u001b[?25hCollecting astor (from streamlit==0.85.0->-r ../requirements.txt (line 7))\n  Downloading astor-0.8.1-py2.py3-none-any.whl (27 kB)\nRequirement already satisfied: attrs in /home/codeany/.pyenv/versions/3.8.12/lib/python3.8/site-packages (from streamlit==0.85.0->-r ../requirements.txt (line 7)) (23.1.0)\nCollecting base58 (from streamlit==0.85.0->-r ../requirements.txt (line 7))\n  Downloading base58-2.1.1-py3-none-any.whl (5.6 kB)\nCollecting blinker (from streamlit==0.85.0->-r ../requirements.txt (line 7))\n  Downloading blinker-1.6.2-py3-none-any.whl (13 kB)\nCollecting cachetools>=4.0 (from streamlit==0.85.0->-r ../requirements.txt (line 7))\n  Downloading cachetools-5.3.1-py3-none-any.whl (9.3 kB)\nCollecting click<8.0,>=7.0 (from streamlit==0.85.0->-r ../requirements.txt (line 7))\n  Downloading click-7.1.2-py2.py3-none-any.whl (82 kB)\n\u001b[2K     \u001b[90m━━━━━━━━━━━━━━━━━━━━━━━━━━━━━━━━━━━━━━━━\u001b[0m \u001b[32m82.8/82.8 kB\u001b[0m \u001b[31m8.9 MB/s\u001b[0m eta \u001b[36m0:00:00\u001b[0m\n\u001b[?25hRequirement already satisfied: packaging in /home/codeany/.pyenv/versions/3.8.12/lib/python3.8/site-packages (from streamlit==0.85.0->-r ../requirements.txt (line 7)) (23.1)\nCollecting pyarrow (from streamlit==0.85.0->-r ../requirements.txt (line 7))\n  Downloading pyarrow-12.0.0-cp38-cp38-manylinux_2_17_x86_64.manylinux2014_x86_64.whl (39.0 MB)\n\u001b[2K     \u001b[90m━━━━━━━━━━━━━━━━━━━━━━━━━━━━━━━━━━━━━━━━\u001b[0m \u001b[32m39.0/39.0 MB\u001b[0m \u001b[31m19.5 MB/s\u001b[0m eta \u001b[36m0:00:00\u001b[0m\n\u001b[?25hCollecting pydeck>=0.1.dev5 (from streamlit==0.85.0->-r ../requirements.txt (line 7))\n  Downloading pydeck-0.8.1b0-py2.py3-none-any.whl (4.8 MB)\n\u001b[2K     \u001b[90m━━━━━━━━━━━━━━━━━━━━━━━━━━━━━━━━━━━━━━━━\u001b[0m \u001b[32m4.8/4.8 MB\u001b[0m \u001b[31m34.1 MB/s\u001b[0m eta \u001b[36m0:00:00\u001b[0m\n\u001b[?25hRequirement already satisfied: requests in /home/codeany/.pyenv/versions/3.8.12/lib/python3.8/site-packages (from streamlit==0.85.0->-r ../requirements.txt (line 7)) (2.31.0)\nCollecting toml (from streamlit==0.85.0->-r ../requirements.txt (line 7))\n  Downloading toml-0.10.2-py2.py3-none-any.whl (16 kB)\nRequirement already satisfied: tornado>=5.0 in /home/codeany/.pyenv/versions/3.8.12/lib/python3.8/site-packages (from streamlit==0.85.0->-r ../requirements.txt (line 7)) (6.3.2)\nCollecting tzlocal (from streamlit==0.85.0->-r ../requirements.txt (line 7))\n  Downloading tzlocal-5.0.1-py3-none-any.whl (20 kB)\nCollecting validators (from streamlit==0.85.0->-r ../requirements.txt (line 7))\n  Downloading validators-0.20.0.tar.gz (30 kB)\n  Preparing metadata (setup.py) ... \u001b[?25ldone\n\u001b[?25hRequirement already satisfied: gitpython in /home/codeany/.pyenv/versions/3.8.12/lib/python3.8/site-packages (from streamlit==0.85.0->-r ../requirements.txt (line 7)) (3.1.31)\nCollecting watchdog (from streamlit==0.85.0->-r ../requirements.txt (line 7))\n  Downloading watchdog-3.0.0-py3-none-manylinux2014_x86_64.whl (82 kB)\n\u001b[2K     \u001b[90m━━━━━━━━━━━━━━━━━━━━━━━━━━━━━━━━━━━━━━━━\u001b[0m \u001b[32m82.1/82.1 kB\u001b[0m \u001b[31m11.6 MB/s\u001b[0m eta \u001b[36m0:00:00\u001b[0m\n\u001b[?25hCollecting joblib>=0.11 (from scikit-learn==0.24.2->-r ../requirements.txt (line 9))\n  Downloading joblib-1.2.0-py3-none-any.whl (297 kB)\n\u001b[2K     \u001b[90m━━━━━━━━━━━━━━━━━━━━━━━━━━━━━━━━━━━━━━\u001b[0m \u001b[32m298.0/298.0 kB\u001b[0m \u001b[31m27.1 MB/s\u001b[0m eta \u001b[36m0:00:00\u001b[0m\n\u001b[?25hCollecting threadpoolctl>=2.0.0 (from scikit-learn==0.24.2->-r ../requirements.txt (line 9))\n  Downloading threadpoolctl-3.1.0-py3-none-any.whl (14 kB)\nCollecting absl-py~=0.10 (from tensorflow-cpu==2.6.0->-r ../requirements.txt (line 10))\n  Downloading absl_py-0.15.0-py3-none-any.whl (132 kB)\n\u001b[2K     \u001b[90m━━━━━━━━━━━━━━━━━━━━━━━━━━━━━━━━━━━━━━\u001b[0m \u001b[32m132.0/132.0 kB\u001b[0m \u001b[31m19.1 MB/s\u001b[0m eta \u001b[36m0:00:00\u001b[0m\n\u001b[?25hCollecting astunparse~=1.6.3 (from tensorflow-cpu==2.6.0->-r ../requirements.txt (line 10))\n  Downloading astunparse-1.6.3-py2.py3-none-any.whl (12 kB)\nCollecting clang~=5.0 (from tensorflow-cpu==2.6.0->-r ../requirements.txt (line 10))\n  Downloading clang-5.0.tar.gz (30 kB)\n  Preparing metadata (setup.py) ... \u001b[?25ldone\n\u001b[?25hCollecting flatbuffers~=1.12.0 (from tensorflow-cpu==2.6.0->-r ../requirements.txt (line 10))\n  Downloading flatbuffers-1.12-py2.py3-none-any.whl (15 kB)\nCollecting google-pasta~=0.2 (from tensorflow-cpu==2.6.0->-r ../requirements.txt (line 10))\n  Downloading google_pasta-0.2.0-py3-none-any.whl (57 kB)\n\u001b[2K     \u001b[90m━━━━━━━━━━━━━━━━━━━━━━━━━━━━━━━━━━━━━━━━\u001b[0m \u001b[32m57.5/57.5 kB\u001b[0m \u001b[31m7.9 MB/s\u001b[0m eta \u001b[36m0:00:00\u001b[0m\n\u001b[?25hCollecting h5py~=3.1.0 (from tensorflow-cpu==2.6.0->-r ../requirements.txt (line 10))\n  Downloading h5py-3.1.0-cp38-cp38-manylinux1_x86_64.whl (4.4 MB)\n\u001b[2K     \u001b[90m━━━━━━━━━━━━━━━━━━━━━━━━━━━━━━━━━━━━━━━━\u001b[0m \u001b[32m4.4/4.4 MB\u001b[0m \u001b[31m28.0 MB/s\u001b[0m eta \u001b[36m0:00:00\u001b[0m\n\u001b[?25hCollecting keras-preprocessing~=1.1.2 (from tensorflow-cpu==2.6.0->-r ../requirements.txt (line 10))\n  Downloading Keras_Preprocessing-1.1.2-py2.py3-none-any.whl (42 kB)\n\u001b[2K     \u001b[90m━━━━━━━━━━━━━━━━━━━━━━━━━━━━━━━━━━━━━━━━\u001b[0m \u001b[32m42.6/42.6 kB\u001b[0m \u001b[31m8.2 MB/s\u001b[0m eta \u001b[36m0:00:00\u001b[0m\n\u001b[?25hCollecting opt-einsum~=3.3.0 (from tensorflow-cpu==2.6.0->-r ../requirements.txt (line 10))\n  Downloading opt_einsum-3.3.0-py3-none-any.whl (65 kB)\n\u001b[2K     \u001b[90m━━━━━━━━━━━━━━━━━━━━━━━━━━━━━━━━━━━━━━━━\u001b[0m \u001b[32m65.5/65.5 kB\u001b[0m \u001b[31m9.5 MB/s\u001b[0m eta \u001b[36m0:00:00\u001b[0m\n\u001b[?25hCollecting six (from plotly==4.12.0->-r ../requirements.txt (line 5))\n  Downloading six-1.15.0-py2.py3-none-any.whl (10 kB)\nCollecting termcolor~=1.1.0 (from tensorflow-cpu==2.6.0->-r ../requirements.txt (line 10))\n  Downloading termcolor-1.1.0.tar.gz (3.9 kB)\n  Preparing metadata (setup.py) ... \u001b[?25ldone\n\u001b[?25hCollecting typing-extensions~=3.7.4 (from tensorflow-cpu==2.6.0->-r ../requirements.txt (line 10))\n  Downloading typing_extensions-3.7.4.3-py3-none-any.whl (22 kB)\nRequirement already satisfied: wheel~=0.35 in /home/codeany/.pyenv/versions/3.8.12/lib/python3.8/site-packages (from tensorflow-cpu==2.6.0->-r ../requirements.txt (line 10)) (0.40.0)\nCollecting wrapt~=1.12.1 (from tensorflow-cpu==2.6.0->-r ../requirements.txt (line 10))\n  Downloading wrapt-1.12.1.tar.gz (27 kB)\n  Preparing metadata (setup.py) ... \u001b[?25ldone\n\u001b[?25hCollecting gast==0.4.0 (from tensorflow-cpu==2.6.0->-r ../requirements.txt (line 10))\n  Downloading gast-0.4.0-py3-none-any.whl (9.8 kB)\nCollecting tensorboard~=2.6 (from tensorflow-cpu==2.6.0->-r ../requirements.txt (line 10))\n  Downloading tensorboard-2.13.0-py3-none-any.whl (5.6 MB)\n\u001b[2K     \u001b[90m━━━━━━━━━━━━━━━━━━━━━━━━━━━━━━━━━━━━━━━━\u001b[0m \u001b[32m5.6/5.6 MB\u001b[0m \u001b[31m19.7 MB/s\u001b[0m eta \u001b[36m0:00:00\u001b[0m\n\u001b[?25hCollecting tensorflow-estimator~=2.6 (from tensorflow-cpu==2.6.0->-r ../requirements.txt (line 10))\n  Downloading tensorflow_estimator-2.12.0-py2.py3-none-any.whl (440 kB)\n\u001b[2K     \u001b[90m━━━━━━━━━━━━━━━━━━━━━━━━━━━━━━━━━━━━━━\u001b[0m \u001b[32m440.7/440.7 kB\u001b[0m \u001b[31m17.6 MB/s\u001b[0m eta \u001b[36m0:00:00\u001b[0m\n\u001b[?25hCollecting grpcio<2.0,>=1.37.0 (from tensorflow-cpu==2.6.0->-r ../requirements.txt (line 10))\n  Downloading grpcio-1.54.2-cp38-cp38-manylinux_2_17_x86_64.manylinux2014_x86_64.whl (5.1 MB)\n\u001b[2K     \u001b[90m━━━━━━━━━━━━━━━━━━━━━━━━━━━━━━━━━━━━━━━━\u001b[0m \u001b[32m5.1/5.1 MB\u001b[0m \u001b[31m34.9 MB/s\u001b[0m eta \u001b[36m0:00:00\u001b[0m\n\u001b[?25hRequirement already satisfied: jinja2 in /home/codeany/.pyenv/versions/3.8.12/lib/python3.8/site-packages (from altair>=3.2.0->streamlit==0.85.0->-r ../requirements.txt (line 7)) (3.1.2)\nRequirement already satisfied: jsonschema>=3.0 in /home/codeany/.pyenv/versions/3.8.12/lib/python3.8/site-packages (from altair>=3.2.0->streamlit==0.85.0->-r ../requirements.txt (line 7)) (4.17.3)\nCollecting toolz (from altair>=3.2.0->streamlit==0.85.0->-r ../requirements.txt (line 7))\n  Downloading toolz-0.12.0-py3-none-any.whl (55 kB)\n\u001b[2K     \u001b[90m━━━━━━━━━━━━━━━━━━━━━━━━━━━━━━━━━━━━━━━━\u001b[0m \u001b[32m55.8/55.8 kB\u001b[0m \u001b[31m10.2 MB/s\u001b[0m eta \u001b[36m0:00:00\u001b[0m\n\u001b[?25hINFO: pip is looking at multiple versions of altair to determine which version is compatible with other requirements. This could take a while.\nCollecting altair>=3.2.0 (from streamlit==0.85.0->-r ../requirements.txt (line 7))\n  Downloading altair-5.0.0-py3-none-any.whl (477 kB)\n\u001b[2K     \u001b[90m━━━━━━━━━━━━━━━━━━━━━━━━━━━━━━━━━━━━━━\u001b[0m \u001b[32m477.4/477.4 kB\u001b[0m \u001b[31m21.1 MB/s\u001b[0m eta \u001b[36m0:00:00\u001b[0m\n\u001b[?25h  Downloading altair-4.2.2-py3-none-any.whl (813 kB)\n\u001b[2K     \u001b[90m━━━━━━━━━━━━━━━━━━━━━━━━━━━━━━━━━━━━━━\u001b[0m \u001b[32m813.6/813.6 kB\u001b[0m \u001b[31m28.7 MB/s\u001b[0m eta \u001b[36m0:00:00\u001b[0m\n\u001b[?25hCollecting entrypoints (from altair>=3.2.0->streamlit==0.85.0->-r ../requirements.txt (line 7))\n  Downloading entrypoints-0.4-py3-none-any.whl (5.3 kB)\nINFO: pip is looking at multiple versions of scipy to determine which version is compatible with other requirements. This could take a while.\nCollecting scipy>=1.0 (from seaborn==0.11.0->-r ../requirements.txt (line 4))\n  Downloading scipy-1.10.0-cp38-cp38-manylinux_2_17_x86_64.manylinux2014_x86_64.whl (34.5 MB)\n\u001b[2K     \u001b[90m━━━━━━━━━━━━━━━━━━━━━━━━━━━━━━━━━━━━━━━━\u001b[0m \u001b[32m34.5/34.5 MB\u001b[0m \u001b[31m19.0 MB/s\u001b[0m eta \u001b[36m0:00:00\u001b[0m\n\u001b[?25h  Downloading scipy-1.9.3-cp38-cp38-manylinux_2_17_x86_64.manylinux2014_x86_64.whl (33.8 MB)\n\u001b[2K     \u001b[90m━━━━━━━━━━━━━━━━━━━━━━━━━━━━━━━━━━━━━━━━\u001b[0m \u001b[32m33.8/33.8 MB\u001b[0m \u001b[31m18.4 MB/s\u001b[0m eta \u001b[36m0:00:00\u001b[0m\n\u001b[?25hCollecting google-auth<3,>=1.6.3 (from tensorboard~=2.6->tensorflow-cpu==2.6.0->-r ../requirements.txt (line 10))\n  Downloading google_auth-2.19.1-py2.py3-none-any.whl (181 kB)\n\u001b[2K     \u001b[90m━━━━━━━━━━━━━━━━━━━━━━━━━━━━━━━━━━━━━━\u001b[0m \u001b[32m181.3/181.3 kB\u001b[0m \u001b[31m20.5 MB/s\u001b[0m eta \u001b[36m0:00:00\u001b[0m\n\u001b[?25hCollecting google-auth-oauthlib<1.1,>=0.5 (from tensorboard~=2.6->tensorflow-cpu==2.6.0->-r ../requirements.txt (line 10))\n  Downloading google_auth_oauthlib-1.0.0-py2.py3-none-any.whl (18 kB)\nCollecting markdown>=2.6.8 (from tensorboard~=2.6->tensorflow-cpu==2.6.0->-r ../requirements.txt (line 10))\n  Downloading Markdown-3.4.3-py3-none-any.whl (93 kB)\n\u001b[2K     \u001b[90m━━━━━━━━━━━━━━━━━━━━━━━━━━━━━━━━━━━━━━━━\u001b[0m \u001b[32m93.9/93.9 kB\u001b[0m \u001b[31m13.8 MB/s\u001b[0m eta \u001b[36m0:00:00\u001b[0m\n\u001b[?25hRequirement already satisfied: setuptools>=41.0.0 in /home/codeany/.pyenv/versions/3.8.12/lib/python3.8/site-packages (from tensorboard~=2.6->tensorflow-cpu==2.6.0->-r ../requirements.txt (line 10)) (67.8.0)\nCollecting tensorboard-data-server<0.8.0,>=0.7.0 (from tensorboard~=2.6->tensorflow-cpu==2.6.0->-r ../requirements.txt (line 10))\n  Downloading tensorboard_data_server-0.7.0-py3-none-manylinux2014_x86_64.whl (6.6 MB)\n\u001b[2K     \u001b[90m━━━━━━━━━━━━━━━━━━━━━━━━━━━━━━━━━━━━━━━━\u001b[0m \u001b[32m6.6/6.6 MB\u001b[0m \u001b[31m27.0 MB/s\u001b[0m eta \u001b[36m0:00:00\u001b[0m\n\u001b[?25hCollecting werkzeug>=1.0.1 (from tensorboard~=2.6->tensorflow-cpu==2.6.0->-r ../requirements.txt (line 10))\n  Downloading Werkzeug-2.3.4-py3-none-any.whl (242 kB)\n\u001b[2K     \u001b[90m━━━━━━━━━━━━━━━━━━━━━━━━━━━━━━━━━━━━━━\u001b[0m \u001b[32m242.5/242.5 kB\u001b[0m \u001b[31m17.0 MB/s\u001b[0m eta \u001b[36m0:00:00\u001b[0m\n\u001b[?25hRequirement already satisfied: charset-normalizer<4,>=2 in /home/codeany/.pyenv/versions/3.8.12/lib/python3.8/site-packages (from requests->streamlit==0.85.0->-r ../requirements.txt (line 7)) (3.1.0)\nRequirement already satisfied: idna<4,>=2.5 in /home/codeany/.pyenv/versions/3.8.12/lib/python3.8/site-packages (from requests->streamlit==0.85.0->-r ../requirements.txt (line 7)) (3.4)\nRequirement already satisfied: urllib3<3,>=1.21.1 in /home/codeany/.pyenv/versions/3.8.12/lib/python3.8/site-packages (from requests->streamlit==0.85.0->-r ../requirements.txt (line 7)) (2.0.2)\nRequirement already satisfied: gitdb<5,>=4.0.1 in /home/codeany/.pyenv/versions/3.8.12/lib/python3.8/site-packages (from gitpython->streamlit==0.85.0->-r ../requirements.txt (line 7)) (4.0.10)\nCollecting backports.zoneinfo (from tzlocal->streamlit==0.85.0->-r ../requirements.txt (line 7))\n  Downloading backports.zoneinfo-0.2.1-cp38-cp38-manylinux1_x86_64.whl (74 kB)\n\u001b[2K     \u001b[90m━━━━━━━━━━━━━━━━━━━━━━━━━━━━━━━━━━━━━━━━\u001b[0m \u001b[32m74.0/74.0 kB\u001b[0m \u001b[31m12.3 MB/s\u001b[0m eta \u001b[36m0:00:00\u001b[0m\n\u001b[?25hRequirement already satisfied: decorator>=3.4.0 in /home/codeany/.pyenv/versions/3.8.12/lib/python3.8/site-packages (from validators->streamlit==0.85.0->-r ../requirements.txt (line 7)) (5.1.1)\nRequirement already satisfied: smmap<6,>=3.0.1 in /home/codeany/.pyenv/versions/3.8.12/lib/python3.8/site-packages (from gitdb<5,>=4.0.1->gitpython->streamlit==0.85.0->-r ../requirements.txt (line 7)) (5.0.0)\nCollecting pyasn1-modules>=0.2.1 (from google-auth<3,>=1.6.3->tensorboard~=2.6->tensorflow-cpu==2.6.0->-r ../requirements.txt (line 10))\n  Downloading pyasn1_modules-0.3.0-py2.py3-none-any.whl (181 kB)\n\u001b[2K     \u001b[90m━━━━━━━━━━━━━━━━━━━━━━━━━━━━━━━━━━━━━━\u001b[0m \u001b[32m181.3/181.3 kB\u001b[0m \u001b[31m23.5 MB/s\u001b[0m eta \u001b[36m0:00:00\u001b[0m\n\u001b[?25hCollecting rsa<5,>=3.1.4 (from google-auth<3,>=1.6.3->tensorboard~=2.6->tensorflow-cpu==2.6.0->-r ../requirements.txt (line 10))\n  Downloading rsa-4.9-py3-none-any.whl (34 kB)\nCollecting urllib3<3,>=1.21.1 (from requests->streamlit==0.85.0->-r ../requirements.txt (line 7))\n  Downloading urllib3-1.26.16-py2.py3-none-any.whl (143 kB)\n\u001b[2K     \u001b[90m━━━━━━━━━━━━━━━━━━━━━━━━━━━━━━━━━━━━━━\u001b[0m \u001b[32m143.1/143.1 kB\u001b[0m \u001b[31m16.4 MB/s\u001b[0m eta \u001b[36m0:00:00\u001b[0m\n\u001b[?25hCollecting requests-oauthlib>=0.7.0 (from google-auth-oauthlib<1.1,>=0.5->tensorboard~=2.6->tensorflow-cpu==2.6.0->-r ../requirements.txt (line 10))\n  Downloading requests_oauthlib-1.3.1-py2.py3-none-any.whl (23 kB)\nRequirement already satisfied: MarkupSafe>=2.0 in /home/codeany/.pyenv/versions/3.8.12/lib/python3.8/site-packages (from jinja2->altair>=3.2.0->streamlit==0.85.0->-r ../requirements.txt (line 7)) (2.1.2)\nRequirement already satisfied: importlib-resources>=1.4.0 in /home/codeany/.pyenv/versions/3.8.12/lib/python3.8/site-packages (from jsonschema>=3.0->altair>=3.2.0->streamlit==0.85.0->-r ../requirements.txt (line 7)) (5.12.0)\nRequirement already satisfied: pkgutil-resolve-name>=1.3.10 in /home/codeany/.pyenv/versions/3.8.12/lib/python3.8/site-packages (from jsonschema>=3.0->altair>=3.2.0->streamlit==0.85.0->-r ../requirements.txt (line 7)) (1.3.10)\nRequirement already satisfied: pyrsistent!=0.17.0,!=0.17.1,!=0.17.2,>=0.14.0 in /home/codeany/.pyenv/versions/3.8.12/lib/python3.8/site-packages (from jsonschema>=3.0->altair>=3.2.0->streamlit==0.85.0->-r ../requirements.txt (line 7)) (0.19.3)\nRequirement already satisfied: importlib-metadata>=4.4 in /home/codeany/.pyenv/versions/3.8.12/lib/python3.8/site-packages (from markdown>=2.6.8->tensorboard~=2.6->tensorflow-cpu==2.6.0->-r ../requirements.txt (line 10)) (6.6.0)\nRequirement already satisfied: zipp>=0.5 in /home/codeany/.pyenv/versions/3.8.12/lib/python3.8/site-packages (from importlib-metadata>=4.4->markdown>=2.6.8->tensorboard~=2.6->tensorflow-cpu==2.6.0->-r ../requirements.txt (line 10)) (3.15.0)\nCollecting pyasn1<0.6.0,>=0.4.6 (from pyasn1-modules>=0.2.1->google-auth<3,>=1.6.3->tensorboard~=2.6->tensorflow-cpu==2.6.0->-r ../requirements.txt (line 10))\n  Downloading pyasn1-0.5.0-py2.py3-none-any.whl (83 kB)\n\u001b[2K     \u001b[90m━━━━━━━━━━━━━━━━━━━━━━━━━━━━━━━━━━━━━━━━\u001b[0m \u001b[32m83.9/83.9 kB\u001b[0m \u001b[31m14.6 MB/s\u001b[0m eta \u001b[36m0:00:00\u001b[0m\n\u001b[?25hCollecting oauthlib>=3.0.0 (from requests-oauthlib>=0.7.0->google-auth-oauthlib<1.1,>=0.5->tensorboard~=2.6->tensorflow-cpu==2.6.0->-r ../requirements.txt (line 10))\n  Downloading oauthlib-3.2.2-py3-none-any.whl (151 kB)\n\u001b[2K     \u001b[90m━━━━━━━━━━━━━━━━━━━━━━━━━━━━━━━━━━━━━━\u001b[0m \u001b[32m151.7/151.7 kB\u001b[0m \u001b[31m18.5 MB/s\u001b[0m eta \u001b[36m0:00:00\u001b[0m\n\u001b[?25hBuilding wheels for collected packages: clang, termcolor, wrapt, validators\n  Building wheel for clang (setup.py) ... \u001b[?25ldone\n\u001b[?25h  Created wheel for clang: filename=clang-5.0-py3-none-any.whl size=30682 sha256=1efea40460fa9ce612f85fffa74a59dd2f422f7d82cb2fba434a260ca4fef7bb\n  Stored in directory: /home/codeany/.cache/pip/wheels/f1/60/77/22b9b5887bd47801796a856f47650d9789c74dc3161a26d608\n  Building wheel for termcolor (setup.py) ... \u001b[?25ldone\n\u001b[?25h  Created wheel for termcolor: filename=termcolor-1.1.0-py3-none-any.whl size=4832 sha256=5c73cab40c2d17694a3196452e5cc14d44cf7244dfba0951616ffb812d8072f0\n  Stored in directory: /home/codeany/.cache/pip/wheels/a0/16/9c/5473df82468f958445479c59e784896fa24f4a5fc024b0f501\n  Building wheel for wrapt (setup.py) ... \u001b[?25ldone\n\u001b[?25h  Created wheel for wrapt: filename=wrapt-1.12.1-cp38-cp38-linux_x86_64.whl size=75897 sha256=f7be0611c70055b158320c269788ee1d380d6078b960a0527cb92f1dbf63153e\n  Stored in directory: /home/codeany/.cache/pip/wheels/5f/fd/9e/b6cf5890494cb8ef0b5eaff72e5d55a70fb56316007d6dfe73\n  Building wheel for validators (setup.py) ... \u001b[?25ldone\n\u001b[?25h  Created wheel for validators: filename=validators-0.20.0-py3-none-any.whl size=19579 sha256=c2f03c3827f9a4176c14759bc8f8f72327370495690ad9c2d581d1bf9db1c97d\n  Stored in directory: /home/codeany/.cache/pip/wheels/19/09/72/3eb74d236bb48bd0f3c6c3c83e4e0c5bbfcbcad7c6c3539db8\nSuccessfully built clang termcolor wrapt validators\nInstalling collected packages: wrapt, typing-extensions, termcolor, pytz, keras, flatbuffers, clang, werkzeug, watchdog, validators, urllib3, toolz, toml, threadpoolctl, tensorflow-estimator, tensorboard-data-server, six, pyparsing, pyasn1, protobuf, pillow, oauthlib, numpy, kiwisolver, joblib, grpcio, gast, entrypoints, cycler, click, cachetools, blinker, base58, backports.zoneinfo, astor, tzlocal, scipy, rsa, retrying, pydeck, pyasn1-modules, pyarrow, opt-einsum, markdown, keras-preprocessing, h5py, google-pasta, astunparse, absl-py, scikit-learn, requests-oauthlib, plotly, pandas, matplotlib, google-auth, seaborn, google-auth-oauthlib, altair, tensorboard, streamlit, tensorflow-cpu\n  Attempting uninstall: wrapt\n    Found existing installation: wrapt 1.15.0\n    Uninstalling wrapt-1.15.0:\n      Successfully uninstalled wrapt-1.15.0\n  Attempting uninstall: typing-extensions\n    Found existing installation: typing_extensions 4.5.0\n    Uninstalling typing_extensions-4.5.0:\n      Successfully uninstalled typing_extensions-4.5.0\n  Attempting uninstall: urllib3\n    Found existing installation: urllib3 2.0.2\n    Uninstalling urllib3-2.0.2:\n      Successfully uninstalled urllib3-2.0.2\n  Attempting uninstall: six\n    Found existing installation: six 1.16.0\n    Uninstalling six-1.16.0:\n      Successfully uninstalled six-1.16.0\n\u001b[31mERROR: pip's dependency resolver does not currently take into account all the packages that are installed. This behaviour is the source of the following dependency conflicts.\nastroid 2.15.5 requires typing-extensions>=4.0.0; python_version < \"3.11\", but you have typing-extensions 3.7.4.3 which is incompatible.\nmypy 1.3.0 requires typing-extensions>=3.10, but you have typing-extensions 3.7.4.3 which is incompatible.\npylint 2.17.4 requires typing-extensions>=3.10.0; python_version < \"3.10\", but you have typing-extensions 3.7.4.3 which is incompatible.\nrich 13.3.5 requires typing-extensions<5.0,>=4.0.0; python_version < \"3.9\", but you have typing-extensions 3.7.4.3 which is incompatible.\u001b[0m\u001b[31m\n\u001b[0mSuccessfully installed absl-py-0.15.0 altair-4.2.2 astor-0.8.1 astunparse-1.6.3 backports.zoneinfo-0.2.1 base58-2.1.1 blinker-1.6.2 cachetools-5.3.1 clang-5.0 click-7.1.2 cycler-0.11.0 entrypoints-0.4 flatbuffers-1.12 gast-0.4.0 google-auth-2.19.1 google-auth-oauthlib-1.0.0 google-pasta-0.2.0 grpcio-1.54.2 h5py-3.1.0 joblib-1.2.0 keras-2.6.0 keras-preprocessing-1.1.2 kiwisolver-1.4.4 markdown-3.4.3 matplotlib-3.3.1 numpy-1.19.2 oauthlib-3.2.2 opt-einsum-3.3.0 pandas-1.1.2 pillow-9.5.0 plotly-4.12.0 protobuf-3.20.0 pyarrow-12.0.0 pyasn1-0.5.0 pyasn1-modules-0.3.0 pydeck-0.8.1b0 pyparsing-3.0.9 pytz-2023.3 requests-oauthlib-1.3.1 retrying-1.3.4 rsa-4.9 scikit-learn-0.24.2 scipy-1.9.3 seaborn-0.11.0 six-1.15.0 streamlit-0.85.0 tensorboard-2.13.0 tensorboard-data-server-0.7.0 tensorflow-cpu-2.6.0 tensorflow-estimator-2.12.0 termcolor-1.1.0 threadpoolctl-3.1.0 toml-0.10.2 toolz-0.12.0 typing-extensions-3.7.4.3 tzlocal-5.0.1 urllib3-1.26.16 validators-0.20.0 watchdog-3.0.0 werkzeug-2.3.4 wrapt-1.12.1\nNote: you may need to restart the kernel to use updated packages.\n"
        }
      ],
      "source": [
        "%pip install -r ../requirements.txt"
      ]
    },
    {
      "cell_type": "code",
      "execution_count": 2,
      "metadata": {},
      "outputs": [],
      "source": [
        "import numpy\n",
        "import os"
      ]
    },
    {
      "cell_type": "markdown",
      "metadata": {
        "id": "cqP-UeN-z3i2"
      },
      "source": [
        "# Change working directory"
      ]
    },
    {
      "cell_type": "code",
      "execution_count": null,
      "metadata": {
        "id": "wZfF_j-Bz3i4",
        "outputId": "66943449-1436-4c3d-85c7-b85f9f78349b"
      },
      "outputs": [],
      "source": [
        "current_dir = os.getcwd()\n",
        "current_dir"
      ]
    },
    {
      "cell_type": "code",
      "execution_count": null,
      "metadata": {
        "id": "TwHsQRWjz3i9",
        "outputId": "86849db3-cd2f-4cc5-ebb8-2d0caafa1a2c"
      },
      "outputs": [],
      "source": [
        "os.chdir(os.path.dirname(current_dir))\n",
        "print(\"You set a new current directory\")"
      ]
    },
    {
      "cell_type": "markdown",
      "metadata": {
        "id": "M_xPk_Ijz3i-"
      },
      "source": [
        "Confirm the new current directory"
      ]
    },
    {
      "cell_type": "code",
      "execution_count": null,
      "metadata": {
        "id": "vz3S-_kjz3jA",
        "outputId": "00b79ae4-75d0-4a96-d193-ac9ef9847ea2"
      },
      "outputs": [],
      "source": [
        "current_dir = os.getcwd()\n",
        "current_dir"
      ]
    },
    {
      "cell_type": "markdown",
      "metadata": {
        "id": "-mavJ8DibrcQ"
      },
      "source": [
        "# Install Kaggle"
      ]
    },
    {
      "cell_type": "code",
      "execution_count": null,
      "metadata": {},
      "outputs": [],
      "source": [
        "%pip install kaggle==1.5.12"
      ]
    },
    {
      "cell_type": "code",
      "execution_count": null,
      "metadata": {},
      "outputs": [],
      "source": [
        "os.environ['KAGGLE_CONFIG_DIR'] = os.getcwd()\n",
        "! chmod 600 kaggle.json"
      ]
    },
    {
      "cell_type": "code",
      "execution_count": null,
      "metadata": {},
      "outputs": [],
      "source": [
        "KaggleDatasetPath = \"kmader/skin-cancer-mnist-ham10000\"\n",
        "DestinationFolder = \"inputs/skin_cancer_dataset\"   \n",
        "! kaggle datasets download -d {KaggleDatasetPath} -p {DestinationFolder}"
      ]
    },
    {
      "cell_type": "code",
      "execution_count": null,
      "metadata": {},
      "outputs": [],
      "source": [
        "import zipfile\n",
        "with zipfile.ZipFile(DestinationFolder + '/skin-cancer-lesions-classification.zip', 'r') as zip_ref:\n",
        "    zip_ref.extractall(DestinationFolder)\n",
        "\n",
        "os.remove(DestinationFolder + '/skin-cancer-lesions-classification.zip')"
      ]
    },
    {
      "cell_type": "markdown",
      "metadata": {
        "id": "ZY3l0-AxO93d"
      },
      "source": [
        "---"
      ]
    },
    {
      "cell_type": "markdown",
      "metadata": {
        "id": "uFQo3ycuO-v6"
      },
      "source": [
        "# Section 2"
      ]
    },
    {
      "cell_type": "markdown",
      "metadata": {},
      "source": [
        "Section 2 content"
      ]
    },
    {
      "cell_type": "code",
      "execution_count": null,
      "metadata": {},
      "outputs": [],
      "source": []
    },
    {
      "cell_type": "markdown",
      "metadata": {},
      "source": [
        "---"
      ]
    },
    {
      "cell_type": "markdown",
      "metadata": {},
      "source": [
        "NOTE"
      ]
    },
    {
      "cell_type": "markdown",
      "metadata": {},
      "source": [
        "* You may add as many sections as you want, as long as it supports your project workflow.\n",
        "* All notebook's cells should be run top-down (you can't create a dynamic wherein a given point you need to go back to a previous cell to execute some task, like go back to a previous cell and refresh a variable content)"
      ]
    },
    {
      "cell_type": "markdown",
      "metadata": {},
      "source": [
        "---"
      ]
    },
    {
      "cell_type": "markdown",
      "metadata": {
        "id": "ltNetd085qHf"
      },
      "source": [
        "# Push files to Repo"
      ]
    },
    {
      "cell_type": "markdown",
      "metadata": {},
      "source": [
        "* In case you don't need to push files to Repo, you may replace this section with \"Conclusions and Next Steps\" and state your conclusions and next steps."
      ]
    },
    {
      "cell_type": "code",
      "execution_count": null,
      "metadata": {
        "id": "aKlnIozA4eQO",
        "outputId": "fd09bc1f-adb1-4511-f6ce-492a6af570c0"
      },
      "outputs": [],
      "source": [
        "import os\n",
        "try:\n",
        "  # create here your folder\n",
        "  # os.makedirs(name='')\n",
        "except Exception as e:\n",
        "  print(e)\n"
      ]
    }
  ],
  "metadata": {
    "accelerator": "GPU",
    "colab": {
      "name": "Data Practitioner Jupyter Notebook.ipynb",
      "provenance": [],
      "toc_visible": true
    },
    "interpreter": {
      "hash": "8b8334dab9339717f727a1deaf837b322d7a41c20d15cc86be99a8e69ceec8ce"
    },
    "kernelspec": {
      "display_name": "Python 3.8.12 64-bit ('3.8.12': pyenv)",
      "name": "python381264bit3812pyenveef999ab31d34ec5ab0b207923d7a7e0"
    },
    "language_info": {
      "codemirror_mode": {
        "name": "ipython",
        "version": 3
      },
      "file_extension": ".py",
      "mimetype": "text/x-python",
      "name": "python",
      "nbconvert_exporter": "python",
      "pygments_lexer": "ipython3",
      "version": "3.8.12-final"
    },
    "orig_nbformat": 2
  },
  "nbformat": 4,
  "nbformat_minor": 2
}