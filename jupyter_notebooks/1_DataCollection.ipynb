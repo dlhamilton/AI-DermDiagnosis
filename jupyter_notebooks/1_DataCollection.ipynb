{
 "cells": [
  {
   "attachments": {},
   "cell_type": "markdown",
   "metadata": {
    "id": "0aStgWSO0E0E"
   },
   "source": [
    "# **Data Collection**"
   ]
  },
  {
   "attachments": {},
   "cell_type": "markdown",
   "metadata": {
    "id": "1eLEkw5O0ECa"
   },
   "source": [
    "## Objectives\n",
    "\n",
    "* Fetch data from Kaggle and prepare it for further processes.\n",
    "\n",
    "## Inputs\n",
    "\n",
    "* Kaggle JSON file - the authentication token.\n",
    "\n",
    "## Outputs\n",
    "\n",
    "* Generate Dataset: inputs/datasets/skin_cancer_dataset\n",
    "\n",
    "## Additional Comments\n",
    "\n",
    "* No additional comments.\n"
   ]
  },
  {
   "attachments": {},
   "cell_type": "markdown",
   "metadata": {
    "id": "9uWZXH9LwoQg"
   },
   "source": [
    "---"
   ]
  },
  {
   "attachments": {},
   "cell_type": "markdown",
   "metadata": {},
   "source": [
    "# Import packages"
   ]
  },
  {
   "cell_type": "code",
   "execution_count": null,
   "metadata": {
    "tags": []
   },
   "outputs": [],
   "source": [
    "%pip install -r ../requirements.txt"
   ]
  },
  {
   "cell_type": "code",
   "execution_count": null,
   "metadata": {},
   "outputs": [],
   "source": [
    "import numpy\n",
    "import os"
   ]
  },
  {
   "attachments": {},
   "cell_type": "markdown",
   "metadata": {
    "id": "cqP-UeN-z3i2"
   },
   "source": [
    "# Change working directory"
   ]
  },
  {
   "cell_type": "code",
   "execution_count": null,
   "metadata": {
    "id": "wZfF_j-Bz3i4",
    "outputId": "66943449-1436-4c3d-85c7-b85f9f78349b"
   },
   "outputs": [],
   "source": [
    "current_dir = os.getcwd()\n",
    "current_dir"
   ]
  },
  {
   "cell_type": "code",
   "execution_count": null,
   "metadata": {
    "id": "TwHsQRWjz3i9",
    "outputId": "86849db3-cd2f-4cc5-ebb8-2d0caafa1a2c",
    "tags": []
   },
   "outputs": [],
   "source": [
    "os.chdir(os.path.dirname(current_dir))\n",
    "print(\"You set a new current directory\")"
   ]
  },
  {
   "attachments": {},
   "cell_type": "markdown",
   "metadata": {
    "id": "M_xPk_Ijz3i-"
   },
   "source": [
    "Confirm the new current directory"
   ]
  },
  {
   "cell_type": "code",
   "execution_count": null,
   "metadata": {
    "id": "vz3S-_kjz3jA",
    "outputId": "00b79ae4-75d0-4a96-d193-ac9ef9847ea2"
   },
   "outputs": [],
   "source": [
    "current_dir = os.getcwd()\n",
    "current_dir"
   ]
  },
  {
   "attachments": {},
   "cell_type": "markdown",
   "metadata": {
    "id": "-mavJ8DibrcQ"
   },
   "source": [
    "# Install Kaggle"
   ]
  },
  {
   "cell_type": "code",
   "execution_count": null,
   "metadata": {
    "tags": []
   },
   "outputs": [],
   "source": [
    "%pip install kaggle==1.5.12"
   ]
  },
  {
   "cell_type": "code",
   "execution_count": null,
   "metadata": {
    "tags": []
   },
   "outputs": [],
   "source": [
    "os.environ['KAGGLE_CONFIG_DIR'] = os.getcwd()\n",
    "! chmod 600 kaggle.json"
   ]
  },
  {
   "cell_type": "code",
   "execution_count": null,
   "metadata": {
    "tags": []
   },
   "outputs": [],
   "source": [
    "KaggleDatasetPath = \"kmader/skin-cancer-mnist-ham10000\"\n",
    "DestinationFolder = \"inputs/skin_cancer_dataset\"   \n",
    "! kaggle datasets download -d {KaggleDatasetPath} -p {DestinationFolder}"
   ]
  },
  {
   "cell_type": "code",
   "execution_count": null,
   "metadata": {},
   "outputs": [],
   "source": [
    "import zipfile\n",
    "with zipfile.ZipFile(DestinationFolder + '/skin-cancer-mnist-ham10000.zip', 'r') as zip_ref:\n",
    "    zip_ref.extractall(DestinationFolder)\n",
    "\n",
    "os.remove(DestinationFolder + '/skin-cancer-mnist-ham10000.zip')"
   ]
  },
  {
   "attachments": {},
   "cell_type": "markdown",
   "metadata": {
    "id": "ZY3l0-AxO93d"
   },
   "source": [
    "---"
   ]
  },
  {
   "attachments": {},
   "cell_type": "markdown",
   "metadata": {
    "id": "uFQo3ycuO-v6"
   },
   "source": [
    "# Data Preparation"
   ]
  },
  {
   "attachments": {},
   "cell_type": "markdown",
   "metadata": {},
   "source": [
    "## Data Inspection"
   ]
  },
  {
   "attachments": {},
   "cell_type": "markdown",
   "metadata": {},
   "source": [
    "### Check missing data in csv"
   ]
  },
  {
   "cell_type": "code",
   "execution_count": null,
   "metadata": {},
   "outputs": [],
   "source": [
    "import pandas as pd\n",
    "# 1. Data Loading\n",
    "df = pd.read_csv(DestinationFolder+'/HAM10000_metadata.csv')\n",
    "\n",
    "# 2. Data Inspection\n",
    "missing_values = df.isnull().sum()\n",
    "print(f\"Missing values in each column:\\n{missing_values}\")"
   ]
  },
  {
   "attachments": {},
   "cell_type": "markdown",
   "metadata": {},
   "source": [
    "dropping rows with missing data. Might drop age but will check. age may be a factor in the prediction, associated images will need to be dropped as well. "
   ]
  },
  {
   "cell_type": "code",
   "execution_count": null,
   "metadata": {},
   "outputs": [],
   "source": [
    "# df = df.dropna()"
   ]
  },
  {
   "attachments": {},
   "cell_type": "markdown",
   "metadata": {},
   "source": [
    "### Check and remove non-image files"
   ]
  },
  {
   "cell_type": "code",
   "execution_count": null,
   "metadata": {},
   "outputs": [],
   "source": [
    "def check_for_non_image_file(my_data_dir):\n",
    "    image_extension = ('.png', '.jpg', '.jpeg')\n",
    "    folders = os.listdir(my_data_dir)\n",
    "    \n",
    "    for folder in folders:\n",
    "        if 'images' in folder:\n",
    "            files = os.listdir(my_data_dir + '/' + folder)\n",
    "            # print(files)\n",
    "            i = []\n",
    "            j = []\n",
    "            for given_file in files:\n",
    "                if not given_file.lower().endswith(image_extension):\n",
    "                    #file_location = my_data_dir + '/' + folder + '/' + given_file\n",
    "                    #os.remove(file_location)  # remove non image file\n",
    "                    i.append(1)\n",
    "                else:\n",
    "                    j.append(1)\n",
    "                    pass\n",
    "            print(f\"Folder: {folder} - has image file\", len(j))\n",
    "            print(f\"Folder: {folder} - has non-image file\", len(i))"
   ]
  },
  {
   "cell_type": "code",
   "execution_count": null,
   "metadata": {},
   "outputs": [],
   "source": [
    "check_for_non_image_file(my_data_dir='inputs/skin_cancer_dataset')"
   ]
  },
  {
   "attachments": {},
   "cell_type": "markdown",
   "metadata": {},
   "source": [
    "### Label Preparation"
   ]
  },
  {
   "cell_type": "code",
   "execution_count": null,
   "metadata": {},
   "outputs": [],
   "source": [
    "diagnosis_unique = df['dx'].unique()\n",
    "print(diagnosis_unique)"
   ]
  },
  {
   "cell_type": "code",
   "execution_count": null,
   "metadata": {},
   "outputs": [],
   "source": [
    "y = pd.get_dummies(df['dx'])\n",
    "\n",
    "print(y.head())"
   ]
  },
  {
   "cell_type": "code",
   "execution_count": null,
   "metadata": {},
   "outputs": [],
   "source": [
    "# Assuming df['dx'] is your column with the diagnosis\n",
    "y = pd.get_dummies(df['dx'])\n",
    "\n",
    "# Concatenate original DataFrame with the new DataFrame\n",
    "df_new = pd.concat([df, y], axis=1)\n",
    "\n",
    "# To see the new DataFrame\n",
    "print(df_new.head())"
   ]
  },
  {
   "attachments": {},
   "cell_type": "markdown",
   "metadata": {},
   "source": [
    "## Move data into class Labels"
   ]
  },
  {
   "cell_type": "code",
   "execution_count": null,
   "metadata": {},
   "outputs": [],
   "source": [
    "import shutil\n",
    "# Load the metadata\n",
    "metadata = pd.read_csv('inputs/skin_cancer_dataset/HAM10000_metadata.csv')\n",
    "\n",
    "# Define the directories where the images are stored\n",
    "directories = [\n",
    "    'inputs/skin_cancer_dataset/HAM10000_images_part_1',\n",
    "    'inputs/skin_cancer_dataset/HAM10000_images_part_2',\n",
    "]\n",
    "\n",
    "# Create a new folder for each class label if it doesn't exist\n",
    "for class_label in metadata['dx'].unique():\n",
    "    os.makedirs(f'inputs/skin_cancer_dataset/sorted_images/{class_label}', exist_ok=True)\n",
    "\n",
    "# Iterate over the metadata and move each image into the folder of its class label\n",
    "for idx, row in metadata.iterrows():\n",
    "    image_id = row['image_id']\n",
    "    class_label = row['dx']\n",
    "    for directory in directories:\n",
    "        # Check if the image file exists in this directory\n",
    "        if os.path.isfile(f'{directory}/{image_id}.jpg'):\n",
    "            # Move the file and stop checking the other directories\n",
    "            shutil.move(f'{directory}/{image_id}.jpg', f'inputs/skin_cancer_dataset/sorted_images/{class_label}/{image_id}.jpg')\n",
    "            break\n",
    "\n",
    "# Remove the original directories if they are empty\n",
    "for directory in directories:\n",
    "    if not os.listdir(directory):\n",
    "        os.rmdir(directory)"
   ]
  },
  {
   "attachments": {},
   "cell_type": "markdown",
   "metadata": {},
   "source": [
    "### Split train validation test set"
   ]
  },
  {
   "cell_type": "code",
   "execution_count": null,
   "metadata": {},
   "outputs": [],
   "source": [
    "import random\n",
    "def split_train_validation_test_images(data_dir, train_ratio, validation_ratio, test_ratio):\n",
    "\n",
    "    if train_ratio + validation_ratio + test_ratio != 1.0:\n",
    "        print(\"train_ratio + validation_ratio + test_ratio should sum to 1.0\")\n",
    "        return\n",
    "\n",
    "    # gets classes labels\n",
    "    labels = os.listdir(data_dir)  # it should get only the folder name\n",
    "\n",
    "    for label in labels:\n",
    "\n",
    "        files = os.listdir(data_dir + '/' + label)\n",
    "        random.shuffle(files)\n",
    "\n",
    "        train_files_qty = int(len(files) * train_ratio)\n",
    "        validation_files_qty = int(len(files) * validation_ratio)\n",
    "\n",
    "        for count, file_name in enumerate(files):\n",
    "            if count < train_files_qty:\n",
    "                # move a given file to the train set\n",
    "                if not os.path.exists(data_dir + '/train/' + label):\n",
    "                    os.makedirs(data_dir + '/train/' + label)\n",
    "                shutil.move(data_dir + '/' + label + '/' + file_name, data_dir + '/train/' + label + '/' + file_name)\n",
    "\n",
    "            elif count < (train_files_qty + validation_files_qty):\n",
    "                # move a given file to the validation set\n",
    "                if not os.path.exists(data_dir + '/validation/' + label):\n",
    "                    os.makedirs(data_dir + '/validation/' + label)\n",
    "                shutil.move(data_dir + '/' + label + '/' + file_name, data_dir + '/validation/' + label + '/' + file_name)\n",
    "            \n",
    "            else:\n",
    "                # move given file to test set\n",
    "                if not os.path.exists(data_dir + '/test/' + label):\n",
    "                    os.makedirs(data_dir + '/test/' + label)\n",
    "                shutil.move(data_dir + '/' + label + '/' + file_name, data_dir + '/test/' + label + '/' + file_name)\n",
    "                \n",
    "        os.rmdir(data_dir + '/' + label)"
   ]
  },
  {
   "attachments": {},
   "cell_type": "markdown",
   "metadata": {},
   "source": [
    "- The training set is divided into a 0.70 ratio of data.\n",
    "- The validation set is divided into a 0.10 ratio of data.\n",
    "- The test set is divided into a 0.20 ratio of data."
   ]
  },
  {
   "cell_type": "code",
   "execution_count": null,
   "metadata": {},
   "outputs": [],
   "source": [
    "split_train_validation_test_images(data_dir='inputs/skin_cancer_dataset/sorted_images', train_ratio=0.7, validation_ratio=0.1, test_ratio=0.2)"
   ]
  },
  {
   "attachments": {},
   "cell_type": "markdown",
   "metadata": {},
   "source": [
    "---"
   ]
  },
  {
   "attachments": {},
   "cell_type": "markdown",
   "metadata": {
    "id": "ltNetd085qHf"
   },
   "source": [
    "# Push files to Repo"
   ]
  }
 ],
 "metadata": {
  "accelerator": "GPU",
  "colab": {
   "name": "Data Practitioner Jupyter Notebook.ipynb",
   "provenance": [],
   "toc_visible": true
  },
  "kernelspec": {
   "display_name": "Python 3",
   "language": "python",
   "name": "python3"
  },
  "language_info": {
   "codemirror_mode": {
    "name": "ipython",
    "version": 3
   },
   "file_extension": ".py",
   "mimetype": "text/x-python",
   "name": "python",
   "nbconvert_exporter": "python",
   "pygments_lexer": "ipython3",
   "version": "3.8.12"
  }
 },
 "nbformat": 4,
 "nbformat_minor": 2
}
